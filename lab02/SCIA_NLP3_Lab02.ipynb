{
  "nbformat": 4,
  "nbformat_minor": 0,
  "metadata": {
    "colab": {
      "provenance": [],
      "include_colab_link": true
    },
    "kernelspec": {
      "name": "python3",
      "display_name": "Python 3"
    },
    "language_info": {
      "name": "python"
    }
  },
  "cells": [
    {
      "cell_type": "markdown",
      "metadata": {
        "id": "view-in-github",
        "colab_type": "text"
      },
      "source": [
        "<a href=\"https://colab.research.google.com/github/yxyfer/EPTIA_NLP3/blob/main/lab02/SCIA_NLP3_Lab02.ipynb\" target=\"_parent\"><img src=\"https://colab.research.google.com/assets/colab-badge.svg\" alt=\"Open In Colab\"/></a>"
      ]
    },
    {
      "cell_type": "code",
      "metadata": {
        "id": "444rw1H7Tc5X"
      },
      "source": [
        "import os \n",
        "import pandas as pd \n",
        "\n",
        "from IPython.display import HTML"
      ],
      "execution_count": null,
      "outputs": []
    },
    {
      "cell_type": "code",
      "metadata": {
        "id": "DZZ-lQ6ZCSkw"
      },
      "source": [
        "%%capture\n",
        "! pip install fasttext"
      ],
      "execution_count": null,
      "outputs": []
    },
    {
      "cell_type": "markdown",
      "metadata": {
        "id": "OdJi0t01bK4w"
      },
      "source": [
        "# I. Language detection (24 points)"
      ]
    },
    {
      "cell_type": "markdown",
      "metadata": {
        "id": "KLTloWrXUPjX"
      },
      "source": [
        "## Setup "
      ]
    },
    {
      "cell_type": "code",
      "metadata": {
        "colab": {
          "base_uri": "https://localhost:8080/"
        },
        "id": "pvSPXjija_s3",
        "outputId": "3a9ffe46-a98c-499c-b396-90f5d4c455d6"
      },
      "source": [
        "! git clone https://github.com/MastafaF/LanguageDetection.git"
      ],
      "execution_count": null,
      "outputs": [
        {
          "output_type": "stream",
          "name": "stdout",
          "text": [
            "Cloning into 'LanguageDetection'...\n",
            "remote: Enumerating objects: 11, done.\u001b[K\n",
            "remote: Counting objects: 100% (11/11), done.\u001b[K\n",
            "remote: Compressing objects: 100% (8/8), done.\u001b[K\n",
            "remote: Total 11 (delta 2), reused 4 (delta 1), pack-reused 0\u001b[K\n",
            "Unpacking objects: 100% (11/11), done.\n"
          ]
        }
      ]
    },
    {
      "cell_type": "code",
      "metadata": {
        "colab": {
          "base_uri": "https://localhost:8080/"
        },
        "id": "i1FzKr_KTn--",
        "outputId": "4509f837-a6bb-412a-8662-0a67c1ff8b9d"
      },
      "source": [
        "os.listdir(\"./LanguageDetection\")"
      ],
      "execution_count": null,
      "outputs": [
        {
          "output_type": "execute_result",
          "data": {
            "text/plain": [
              "['README.md', 'dataset.csv.zip', '.gitignore', 'LICENSE', '.git']"
            ]
          },
          "metadata": {},
          "execution_count": 10
        }
      ]
    },
    {
      "cell_type": "code",
      "metadata": {
        "id": "vUX_IVaqTrGY"
      },
      "source": [
        "# CD the LanguageDetection folder - we are working in the below folder now\n",
        "os.chdir(\"./LanguageDetection\")"
      ],
      "execution_count": null,
      "outputs": []
    },
    {
      "cell_type": "code",
      "metadata": {
        "colab": {
          "base_uri": "https://localhost:8080/"
        },
        "id": "kCV5bn74UAPv",
        "outputId": "61a0ad31-4b11-486c-d36e-de2a70130046"
      },
      "source": [
        "! unzip dataset.csv.zip"
      ],
      "execution_count": null,
      "outputs": [
        {
          "output_type": "stream",
          "name": "stdout",
          "text": [
            "Archive:  dataset.csv.zip\n",
            "  inflating: dataset.csv             \n"
          ]
        }
      ]
    },
    {
      "cell_type": "markdown",
      "metadata": {
        "id": "vIBh8insUSc-"
      },
      "source": [
        "## Data Exploration Analysis"
      ]
    },
    {
      "cell_type": "code",
      "metadata": {
        "id": "xDfv7hhSUN6i"
      },
      "source": [
        "data = pd.read_csv(\"./dataset.csv\")"
      ],
      "execution_count": null,
      "outputs": []
    },
    {
      "cell_type": "code",
      "metadata": {
        "colab": {
          "base_uri": "https://localhost:8080/",
          "height": 185
        },
        "id": "JAXFNxudyfTr",
        "outputId": "a3b07aac-4508-418a-ae03-e565dd07d908"
      },
      "source": [
        "# Sample of the data\n",
        "HTML(data[data.language == \"Chinese\"].sample().to_html())"
      ],
      "execution_count": null,
      "outputs": [
        {
          "output_type": "execute_result",
          "data": {
            "text/html": [
              "<table border=\"1\" class=\"dataframe\">\n",
              "  <thead>\n",
              "    <tr style=\"text-align: right;\">\n",
              "      <th></th>\n",
              "      <th>Text</th>\n",
              "      <th>language</th>\n",
              "    </tr>\n",
              "  </thead>\n",
              "  <tbody>\n",
              "    <tr>\n",
              "      <th>16252</th>\n",
              "      <td>年月日，斯大林参加雅尔塔会议，根据协议，苏联成为联合国常任理事国成员，并将波兰等地划入自己的势力范围。月，苏联红军攻克德国首都柏林，希特勒自杀身亡，纳粹德国宣告无条件投降。同时苏军进入并控制东南欧等地区。月日，斯大林出席波茨坦会议。月日，苏联撕毁《苏日中立条约》向日本宣战，同时立即发起八月风暴行动入侵满洲。一周之内，苏蒙联军迅速击溃日本关东军和满洲国军，推翻日本扶持的傀儡政权满洲国和蒙疆自治政府。月日，裕仁天皇宣布日本投降。第二次世界大战以同盟国的胜利告终，而苏联也在战争中付出重大牺牲（死亡人数达到万人）。同年，斯大林获苏联大元帅军衔。</td>\n",
              "      <td>Chinese</td>\n",
              "    </tr>\n",
              "  </tbody>\n",
              "</table>"
            ],
            "text/plain": [
              "<IPython.core.display.HTML object>"
            ]
          },
          "metadata": {},
          "execution_count": 14
        }
      ]
    },
    {
      "cell_type": "markdown",
      "metadata": {
        "id": "FN0ADAdPVejT"
      },
      "source": [
        "### Question 1. Describe the distribution of languages and give at least two comments about the dataset. (1 point)"
      ]
    },
    {
      "cell_type": "code",
      "metadata": {
        "id": "Fd1UdWiiVcoJ"
      },
      "source": [
        "################################################\n",
        "# your implementation goes here\n",
        "\n",
        "pass \n",
        "##################################################"
      ],
      "execution_count": null,
      "outputs": []
    },
    {
      "cell_type": "markdown",
      "metadata": {
        "id": "czrUUAqJyoyW"
      },
      "source": [
        "### Question 2-5. Explore the data with your own preprocessing and train your model"
      ]
    },
    {
      "cell_type": "code",
      "metadata": {
        "id": "nNoW0UnlW4Bk"
      },
      "source": [
        "import numpy as np\n",
        "from sklearn.model_selection import train_test_split\n",
        "\n",
        "X=data['Text']\n",
        "y=data['language']\n",
        "\n",
        "\n",
        "################################################\n",
        "# your implementation goes here\n",
        "\n",
        "pass\n",
        "################################################"
      ],
      "execution_count": null,
      "outputs": []
    },
    {
      "cell_type": "markdown",
      "metadata": {
        "id": "C0614tVO--6G"
      },
      "source": [
        "## FastText for language detection"
      ]
    },
    {
      "cell_type": "markdown",
      "metadata": {
        "id": "lhGvhp6kf8E5"
      },
      "source": [
        "## FastText training setup "
      ]
    },
    {
      "cell_type": "code",
      "metadata": {
        "colab": {
          "base_uri": "https://localhost:8080/"
        },
        "id": "9ZtDxw9D9aPh",
        "outputId": "6d78d85a-dffa-419d-85c1-82375d4de4cf"
      },
      "source": [
        "! wget http://downloads.tatoeba.org/exports/sentences.tar.bz2"
      ],
      "execution_count": null,
      "outputs": [
        {
          "output_type": "stream",
          "name": "stdout",
          "text": [
            "--2021-11-01 14:44:47--  http://downloads.tatoeba.org/exports/sentences.tar.bz2\n",
            "Resolving downloads.tatoeba.org (downloads.tatoeba.org)... 94.130.77.194\n",
            "Connecting to downloads.tatoeba.org (downloads.tatoeba.org)|94.130.77.194|:80... connected.\n",
            "HTTP request sent, awaiting response... 301 Moved Permanently\n",
            "Location: https://downloads.tatoeba.org/exports/sentences.tar.bz2 [following]\n",
            "--2021-11-01 14:44:47--  https://downloads.tatoeba.org/exports/sentences.tar.bz2\n",
            "Connecting to downloads.tatoeba.org (downloads.tatoeba.org)|94.130.77.194|:443... connected.\n",
            "HTTP request sent, awaiting response... 200 OK\n",
            "Length: 155856043 (149M) [application/octet-stream]\n",
            "Saving to: ‘sentences.tar.bz2’\n",
            "\n",
            "sentences.tar.bz2   100%[===================>] 148.64M  28.4MB/s    in 5.9s    \n",
            "\n",
            "2021-11-01 14:44:54 (25.4 MB/s) - ‘sentences.tar.bz2’ saved [155856043/155856043]\n",
            "\n"
          ]
        }
      ]
    },
    {
      "cell_type": "code",
      "metadata": {
        "id": "t9ETznJA9cLw"
      },
      "source": [
        "! bunzip2 sentences.tar.bz2"
      ],
      "execution_count": null,
      "outputs": []
    },
    {
      "cell_type": "code",
      "metadata": {
        "colab": {
          "base_uri": "https://localhost:8080/"
        },
        "id": "cihDm5c99oZh",
        "outputId": "32f4546f-fe08-49e8-8ed3-53f86bfc740f"
      },
      "source": [
        "! ls"
      ],
      "execution_count": null,
      "outputs": [
        {
          "output_type": "stream",
          "name": "stdout",
          "text": [
            "dataset.csv  dataset.csv.zip  LICENSE  README.md  sentences.tar\n"
          ]
        }
      ]
    },
    {
      "cell_type": "code",
      "metadata": {
        "colab": {
          "base_uri": "https://localhost:8080/"
        },
        "id": "yPZSloMN-cM0",
        "outputId": "7d57a6c4-3d01-4835-d5f9-906d8270bb52"
      },
      "source": [
        "! tar xvf sentences.tar"
      ],
      "execution_count": null,
      "outputs": [
        {
          "output_type": "stream",
          "name": "stdout",
          "text": [
            "sentences.csv\n"
          ]
        }
      ]
    },
    {
      "cell_type": "code",
      "metadata": {
        "colab": {
          "base_uri": "https://localhost:8080/"
        },
        "id": "Si8T701N-h5p",
        "outputId": "b6913132-02ae-40fc-fd2f-2a43c8328c5f"
      },
      "source": [
        "! ls"
      ],
      "execution_count": null,
      "outputs": [
        {
          "output_type": "stream",
          "name": "stdout",
          "text": [
            "dataset.csv  dataset.csv.zip  LICENSE  README.md  sentences.csv  sentences.tar\n"
          ]
        }
      ]
    },
    {
      "cell_type": "code",
      "metadata": {
        "colab": {
          "base_uri": "https://localhost:8080/"
        },
        "id": "rtjL8hYg-nZJ",
        "outputId": "bfa7c0d1-938f-4206-f2b0-1177b356a091"
      },
      "source": [
        "! head -10 sentences.csv"
      ],
      "execution_count": null,
      "outputs": [
        {
          "output_type": "stream",
          "name": "stdout",
          "text": [
            "1\tcmn\t我們試試看！\n",
            "2\tcmn\t我该去睡觉了。\n",
            "3\tcmn\t你在干什麼啊？\n",
            "4\tcmn\t這是什麼啊？\n",
            "5\tcmn\t今天是６月１８号，也是Muiriel的生日！\n",
            "6\tcmn\t生日快乐，Muiriel！\n",
            "7\tcmn\tMuiriel现在20岁了。\n",
            "8\tcmn\t密码是\"Muiriel\"。\n",
            "9\tcmn\t我很快就會回來。\n",
            "10\tcmn\t我不知道。\n"
          ]
        }
      ]
    },
    {
      "cell_type": "code",
      "metadata": {
        "id": "KTtbtb5E-tFP"
      },
      "source": [
        "! awk -F\"\\t\" '{print\"__label__\"$2\" \"$3}' < sentences.csv | shuf > all.txt"
      ],
      "execution_count": null,
      "outputs": []
    },
    {
      "cell_type": "code",
      "metadata": {
        "colab": {
          "base_uri": "https://localhost:8080/"
        },
        "id": "E5CwoZkl_JS2",
        "outputId": "74385dd1-4f84-48dc-8137-02479d10dbed"
      },
      "source": [
        "! ls"
      ],
      "execution_count": null,
      "outputs": [
        {
          "output_type": "stream",
          "name": "stdout",
          "text": [
            "all.txt      dataset.csv.zip  README.md      sentences.tar\n",
            "dataset.csv  LICENSE\t      sentences.csv\n"
          ]
        }
      ]
    },
    {
      "cell_type": "code",
      "metadata": {
        "colab": {
          "base_uri": "https://localhost:8080/"
        },
        "id": "Uj17b-zF_V65",
        "outputId": "0caf6c25-5947-42c8-a99a-103482e48168"
      },
      "source": [
        "! head -5 all.txt"
      ],
      "execution_count": null,
      "outputs": [
        {
          "output_type": "stream",
          "name": "stdout",
          "text": [
            "__label__ber Ur bɣint ara ad d-aɣent asegzawal tafṛansit-takatalanit.\n",
            "__label__epo Tom deziras riĉiĝi kaj famiĝi.\n",
            "__label__deu Tom sagte, das sei bei weitem nicht gut genug.\n",
            "__label__kab Amek i ilaq ara ad yekteb talɣa s tendunizit?\n",
            "__label__epo Ĉu ni havas raspitan fromaĝon?\n"
          ]
        }
      ]
    },
    {
      "cell_type": "code",
      "metadata": {
        "id": "eJFTaHZ8_D6V"
      },
      "source": [
        "! head -n 10000 all.txt > valid.txt"
      ],
      "execution_count": null,
      "outputs": []
    },
    {
      "cell_type": "code",
      "metadata": {
        "id": "FJeo9_MD_qq8"
      },
      "source": [
        "! tail -n +10001 all.txt > train.txt"
      ],
      "execution_count": null,
      "outputs": []
    },
    {
      "cell_type": "code",
      "metadata": {
        "colab": {
          "base_uri": "https://localhost:8080/"
        },
        "id": "2ZSiMBU7Aabp",
        "outputId": "7826a4ac-cfd7-44b4-b9e4-1a57de568d2e"
      },
      "source": [
        "! head -5 train.txt"
      ],
      "execution_count": null,
      "outputs": [
        {
          "output_type": "stream",
          "name": "stdout",
          "text": [
            "__label__asm তাৰ পইচাৰ দৰকাৰ হৈছে।\n",
            "__label__tur O, bir dolap çeviriyor.\n",
            "__label__tur Bazı genç kadınlar kötü oğlanları cezbediyor.\n",
            "__label__por O Japão possui muitas atrações turísticas.\n",
            "__label__ukr Я довідалася про Ваш портативний копір на Tokyo Office Expo 97.\n"
          ]
        }
      ]
    },
    {
      "cell_type": "markdown",
      "metadata": {
        "id": "4YN516w-3Mea"
      },
      "source": [
        "### Question 6.1. Train fasttext model on Tatoeba (2 points)"
      ]
    },
    {
      "cell_type": "code",
      "metadata": {
        "colab": {
          "base_uri": "https://localhost:8080/"
        },
        "id": "lpaHpA9QCLur",
        "outputId": "cda439d9-7b90-4855-db22-bd66d1013265"
      },
      "source": [
        "%%time\n",
        "import fasttext\n",
        "\n",
        "# Check the fasttext library and implement the training\n",
        "###########################################\n",
        "\n",
        "# your implementation goes here\n",
        "\n",
        "pass\n",
        "################################################\n",
        "\n",
        "# @TODO: Save your model when trained \n",
        "# model.save_model(\"langdetect.bin\")"
      ],
      "execution_count": null,
      "outputs": [
        {
          "output_type": "stream",
          "name": "stdout",
          "text": [
            "CPU times: user 12 µs, sys: 0 ns, total: 12 µs\n",
            "Wall time: 15.3 µs\n"
          ]
        }
      ]
    },
    {
      "cell_type": "code",
      "metadata": {
        "colab": {
          "base_uri": "https://localhost:8080/"
        },
        "id": "iFQcolkmIXZr",
        "outputId": "dac3f9ac-721f-4512-d8c1-89d2285a2083"
      },
      "source": [
        "# Sanity check \n",
        "model.predict(\"I am French and I love English\")"
      ],
      "execution_count": null,
      "outputs": [
        {
          "output_type": "execute_result",
          "data": {
            "text/plain": [
              "(('__label__eng',), array([1.00001001]))"
            ]
          },
          "metadata": {},
          "execution_count": 36
        }
      ]
    },
    {
      "cell_type": "markdown",
      "metadata": {
        "id": "PZYQz3zh3VK5"
      },
      "source": [
        "### Question 6.2. Evaluate performance of fasttext model on valid.txt (1 point)"
      ]
    },
    {
      "cell_type": "code",
      "metadata": {
        "id": "SWNZ5TSdKGgT"
      },
      "source": [
        "# Hint: Create dataframe from valid.txt and evaluate performance \n",
        "\n",
        "###########################################\n",
        "\n",
        "# your implementation goes here\n",
        "\n",
        "pass\n",
        "################################################"
      ],
      "execution_count": null,
      "outputs": []
    },
    {
      "cell_type": "markdown",
      "metadata": {
        "id": "KssPimX_lbNS"
      },
      "source": [
        "### Question 7 & 8. Test your FastText model on the same dataset as question 5."
      ]
    },
    {
      "cell_type": "code",
      "metadata": {
        "id": "oJYVrn8FhcQf"
      },
      "source": [
        "###########################################\n",
        "\n",
        "# your implementation goes here\n",
        "\n",
        "pass\n",
        "################################################"
      ],
      "execution_count": null,
      "outputs": []
    },
    {
      "cell_type": "code",
      "metadata": {
        "id": "7sgOYS7uhcB5"
      },
      "source": [
        "###########################################\n",
        "\n",
        "# your implementation goes here\n",
        "\n",
        "pass\n",
        "################################################"
      ],
      "execution_count": null,
      "outputs": []
    }
  ]
}