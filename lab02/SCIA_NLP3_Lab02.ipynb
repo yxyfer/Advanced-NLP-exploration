{
  "cells": [
    {
      "cell_type": "markdown",
      "metadata": {
        "id": "view-in-github",
        "colab_type": "text"
      },
      "source": [
        "<a href=\"https://colab.research.google.com/github/yxyfer/EPTIA_NLP3/blob/main/lab02/SCIA_NLP3_Lab02.ipynb\" target=\"_parent\"><img src=\"https://colab.research.google.com/assets/colab-badge.svg\" alt=\"Open In Colab\"/></a>"
      ]
    },
    {
      "cell_type": "code",
      "execution_count": null,
      "metadata": {
        "id": "444rw1H7Tc5X"
      },
      "outputs": [],
      "source": [
        "import os \n",
        "import pandas as pd \n",
        "\n",
        "from IPython.display import HTML"
      ]
    },
    {
      "cell_type": "code",
      "execution_count": null,
      "metadata": {
        "id": "DZZ-lQ6ZCSkw"
      },
      "outputs": [],
      "source": [
        "%%capture\n",
        "! pip install fasttext"
      ]
    },
    {
      "cell_type": "markdown",
      "metadata": {
        "id": "OdJi0t01bK4w"
      },
      "source": [
        "# I. Language detection (24 points)"
      ]
    },
    {
      "cell_type": "code",
      "execution_count": null,
      "metadata": {
        "colab": {
          "base_uri": "https://localhost:8080/"
        },
        "id": "finb8qDKcU3i",
        "outputId": "4d91275f-dac1-4e91-cab9-77b5c5afc66d"
      },
      "outputs": [
        {
          "name": "stdout",
          "output_type": "stream",
          "text": [
            "Drive already mounted at /content/drive; to attempt to forcibly remount, call drive.mount(\"/content/drive\", force_remount=True).\n"
          ]
        }
      ],
      "source": [
        "# for the fasttext model that has been saved\n",
        "from google.colab import drive\n",
        "drive.mount('/content/drive')"
      ]
    },
    {
      "cell_type": "markdown",
      "metadata": {
        "id": "KLTloWrXUPjX"
      },
      "source": [
        "## Setup "
      ]
    },
    {
      "cell_type": "code",
      "execution_count": null,
      "metadata": {
        "id": "pvSPXjija_s3"
      },
      "outputs": [],
      "source": [
        "%%capture\n",
        "! git clone https://github.com/MastafaF/LanguageDetection.git"
      ]
    },
    {
      "cell_type": "code",
      "execution_count": null,
      "metadata": {
        "id": "vUX_IVaqTrGY"
      },
      "outputs": [],
      "source": [
        "# CD the LanguageDetection folder - we are working in the below folder now\n",
        "os.chdir(\"./LanguageDetection\")"
      ]
    },
    {
      "cell_type": "code",
      "execution_count": null,
      "metadata": {
        "colab": {
          "base_uri": "https://localhost:8080/",
          "height": 164
        },
        "id": "i1FzKr_KTn--",
        "outputId": "24074f76-6883-47ac-b4b6-940319ca3f27"
      },
      "outputs": [
        {
          "ename": "FileNotFoundError",
          "evalue": "ignored",
          "output_type": "error",
          "traceback": [
            "\u001b[0;31m---------------------------------------------------------------------------\u001b[0m",
            "\u001b[0;31mFileNotFoundError\u001b[0m                         Traceback (most recent call last)",
            "\u001b[0;32m<ipython-input-6-725a9ecd8b34>\u001b[0m in \u001b[0;36m<module>\u001b[0;34m\u001b[0m\n\u001b[0;32m----> 1\u001b[0;31m \u001b[0mos\u001b[0m\u001b[0;34m.\u001b[0m\u001b[0mlistdir\u001b[0m\u001b[0;34m(\u001b[0m\u001b[0;34m\"./LanguageDetection\"\u001b[0m\u001b[0;34m)\u001b[0m\u001b[0;34m\u001b[0m\u001b[0;34m\u001b[0m\u001b[0m\n\u001b[0m",
            "\u001b[0;31mFileNotFoundError\u001b[0m: [Errno 2] No such file or directory: './LanguageDetection'"
          ]
        }
      ],
      "source": [
        "os.listdir(\"./LanguageDetection\")"
      ]
    },
    {
      "cell_type": "code",
      "execution_count": null,
      "metadata": {
        "colab": {
          "base_uri": "https://localhost:8080/"
        },
        "id": "kCV5bn74UAPv",
        "outputId": "998b3b16-341b-4f5f-abc0-43b149ae6bfe"
      },
      "outputs": [
        {
          "name": "stdout",
          "output_type": "stream",
          "text": [
            "Archive:  dataset.csv.zip\n",
            "replace dataset.csv? [y]es, [n]o, [A]ll, [N]one, [r]ename: n\n"
          ]
        }
      ],
      "source": [
        "# only if not installed\n",
        "! unzip dataset.csv.zip"
      ]
    },
    {
      "cell_type": "markdown",
      "metadata": {
        "id": "vIBh8insUSc-"
      },
      "source": [
        "## Data Exploration Analysis"
      ]
    },
    {
      "cell_type": "code",
      "execution_count": null,
      "metadata": {
        "id": "xDfv7hhSUN6i"
      },
      "outputs": [],
      "source": [
        "data = pd.read_csv(\"./dataset.csv\")"
      ]
    },
    {
      "cell_type": "code",
      "execution_count": null,
      "metadata": {
        "colab": {
          "base_uri": "https://localhost:8080/",
          "height": 165
        },
        "id": "JAXFNxudyfTr",
        "outputId": "ef63bd04-a258-4fbf-b7f2-60c60d69f435"
      },
      "outputs": [
        {
          "data": {
            "text/html": [
              "<table border=\"1\" class=\"dataframe\">\n",
              "  <thead>\n",
              "    <tr style=\"text-align: right;\">\n",
              "      <th></th>\n",
              "      <th>Text</th>\n",
              "      <th>language</th>\n",
              "    </tr>\n",
              "  </thead>\n",
              "  <tbody>\n",
              "    <tr>\n",
              "      <th>2147</th>\n",
              "      <td>年五-六月份爆發澱粉含順丁烯二酸酐食安事件，並擴及全台灣，俗稱毒澱粉事件。這一波食品安全危機中，台南市部份澱粉廠商為主要供應毒澱粉來源，當時衛生署採用選定特定的類項食品的全面稽查末端小吃店方式，展現所謂「全國同步、積極稽查」的執行作為，要求店家出具檢驗合格證明文件，否則不得販售該類產品的措施。而台南市長賴清德砲轟此執行作為，本末倒置、並不具任何效益。並指示暫停此種無效益的行政稽查，台南市處理原則為「源頭管理、阻斷貨源、追查上下游、並輔導店家使用合法澱粉」，只查在台南市轄區內製造廠，透過查核供貨帳冊及出貨單，查出其下游中盤商，並在媒體前建議中央參考南市源頭管理的做法。在月日市政府第次市政會議上市長宣稱：『所有問題澱粉月日全數銷毀，已沒有問題澱粉在台南市轄區內流通，請全體市民安心』。年月日食藥局表示市售抽驗毒澱粉未再發現新案，決定跟進台南市政府的作法，不再強制小吃攤飯張貼安全證明。而後在月日檢方查出茂利澱粉廠二度販售毒澱粉，將毒澱粉重新包裝再低價賣出，供貨遍及全台各地夜市、小吃。對於再度爆發毒澱粉案市長賴清德僅表示痛心，南市衛生局長表示將依新食品衛生管理法開罰。月日三進粉業再度被查出有庫存未申報的毒澱粉。</td>\n",
              "      <td>Chinese</td>\n",
              "    </tr>\n",
              "  </tbody>\n",
              "</table>"
            ],
            "text/plain": [
              "<IPython.core.display.HTML object>"
            ]
          },
          "execution_count": 9,
          "metadata": {},
          "output_type": "execute_result"
        }
      ],
      "source": [
        "# Sample of the data\n",
        "HTML(data[data.language == \"Chinese\"].sample().to_html())"
      ]
    },
    {
      "cell_type": "markdown",
      "metadata": {
        "id": "FN0ADAdPVejT"
      },
      "source": [
        "### Question 1.1. Describe the distribution of languages and give at least two comments about the dataset. (1 point)"
      ]
    },
    {
      "cell_type": "code",
      "execution_count": null,
      "metadata": {
        "colab": {
          "base_uri": "https://localhost:8080/"
        },
        "id": "Fd1UdWiiVcoJ",
        "outputId": "bcaf9ee9-2ea9-46ef-ab48-b85a2332f449"
      },
      "outputs": [
        {
          "name": "stdout",
          "output_type": "stream",
          "text": [
            "language\n",
            "Arabic        1000\n",
            "Chinese       1000\n",
            "Dutch         1000\n",
            "English       1000\n",
            "Estonian      1000\n",
            "French        1000\n",
            "Hindi         1000\n",
            "Indonesian    1000\n",
            "Japanese      1000\n",
            "Korean        1000\n",
            "Latin         1000\n",
            "Persian       1000\n",
            "Portugese     1000\n",
            "Pushto        1000\n",
            "Romanian      1000\n",
            "Russian       1000\n",
            "Spanish       1000\n",
            "Swedish       1000\n",
            "Tamil         1000\n",
            "Thai          1000\n",
            "Turkish       1000\n",
            "Urdu          1000\n",
            "dtype: int64\n"
          ]
        }
      ],
      "source": [
        "################################################\n",
        "# your implementation goes here\n",
        "\n",
        "def get_language_distrib(data):\n",
        "    print(data.groupby('language').size())\n",
        "\n",
        "get_language_distrib(data)\n",
        "##################################################"
      ]
    },
    {
      "cell_type": "markdown",
      "metadata": {
        "id": "OnxU_80iuWoX"
      },
      "source": [
        "### Question 1.2. Do the appropriate pre-processing to maximise the accuracy of language detection. What is your strategy? (1 point)"
      ]
    },
    {
      "cell_type": "code",
      "execution_count": null,
      "metadata": {
        "id": "zS6LfxEe414C"
      },
      "outputs": [],
      "source": [
        "import numpy as np\n",
        "from sklearn.model_selection import train_test_split"
      ]
    },
    {
      "cell_type": "code",
      "execution_count": null,
      "metadata": {
        "id": "Fuhj5LuL42aC"
      },
      "outputs": [],
      "source": [
        "X=data['Text']\n",
        "y=data['language']"
      ]
    },
    {
      "cell_type": "code",
      "execution_count": null,
      "metadata": {
        "colab": {
          "base_uri": "https://localhost:8080/",
          "height": 69
        },
        "id": "dvmS5DE-acJe",
        "outputId": "a93f2b58-4f14-49e3-b234-2468401434f2"
      },
      "outputs": [
        {
          "data": {
            "application/vnd.google.colaboratory.intrinsic+json": {
              "type": "string"
            },
            "text/plain": [
              "'klement gottwaldi surnukeha palsameeriti ning paigutati mausoleumi surnukeha oli aga liiga hilja ja oskamatult palsameeritud ning hakkas ilmutama lagunemise tundemärke  aastal viidi ta surnukeha mausoleumist ära ja kremeeriti zlíni linn kandis aastatel – nime gottwaldov ukrainas harkivi oblastis kandis zmiivi linn aastatel – nime gotvald'"
            ]
          },
          "execution_count": 13,
          "metadata": {},
          "output_type": "execute_result"
        }
      ],
      "source": [
        "X[0]"
      ]
    },
    {
      "cell_type": "code",
      "execution_count": null,
      "metadata": {
        "id": "yMwRH0_3OmB_"
      },
      "outputs": [],
      "source": [
        "import gc"
      ]
    },
    {
      "cell_type": "markdown",
      "metadata": {
        "id": "_bUPnFmp_hBy"
      },
      "source": [
        "#### Question 1.2.1. Preprocess X"
      ]
    },
    {
      "cell_type": "code",
      "execution_count": null,
      "metadata": {
        "colab": {
          "base_uri": "https://localhost:8080/"
        },
        "id": "R4HnhZTB44S9",
        "outputId": "543016d7-1d7c-439a-e74e-d3dbbb8d593e"
      },
      "outputs": [
        {
          "name": "stdout",
          "output_type": "stream",
          "text": [
            "[[0 0 0 ... 0 0 0]\n",
            " [0 0 0 ... 0 0 0]\n",
            " [0 0 0 ... 0 0 0]\n",
            " ...\n",
            " [0 0 0 ... 0 0 0]\n",
            " [0 0 0 ... 0 0 0]\n",
            " [0 0 0 ... 0 0 0]]\n"
          ]
        }
      ],
      "source": [
        "import re\n",
        "from gensim.parsing import (\n",
        "    preprocess_string,\n",
        "    strip_numeric,\n",
        "    strip_multiple_whitespaces,\n",
        "    #strip_punctuation,\n",
        "  )\n",
        "from sklearn.feature_extraction.text import CountVectorizer\n",
        "\n",
        "\n",
        "################################################\n",
        "# your implementation goes here\n",
        "\n",
        "def pre_process(text):\n",
        "  CUSTOM_FILTERS = [\n",
        "    lambda s: s.lower(),\n",
        "    lambda s: re.sub(r'[!@#$(),\"%^*?:;~`]', ' ', s),\n",
        "    strip_numeric,\n",
        "    #strip_punctuation, \n",
        "    strip_multiple_whitespaces,\n",
        "  ]\n",
        "  \n",
        "  return ' '.join(\n",
        "      preprocess_string(text, CUSTOM_FILTERS)\n",
        "    )\n",
        "\n",
        "X = X.apply(pre_process)\n",
        "\n",
        "X_copy = X\n",
        "\n",
        "# cv = CountVectorizer()\n",
        "cv = CountVectorizer(min_df=5)\n",
        "cv.fit(X)\n",
        "X = cv.transform(X)\n",
        "X = X.toarray()\n",
        "\n",
        "print(X)\n",
        "################################################"
      ]
    },
    {
      "cell_type": "markdown",
      "metadata": {
        "id": "HFwWk5Rf_mHe"
      },
      "source": [
        "#### Question 1.2.1. Preprocess labels (y)\n"
      ]
    },
    {
      "cell_type": "code",
      "execution_count": null,
      "metadata": {
        "colab": {
          "base_uri": "https://localhost:8080/"
        },
        "id": "sxoksZl0_l64",
        "outputId": "cf523edd-680f-458f-cf8a-d9d708ea68c7"
      },
      "outputs": [
        {
          "name": "stdout",
          "output_type": "stream",
          "text": [
            "[ 4 17 19 ... 16  1 14]\n"
          ]
        }
      ],
      "source": [
        "from sklearn import preprocessing\n",
        "\n",
        "################################################\n",
        "# your implementation goes here\n",
        "\n",
        "le = preprocessing.LabelEncoder()\n",
        "y = le.fit_transform(y)\n",
        "\n",
        "print(y)\n",
        "\n",
        "################################################"
      ]
    },
    {
      "cell_type": "markdown",
      "metadata": {
        "id": "FhCQZlGAueYF"
      },
      "source": [
        "### Question 1.5. Train a model of your choice and describe the accuracy across languages. Use an 80%, 20% train-test split. Performance is not key but explain thoroughly the process and the metric(s) you are tracking. (4 points)"
      ]
    },
    {
      "cell_type": "markdown",
      "metadata": {
        "id": "8Zo41rLlSoQQ"
      },
      "source": [
        "#### 1.5.1. Create & Train Model"
      ]
    },
    {
      "cell_type": "code",
      "execution_count": null,
      "metadata": {
        "colab": {
          "base_uri": "https://localhost:8080/"
        },
        "id": "j-_QSnBh467f",
        "outputId": "8075a504-5773-4663-b20b-bce417be54b1"
      },
      "outputs": [
        {
          "name": "stdout",
          "output_type": "stream",
          "text": [
            "General Model Score: 0.9286363636363636\n",
            "CPU times: user 3min 35s, sys: 5.61 s, total: 3min 41s\n",
            "Wall time: 3min 42s\n"
          ]
        }
      ],
      "source": [
        "%%time\n",
        "from sklearn.naive_bayes import MultinomialNB\n",
        "\n",
        "################################################\n",
        "# your implementation goes here\n",
        "\n",
        "indices = list(range(len(X)))\n",
        "train_indices, test_indices = train_test_split(indices, test_size=0.20, random_state=42)\n",
        "\n",
        "def train_model(X_train, y_train):\n",
        "  clf = MultinomialNB()\n",
        "  clf.fit(X_train, y_train)\n",
        "\n",
        "  return clf\n",
        "\n",
        "def get_values_from_indices(x_vals, y_vals, indices):\n",
        "  len_vals = len(x_vals)\n",
        "  X_vals = [x_vals[i] for i in range(len_vals) if i in indices]\n",
        "  y_vals = [y_vals[i] for i in range(len_vals) if i in indices]\n",
        "\n",
        "  return X_vals, y_vals\n",
        "\n",
        "X_train, y_train = get_values_from_indices(X, y, train_indices)\n",
        "X_test, y_test = get_values_from_indices(X, y, test_indices)\n",
        "\n",
        "clf = train_model(X_train, y_train)\n",
        "print(f'General Model Score: {clf.score(X_test, y_test)}')\n",
        "\n",
        "################################################"
      ]
    },
    {
      "cell_type": "code",
      "execution_count": null,
      "metadata": {
        "id": "xJcKXPDfd9rJ"
      },
      "outputs": [],
      "source": [
        "def predict_custom(sentence):\n",
        "  return le.inverse_transform(clf.predict(cv.transform([sentence]).toarray()))[0]"
      ]
    },
    {
      "cell_type": "code",
      "execution_count": null,
      "metadata": {
        "colab": {
          "base_uri": "https://localhost:8080/",
          "height": 35
        },
        "id": "yHmnj5mdc0bV",
        "outputId": "054f6984-30aa-4882-c4d0-a9b68a51b922"
      },
      "outputs": [
        {
          "data": {
            "application/vnd.google.colaboratory.intrinsic+json": {
              "type": "string"
            },
            "text/plain": [
              "'English'"
            ]
          },
          "execution_count": 19,
          "metadata": {},
          "output_type": "execute_result"
        }
      ],
      "source": [
        "predict_custom(\"I am French and I love English\")"
      ]
    },
    {
      "cell_type": "code",
      "execution_count": null,
      "metadata": {
        "colab": {
          "base_uri": "https://localhost:8080/",
          "height": 35
        },
        "id": "6vCLT-5WctK1",
        "outputId": "9f7e2c93-65cc-4ee4-eeab-4202b9fd9e3e"
      },
      "outputs": [
        {
          "data": {
            "application/vnd.google.colaboratory.intrinsic+json": {
              "type": "string"
            },
            "text/plain": [
              "'French'"
            ]
          },
          "execution_count": 20,
          "metadata": {},
          "output_type": "execute_result"
        }
      ],
      "source": [
        "predict_custom('Bonjour comment allez vous')"
      ]
    },
    {
      "cell_type": "markdown",
      "metadata": {
        "id": "zLPWqhKOSh_H"
      },
      "source": [
        "#### 1.5.2 Accuracy per Language"
      ]
    },
    {
      "cell_type": "code",
      "execution_count": null,
      "metadata": {
        "colab": {
          "base_uri": "https://localhost:8080/"
        },
        "id": "7hBRrUSNSX7h",
        "outputId": "f372480e-7434-41c9-978b-a9afba910024"
      },
      "outputs": [
        {
          "name": "stdout",
          "output_type": "stream",
          "text": [
            "Accuracy for each language:\n",
            "Arabic    : 1.000000\n",
            "Chinese   : 0.910256\n",
            "Dutch     : 0.982533\n",
            "English   : 0.713235\n",
            "Estonian  : 0.984456\n",
            "French    : 0.939394\n",
            "Hindi     : 0.995146\n",
            "Indonesian: 0.995215\n",
            "Japanese  : 0.968085\n",
            "Korean    : 0.994709\n",
            "Latin     : 0.979487\n",
            "Persian   : 0.994898\n",
            "Portugese : 0.994709\n",
            "Pushto    : 1.000000\n",
            "Romanian  : 0.979695\n",
            "Russian   : 0.985981\n",
            "Spanish   : 0.975369\n",
            "Swedish   : 0.493113\n",
            "Tamil     : 1.000000\n",
            "Thai      : 1.000000\n",
            "Turkish   : 0.989950\n",
            "Urdu      : 1.000000\n"
          ]
        }
      ],
      "source": [
        "################################################\n",
        "# your implementation goes here\n",
        "\n",
        "def score_per_lang(y_true, y_hat):\n",
        "  Dic = [i for i in range(22)]\n",
        "  language_pos = dict.fromkeys(Dic, 0)\n",
        "  language_tot = dict.fromkeys(Dic, 0)\n",
        "\n",
        "  for t, h in zip(y_true, y_hat):\n",
        "    if h == t:\n",
        "        language_pos[t] += 1\n",
        "    language_tot[t] += 1\n",
        "\n",
        "  accuracies = dict()\n",
        "  print('Accuracy for each language:')\n",
        "  for i in range(22):\n",
        "    lang = le.inverse_transform([i])[0]\n",
        "    if language_tot[i] != 0:\n",
        "      accuracy = language_pos[i] / language_tot[i]\n",
        "    else:\n",
        "      accuracy = 0\n",
        "    accuracies[lang] = accuracy\n",
        "    print(f'{lang:10}: {accuracy:f}')\n",
        "\n",
        "  return accuracies\n",
        "\n",
        "\n",
        "y_hat = clf.predict(X_test)\n",
        "lang_accuracies = score_per_lang(y_hat, y_test)\n",
        "\n",
        "################################################"
      ]
    },
    {
      "cell_type": "markdown",
      "metadata": {
        "id": "C0614tVO--6G"
      },
      "source": [
        "## FastText for language detection"
      ]
    },
    {
      "cell_type": "markdown",
      "metadata": {
        "id": "lhGvhp6kf8E5"
      },
      "source": [
        "### FastText training setup "
      ]
    },
    {
      "cell_type": "code",
      "execution_count": null,
      "metadata": {
        "colab": {
          "base_uri": "https://localhost:8080/"
        },
        "id": "9ZtDxw9D9aPh",
        "outputId": "5b3d8130-71df-4eb9-e3d6-500dea063c78"
      },
      "outputs": [
        {
          "name": "stdout",
          "output_type": "stream",
          "text": [
            "URL transformed to HTTPS due to an HSTS policy\n",
            "--2023-01-07 09:19:56--  https://downloads.tatoeba.org/exports/sentences.tar.bz2\n",
            "Resolving downloads.tatoeba.org (downloads.tatoeba.org)... 94.130.77.194\n",
            "Connecting to downloads.tatoeba.org (downloads.tatoeba.org)|94.130.77.194|:443... connected.\n",
            "HTTP request sent, awaiting response... 200 OK\n",
            "Length: 172915061 (165M) [application/octet-stream]\n",
            "Saving to: ‘sentences.tar.bz2’\n",
            "\n",
            "sentences.tar.bz2   100%[===================>] 164.90M  25.3MB/s    in 7.4s    \n",
            "\n",
            "2023-01-07 09:20:04 (22.3 MB/s) - ‘sentences.tar.bz2’ saved [172915061/172915061]\n",
            "\n"
          ]
        }
      ],
      "source": [
        "! wget http://downloads.tatoeba.org/exports/sentences.tar.bz2"
      ]
    },
    {
      "cell_type": "code",
      "execution_count": null,
      "metadata": {
        "colab": {
          "base_uri": "https://localhost:8080/"
        },
        "id": "t9ETznJA9cLw",
        "outputId": "8cdcc23d-4ff3-47a1-b860-c37057bf41b5"
      },
      "outputs": [
        {
          "name": "stdout",
          "output_type": "stream",
          "text": [
            "bunzip2: Output file sentences.tar already exists.\n"
          ]
        }
      ],
      "source": [
        "! bunzip2 sentences.tar.bz2"
      ]
    },
    {
      "cell_type": "code",
      "execution_count": null,
      "metadata": {
        "colab": {
          "base_uri": "https://localhost:8080/"
        },
        "id": "cihDm5c99oZh",
        "outputId": "390e6cfd-9b1f-4d41-ef42-c5b86e9e0d9a"
      },
      "outputs": [
        {
          "name": "stdout",
          "output_type": "stream",
          "text": [
            "all.txt\t\t\tdata_test.txt\tsentences.csv\t   valid.txt\n",
            "dataset.csv\t\tdata_train.txt\tsentences.tar\n",
            "dataset.csv.zip\t\tLICENSE\t\tsentences.tar.bz2\n",
            "data_test_no_label.txt\tREADME.md\ttrain.txt\n"
          ]
        }
      ],
      "source": [
        "! ls"
      ]
    },
    {
      "cell_type": "code",
      "execution_count": null,
      "metadata": {
        "colab": {
          "base_uri": "https://localhost:8080/"
        },
        "id": "yPZSloMN-cM0",
        "outputId": "02ac3e6e-8cc0-4597-b098-995d7d1ed545"
      },
      "outputs": [
        {
          "name": "stdout",
          "output_type": "stream",
          "text": [
            "sentences.csv\n"
          ]
        }
      ],
      "source": [
        "! tar xvf sentences.tar"
      ]
    },
    {
      "cell_type": "code",
      "execution_count": null,
      "metadata": {
        "colab": {
          "base_uri": "https://localhost:8080/"
        },
        "id": "Si8T701N-h5p",
        "outputId": "370517d8-26c7-4a31-a3e0-848161ee3d52"
      },
      "outputs": [
        {
          "name": "stdout",
          "output_type": "stream",
          "text": [
            "dataset.csv  dataset.csv.zip  LICENSE  README.md  sentences.csv  sentences.tar\n"
          ]
        }
      ],
      "source": [
        "! ls"
      ]
    },
    {
      "cell_type": "code",
      "execution_count": null,
      "metadata": {
        "colab": {
          "base_uri": "https://localhost:8080/"
        },
        "id": "rtjL8hYg-nZJ",
        "outputId": "ee6c6cd0-201d-4e64-d081-e2ce79de231a"
      },
      "outputs": [
        {
          "name": "stdout",
          "output_type": "stream",
          "text": [
            "1\tcmn\t我們試試看！\n",
            "2\tcmn\t我该去睡觉了。\n",
            "3\tcmn\t你在干什麼啊？\n",
            "4\tcmn\t這是什麼啊？\n",
            "5\tcmn\t今天是６月１８号，也是Muiriel的生日！\n",
            "6\tcmn\t生日快乐，Muiriel！\n",
            "7\tcmn\tMuiriel现在20岁了。\n",
            "8\tcmn\t密码是\"Muiriel\"。\n",
            "9\tcmn\t我很快就會回來。\n",
            "10\tcmn\t我不知道。\n"
          ]
        }
      ],
      "source": [
        "! head -10 sentences.csv"
      ]
    },
    {
      "cell_type": "code",
      "execution_count": null,
      "metadata": {
        "id": "KTtbtb5E-tFP"
      },
      "outputs": [],
      "source": [
        "! awk -F\"\\t\" '{print\"__label__\"$2\" \"$3}' < sentences.csv | shuf > all.txt"
      ]
    },
    {
      "cell_type": "code",
      "execution_count": null,
      "metadata": {
        "colab": {
          "base_uri": "https://localhost:8080/"
        },
        "id": "E5CwoZkl_JS2",
        "outputId": "4129dbed-bfe1-49a9-d237-af9296dafcc9"
      },
      "outputs": [
        {
          "name": "stdout",
          "output_type": "stream",
          "text": [
            "all.txt      dataset.csv.zip  README.md      sentences.tar\n",
            "dataset.csv  LICENSE\t      sentences.csv\n"
          ]
        }
      ],
      "source": [
        "! ls"
      ]
    },
    {
      "cell_type": "code",
      "execution_count": null,
      "metadata": {
        "colab": {
          "base_uri": "https://localhost:8080/"
        },
        "id": "Uj17b-zF_V65",
        "outputId": "5e827137-a662-4f62-a4e2-bdba488dbae8"
      },
      "outputs": [
        {
          "name": "stdout",
          "output_type": "stream",
          "text": [
            "__label__kab Tettexfa deg usallas-nni.\n",
            "__label__pol Tom wygląda trochę niebezpiecznie.\n",
            "__label__kab Ad rekben ihi ɣer Warzazat.\n",
            "__label__srp Постати добар писац исто је као добар тесар; треба пажљиво тесати своје реченице.\n",
            "__label__eng Who are the people I saw her with?\n"
          ]
        }
      ],
      "source": [
        "! head -5 all.txt"
      ]
    },
    {
      "cell_type": "code",
      "execution_count": null,
      "metadata": {
        "id": "eJFTaHZ8_D6V"
      },
      "outputs": [],
      "source": [
        "! head -n 10000 all.txt > valid.txt"
      ]
    },
    {
      "cell_type": "code",
      "execution_count": null,
      "metadata": {
        "id": "FJeo9_MD_qq8"
      },
      "outputs": [],
      "source": [
        "! tail -n +10001 all.txt > train.txt"
      ]
    },
    {
      "cell_type": "code",
      "execution_count": null,
      "metadata": {
        "colab": {
          "base_uri": "https://localhost:8080/"
        },
        "id": "2ZSiMBU7Aabp",
        "outputId": "55e154ac-ca3a-4342-d9c7-4ee71a0c418b"
      },
      "outputs": [
        {
          "name": "stdout",
          "output_type": "stream",
          "text": [
            "__label__tuk Ol öz aýalyny urup otyrdy.\n",
            "__label__mar तू त्यांच्यासाठी सँडविच बनवते आहेस का?\n",
            "__label__rus Том одинок, и ему не с кем играть.\n",
            "__label__epo Ne heroumu!\n",
            "__label__epo Knabinoj maturiĝas pli frue ol knaboj.\n"
          ]
        }
      ],
      "source": [
        "! head -5 train.txt"
      ]
    },
    {
      "cell_type": "markdown",
      "metadata": {
        "id": "wiZRD_FjueS8"
      },
      "source": [
        "### Question 1.6. Train a fasttext model on Tatoeba parallel corpus and check that performance is good. (3 points)"
      ]
    },
    {
      "cell_type": "code",
      "execution_count": null,
      "metadata": {
        "colab": {
          "base_uri": "https://localhost:8080/"
        },
        "id": "8ekPlYWSjt0l",
        "outputId": "e3f4fc41-41ac-4b27-bcc6-b14ad4b1f8c9"
      },
      "outputs": [
        {
          "data": {
            "text/plain": [
              "0"
            ]
          },
          "execution_count": 25,
          "metadata": {},
          "output_type": "execute_result"
        }
      ],
      "source": [
        "del X\n",
        "gc.collect()"
      ]
    },
    {
      "cell_type": "code",
      "execution_count": null,
      "metadata": {
        "id": "wKyg3QToJo3I"
      },
      "outputs": [],
      "source": [
        "import fasttext"
      ]
    },
    {
      "cell_type": "markdown",
      "metadata": {
        "id": "4YN516w-3Mea"
      },
      "source": [
        "#### Question 1.6.1. Train fasttext model on Tatoeba (2 points)"
      ]
    },
    {
      "cell_type": "code",
      "execution_count": null,
      "metadata": {
        "colab": {
          "base_uri": "https://localhost:8080/"
        },
        "id": "lpaHpA9QCLur",
        "outputId": "65dade19-d019-4c97-a043-d1f2fead7ec3"
      },
      "outputs": [
        {
          "name": "stdout",
          "output_type": "stream",
          "text": [
            "CPU times: user 1h 40min 15s, sys: 9.02 s, total: 1h 40min 24s\n",
            "Wall time: 1h 40min 40s\n"
          ]
        }
      ],
      "source": [
        "%%time\n",
        "import fasttext\n",
        "\n",
        "# Check the fasttext library and implement the training\n",
        "###########################################\n",
        "\n",
        "# your implementation goes here\n",
        "pass\n",
        "\n",
        "fmodel = fasttext.train_supervised('train.txt') #, lr=1, epoch=1)\n",
        "\n",
        "################################################\n",
        "\n",
        "# @TODO: Save your model when trained \n",
        "fmodel.save_model(\"langdetect.bin\")"
      ]
    },
    {
      "cell_type": "code",
      "execution_count": null,
      "metadata": {
        "colab": {
          "base_uri": "https://localhost:8080/"
        },
        "id": "11CodK6cJOq3",
        "outputId": "1664ef1a-53a2-4db9-fecf-b9993624b817"
      },
      "outputs": [
        {
          "name": "stderr",
          "output_type": "stream",
          "text": [
            "Warning : `load_model` does not return WordVectorModel or SupervisedModel any more, but a `FastText` object which is very similar.\n"
          ]
        }
      ],
      "source": [
        "fmodel = fasttext.load_model('/content/drive/MyDrive/ColabNotebooks/NLP3/lab02/langdetect.bin')"
      ]
    },
    {
      "cell_type": "code",
      "execution_count": null,
      "metadata": {
        "colab": {
          "base_uri": "https://localhost:8080/"
        },
        "id": "iFQcolkmIXZr",
        "outputId": "e9fa8687-b9c2-4d3f-f679-1f2574bbb6ad"
      },
      "outputs": [
        {
          "data": {
            "text/plain": [
              "(('__label__eng',), array([1.00000882]))"
            ]
          },
          "execution_count": 28,
          "metadata": {},
          "output_type": "execute_result"
        }
      ],
      "source": [
        "# Sanity check \n",
        "fmodel.predict(\"I am French and I love English\")"
      ]
    },
    {
      "cell_type": "code",
      "execution_count": null,
      "metadata": {
        "colab": {
          "base_uri": "https://localhost:8080/"
        },
        "id": "vlK-1bo0CjdM",
        "outputId": "51f79714-3938-4293-a142-95d7301d972f"
      },
      "outputs": [
        {
          "data": {
            "text/plain": [
              "(('__label__fra',), array([0.99995446]))"
            ]
          },
          "execution_count": 29,
          "metadata": {},
          "output_type": "execute_result"
        }
      ],
      "source": [
        "fmodel.predict(\"Bonjour je suis\")"
      ]
    },
    {
      "cell_type": "markdown",
      "metadata": {
        "id": "PZYQz3zh3VK5"
      },
      "source": [
        "#### Question 1.6.2. Evaluate performance of fasttext model on valid.txt (1 point)"
      ]
    },
    {
      "cell_type": "code",
      "execution_count": null,
      "metadata": {
        "id": "u-JV1ZA_Sie0"
      },
      "outputs": [],
      "source": [
        "%%capture\n",
        "pip install iso639-lang"
      ]
    },
    {
      "cell_type": "code",
      "execution_count": null,
      "metadata": {
        "colab": {
          "base_uri": "https://localhost:8080/"
        },
        "id": "zMhIglB9Se88",
        "outputId": "adb02d03-72fa-4b5d-d6bf-0a614d3f21ba"
      },
      "outputs": [
        {
          "data": {
            "text/plain": [
              "Lang(name='Arabic', pt1='ar', pt2b='ara', pt2t='ara', pt3='ara', pt5='')"
            ]
          },
          "execution_count": 31,
          "metadata": {},
          "output_type": "execute_result"
        }
      ],
      "source": [
        "from iso639 import Lang\n",
        "\n",
        "Lang('ara')"
      ]
    },
    {
      "cell_type": "code",
      "execution_count": null,
      "metadata": {
        "id": "2sYiuevYw0SQ"
      },
      "outputs": [],
      "source": [
        "from iso639 import Lang\n",
        "\n",
        "class ModelPredict(object):\n",
        "  def __init__(self, model, le, nb_languages=22):\n",
        "    self.model = model\n",
        "    self.le = le\n",
        "    self.nb_languages = nb_languages\n",
        "\n",
        "    self.languages = self.get_languages()\n",
        "    self.flabels = self.format_model_labels()\n",
        "    self.lang_to_code, self.code_to_lang = self.get_code_to_lang()\n",
        "\n",
        "\n",
        "  def predict(self, sentence):\n",
        "    lang_code = self.model.predict(sentence)[0][0].replace('__label__', '')\n",
        "    return self.code_to_lang.get(lang_code, 'Not Found')\n",
        "\n",
        "  def predict_set(self, test_set):\n",
        "    y_hat = []\n",
        "    for sentence in test_set:\n",
        "      label = self.predict(sentence)\n",
        "      if label == 'Not Found':\n",
        "        y_hat_curr = -1;\n",
        "      else:\n",
        "        y_hat_curr = self.le.transform([label])[0]\n",
        "      y_hat.append(y_hat_curr)\n",
        "\n",
        "    return y_hat\n",
        "\n",
        "  ### HELPERS\n",
        "\n",
        "  def get_languages(self):\n",
        "    languages = []\n",
        "    for i in range(self.nb_languages):\n",
        "      lang = self.le.inverse_transform([i])[0]\n",
        "      languages.append(lang)\n",
        "\n",
        "    return languages\n",
        "\n",
        "  def remove_label(self, str):\n",
        "    return str.replace('__label__', '')\n",
        "\n",
        "  def format_model_labels(self):\n",
        "    labels_raw = sorted(self.model.get_labels())\n",
        "    labels = list(map(lambda str: self.remove_label(str), labels_raw))\n",
        "    return labels[1:]\n",
        "\n",
        "  def get_code_to_lang(self):\n",
        "    lang_to_code = dict.fromkeys(self.languages, '')\n",
        "\n",
        "    for lang in self.languages:\n",
        "      lang_code = Lang('Portuguese').pt3 if lang == 'Portugese' else 'pes' if lang == 'Persian' else (Lang(lang).pt3 if lang != 'Chinese' else 'cmn')\n",
        "      if lang_code in self.flabels:\n",
        "        lang_to_code[lang] = lang_code\n",
        "\n",
        "    code_to_lang = {v: k for k, v in lang_to_code.items()}\n",
        "\n",
        "    for lang in ['lzh', 'hak', 'cjy', 'cpi', 'hsn', 'gan', 'izh']:\n",
        "      code_to_lang[lang] = 'Chinese'\n",
        "\n",
        "    return lang_to_code, code_to_lang\n",
        "    "
      ]
    },
    {
      "cell_type": "code",
      "execution_count": null,
      "metadata": {
        "id": "o4AEkoMPycOe"
      },
      "outputs": [],
      "source": [
        "mp = ModelPredict(fmodel, le)"
      ]
    },
    {
      "cell_type": "code",
      "execution_count": null,
      "metadata": {
        "colab": {
          "base_uri": "https://localhost:8080/"
        },
        "id": "F0V_RRU-NIgc",
        "outputId": "d618497d-7665-4fb5-d951-624cac8b79bb"
      },
      "outputs": [
        {
          "name": "stdout",
          "output_type": "stream",
          "text": [
            "['Arabic', 'Chinese', 'Dutch', 'English', 'Estonian']\n",
            "['abk', 'acm', 'ady', 'afb', 'afh', 'afr', 'aii', 'ain', 'ajp', 'akl']\n"
          ]
        }
      ],
      "source": [
        "print(mp.languages[:5])\n",
        "print(mp.flabels[:10])"
      ]
    },
    {
      "cell_type": "code",
      "execution_count": null,
      "metadata": {
        "colab": {
          "base_uri": "https://localhost:8080/",
          "height": 35
        },
        "id": "nKmPTPztci4j",
        "outputId": "3fb699d4-078b-4010-a2a0-e0b7e3c200d9"
      },
      "outputs": [
        {
          "data": {
            "application/vnd.google.colaboratory.intrinsic+json": {
              "type": "string"
            },
            "text/plain": [
              "'French'"
            ]
          },
          "execution_count": 35,
          "metadata": {},
          "output_type": "execute_result"
        }
      ],
      "source": [
        "mp.predict('Bonjour Comment allez vous')"
      ]
    },
    {
      "cell_type": "code",
      "execution_count": null,
      "metadata": {
        "colab": {
          "base_uri": "https://localhost:8080/"
        },
        "id": "SWNZ5TSdKGgT",
        "outputId": "897b4d6c-4efd-4a05-a537-ab66790f6436"
      },
      "outputs": [
        {
          "name": "stdout",
          "output_type": "stream",
          "text": [
            "Validation set accuracy: 0.9879\n"
          ]
        }
      ],
      "source": [
        "# Hint: Create dataframe from valid.txt and evaluate performance \n",
        "\n",
        "###########################################\n",
        "\n",
        "# your implementation goes here\n",
        "\n",
        "result = fmodel.test('valid.txt')\n",
        "print(\"Validation set accuracy:\", result[1])\n",
        "\n",
        "################################################"
      ]
    },
    {
      "cell_type": "markdown",
      "metadata": {
        "id": "1CI3pNqYueOX"
      },
      "source": [
        "### Question 1.7. Test your fasttext model on the same dataset as in question 1-5. Compare with your custom model (make sure you use the exact same data for testing). How can you explain the difference in performance between the two models? (3 points)"
      ]
    },
    {
      "cell_type": "code",
      "execution_count": null,
      "metadata": {
        "id": "oJYVrn8FhcQf"
      },
      "outputs": [],
      "source": [
        "import fasttext\n",
        "\n",
        "###########################################\n",
        "\n",
        "# your implementation goes here\n",
        "\n",
        "def save_data(X, y, train=False, label=True):\n",
        "  filename = 'data_train.txt' if train else ('data_test.txt' if label else 'data_test_no_label.txt')\n",
        "  \n",
        "  file = open(filename, 'w')\n",
        "  for x_curr, y_curr in zip(X, y):\n",
        "    if label:\n",
        "      lang = le.inverse_transform([y_curr])[0]\n",
        "      lang_code = Lang('Portuguese').pt3 if lang == 'Portugese' else Lang(lang).pt3\n",
        "      y_curr = '__label__' + lang_code\n",
        "      final_string = y_curr + ' ' + x_curr + '\\n'\n",
        "    else:\n",
        "      final_string = x_curr + '\\n'\n",
        "    \n",
        "    file.write(final_string)\n",
        "  file.close()\n",
        "\n",
        "\n",
        "#fX_train, fX_test, fy_train, fy_test = train_test_split(X_copy, y, test_size=0.20)\n",
        "\n",
        "fX_train, fy_train = get_values_from_indices(X_copy, y, train_indices)\n",
        "fX_test, fy_test = get_values_from_indices(X_copy, y, test_indices)\n",
        "\n",
        "save_data(fX_train, fy_train, train=True)             # Train with labels\n",
        "save_data(fX_test, fy_test, train=False)              # Test  with labels\n",
        "save_data(fX_test, fy_test, train=False, label=False) # Test  no   labels\n",
        "\n",
        "################################################"
      ]
    },
    {
      "cell_type": "code",
      "execution_count": null,
      "metadata": {
        "colab": {
          "base_uri": "https://localhost:8080/"
        },
        "id": "EebDObJkiExA",
        "outputId": "0a49b4be-b92a-4183-d477-9ac58f7199f0"
      },
      "outputs": [
        {
          "name": "stdout",
          "output_type": "stream",
          "text": [
            "Validation set accuracy: 0.83337496877342\n"
          ]
        }
      ],
      "source": [
        "result = fmodel.test('data_test.txt')\n",
        "print(\"Validation set accuracy:\", result[1])"
      ]
    },
    {
      "cell_type": "code",
      "execution_count": null,
      "metadata": {
        "colab": {
          "base_uri": "https://localhost:8080/"
        },
        "id": "ED7xYNrj0bNk",
        "outputId": "0e00b387-0a94-4dd6-ade8-c5a6686ae96c"
      },
      "outputs": [
        {
          "name": "stdout",
          "output_type": "stream",
          "text": [
            "True\n"
          ]
        }
      ],
      "source": [
        "fy_hat = mp.predict_set(fX_test)\n",
        "print(-1 in fy_hat)"
      ]
    },
    {
      "cell_type": "markdown",
      "metadata": {
        "id": "dqpnRWJ-ueE9"
      },
      "source": [
        "### Question 1.8. Compute your performance metrics yourself and compare with sklearn. (1 point)"
      ]
    },
    {
      "cell_type": "markdown",
      "metadata": {
        "id": "-2c_RRQjvI05"
      },
      "source": [
        "#### 1.8.1. Personal Metrics"
      ]
    },
    {
      "cell_type": "code",
      "execution_count": null,
      "metadata": {
        "colab": {
          "base_uri": "https://localhost:8080/"
        },
        "id": "HDP3F1-qZvCO",
        "outputId": "7a7dbe88-8113-483b-dafc-5a816cb584ba"
      },
      "outputs": [
        {
          "name": "stdout",
          "output_type": "stream",
          "text": [
            "Accuracy Score: 0.0\n",
            "\n"
          ]
        }
      ],
      "source": [
        "def accuracy_score_recoded(y_true, y_hat):\n",
        "  return np.mean(y_true == (y_hat))\n",
        "\n",
        "print(f'Accuracy Score: {accuracy_score_recoded(fy_test, fy_hat)}\\n')"
      ]
    },
    {
      "cell_type": "code",
      "execution_count": null,
      "metadata": {
        "colab": {
          "base_uri": "https://localhost:8080/"
        },
        "id": "ZoQ9qO4I5ytJ",
        "outputId": "3da8cf23-4b86-4b23-ebe4-566b2fa116da"
      },
      "outputs": [
        {
          "name": "stdout",
          "output_type": "stream",
          "text": [
            "Accuracy for each language:\n",
            "Arabic    : 0.980198\n",
            "Chinese   : 0.004975\n",
            "Dutch     : 0.969565\n",
            "English   : 1.000000\n",
            "Estonian  : 0.810000\n",
            "French    : 0.989362\n",
            "Hindi     : 0.985577\n",
            "Indonesian: 0.868545\n",
            "Japanese  : 0.845361\n",
            "Korean    : 0.957895\n",
            "Latin     : 0.885714\n",
            "Persian   : 0.994898\n",
            "Portugese : 0.958763\n",
            "Pushto    : 0.000000\n",
            "Romanian  : 0.969543\n",
            "Russian   : 0.995305\n",
            "Spanish   : 0.984925\n",
            "Swedish   : 1.000000\n",
            "Tamil     : 0.474747\n",
            "Thai      : 0.117347\n",
            "Turkish   : 0.974874\n",
            "Urdu      : 0.866995\n"
          ]
        }
      ],
      "source": [
        "_ = score_per_lang(fy_test, fy_hat)"
      ]
    },
    {
      "cell_type": "markdown",
      "metadata": {
        "id": "TTwdqtWtvMP_"
      },
      "source": [
        "#### 1.8.2. sklearn Metrics"
      ]
    },
    {
      "cell_type": "code",
      "execution_count": null,
      "metadata": {
        "colab": {
          "base_uri": "https://localhost:8080/"
        },
        "id": "5HHglOrFuMs_",
        "outputId": "ca244177-9a82-4392-d315-4025cdbd7899"
      },
      "outputs": [
        {
          "data": {
            "text/plain": [
              "0.8027272727272727"
            ]
          },
          "execution_count": 45,
          "metadata": {},
          "output_type": "execute_result"
        }
      ],
      "source": [
        "from sklearn.metrics import accuracy_score\n",
        "\n",
        "accuracy_score(fy_test, fy_hat)"
      ]
    },
    {
      "cell_type": "markdown",
      "metadata": {
        "id": "YgCNRO0Tud6v"
      },
      "source": [
        "# II. Rotate two semantic spaces (23 points) – Not guided coding\n"
      ]
    },
    {
      "cell_type": "code",
      "execution_count": 1,
      "metadata": {
        "colab": {
          "base_uri": "https://localhost:8080/"
        },
        "id": "dq9mCP7SZYcT",
        "outputId": "bc0df4b1-f4b2-4c53-8746-9c7c72a2fd17"
      },
      "outputs": [
        {
          "output_type": "stream",
          "name": "stdout",
          "text": [
            "Cloning into 'MUSE'...\n",
            "remote: Enumerating objects: 239, done.\u001b[K\n",
            "remote: Total 239 (delta 0), reused 0 (delta 0), pack-reused 239\u001b[K\n",
            "Receiving objects: 100% (239/239), 215.77 KiB | 26.97 MiB/s, done.\n",
            "Resolving deltas: 100% (136/136), done.\n"
          ]
        }
      ],
      "source": [
        "!git clone https://github.com/facebookresearch/MUSE.git"
      ]
    },
    {
      "cell_type": "code",
      "execution_count": 2,
      "metadata": {
        "colab": {
          "base_uri": "https://localhost:8080/"
        },
        "id": "c0D-nadcaS_4",
        "outputId": "db86d92b-c1e9-4cdf-dfeb-9c56ac56eb79"
      },
      "outputs": [
        {
          "output_type": "stream",
          "name": "stdout",
          "text": [
            "/content/MUSE\n"
          ]
        }
      ],
      "source": [
        "%cd MUSE"
      ]
    },
    {
      "cell_type": "markdown",
      "metadata": {
        "id": "zeCmwAeVZNjX"
      },
      "source": [
        "### 2.4. Align the French space and the English space together, with the method of your choice. (5 points)"
      ]
    },
    {
      "cell_type": "code",
      "execution_count": 3,
      "metadata": {
        "colab": {
          "base_uri": "https://localhost:8080/"
        },
        "id": "35772YLPaWZ_",
        "outputId": "8b52b80f-6033-4d49-8727-b54e1387eebb"
      },
      "outputs": [
        {
          "output_type": "stream",
          "name": "stdout",
          "text": [
            "  % Total    % Received % Xferd  Average Speed   Time    Time     Time  Current\n",
            "                                 Dload  Upload   Total   Spent    Left  Speed\n",
            "100 6291M  100 6291M    0     0  16.2M      0  0:06:26  0:06:26 --:--:-- 18.0M\n",
            "  % Total    % Received % Xferd  Average Speed   Time    Time     Time  Current\n",
            "                                 Dload  Upload   Total   Spent    Left  Speed\n",
            "100 2886M  100 2886M    0     0  15.4M      0  0:03:06  0:03:06 --:--:-- 17.2M\n"
          ]
        }
      ],
      "source": [
        "!curl -Lo data/wiki.en.vec https://dl.fbaipublicfiles.com/fasttext/vectors-wiki/wiki.en.vec\n",
        "!curl -Lo data/wiki.fr.vec https://dl.fbaipublicfiles.com/fasttext/vectors-wiki/wiki.fr.vec"
      ]
    },
    {
      "cell_type": "code",
      "execution_count": 4,
      "metadata": {
        "colab": {
          "base_uri": "https://localhost:8080/"
        },
        "id": "P2yEEavHhX4q",
        "outputId": "b322b5fa-11fb-4c2e-9c17-bf2a85af813e"
      },
      "outputs": [
        {
          "output_type": "stream",
          "name": "stdout",
          "text": [
            "/content/MUSE/data\n"
          ]
        }
      ],
      "source": [
        "%cd data"
      ]
    },
    {
      "cell_type": "code",
      "execution_count": 5,
      "metadata": {
        "colab": {
          "base_uri": "https://localhost:8080/"
        },
        "id": "tK9oIRxNdu2l",
        "outputId": "cedcfddd-2208-48c8-f4ab-9fcc9a64e5db"
      },
      "outputs": [
        {
          "output_type": "stream",
          "name": "stdout",
          "text": [
            "get_evaluation.sh  wiki.en.vec\twiki.fr.vec\n"
          ]
        }
      ],
      "source": [
        "!ls"
      ]
    },
    {
      "cell_type": "code",
      "execution_count": 12,
      "metadata": {
        "id": "Zk9GtCVphdWs",
        "colab": {
          "base_uri": "https://localhost:8080/"
        },
        "outputId": "7c03ad40-6718-4078-f103-ad1a4a2504fa"
      },
      "outputs": [
        {
          "output_type": "stream",
          "name": "stdout",
          "text": [
            "  % Total    % Received % Xferd  Average Speed   Time    Time     Time  Current\n",
            "                                 Dload  Upload   Total   Spent    Left  Speed\n",
            "100  218k  100  218k    0     0  1820k      0 --:--:-- --:--:-- --:--:-- 1820k\n",
            "  % Total    % Received % Xferd  Average Speed   Time    Time     Time  Current\n",
            "                                 Dload  Upload   Total   Spent    Left  Speed\n",
            "100  578k  100  578k    0     0   676k      0 --:--:-- --:--:-- --:--:--  675k\n",
            "  % Total    % Received % Xferd  Average Speed   Time    Time     Time  Current\n",
            "                                 Dload  Upload   Total   Spent    Left  Speed\n",
            "100  577k  100  577k    0     0   710k      0 --:--:-- --:--:-- --:--:--  709k\n",
            "  % Total    % Received % Xferd  Average Speed   Time    Time     Time  Current\n",
            "                                 Dload  Upload   Total   Spent    Left  Speed\n",
            "100  101k  100  101k    0     0   147k      0 --:--:-- --:--:-- --:--:--  147k\n",
            "  % Total    % Received % Xferd  Average Speed   Time    Time     Time  Current\n",
            "                                 Dload  Upload   Total   Spent    Left  Speed\n",
            "100 91138  100 91138    0     0   132k      0 --:--:-- --:--:-- --:--:--  132k\n",
            "  % Total    % Received % Xferd  Average Speed   Time    Time     Time  Current\n",
            "                                 Dload  Upload   Total   Spent    Left  Speed\n",
            "100 27921  100 27921    0     0   131k      0 --:--:-- --:--:-- --:--:--  131k\n",
            "  % Total    % Received % Xferd  Average Speed   Time    Time     Time  Current\n",
            "                                 Dload  Upload   Total   Spent    Left  Speed\n",
            "100 26094  100 26094    0     0  42777      0 --:--:-- --:--:-- --:--:-- 42707\n",
            "  % Total    % Received % Xferd  Average Speed   Time    Time     Time  Current\n",
            "                                 Dload  Upload   Total   Spent    Left  Speed\n",
            "100  644k  100  644k    0     0   715k      0 --:--:-- --:--:-- --:--:--  715k\n",
            "  % Total    % Received % Xferd  Average Speed   Time    Time     Time  Current\n",
            "                                 Dload  Upload   Total   Spent    Left  Speed\n",
            "100  612k  100  612k    0     0   727k      0 --:--:-- --:--:-- --:--:--  726k\n",
            "  % Total    % Received % Xferd  Average Speed   Time    Time     Time  Current\n",
            "                                 Dload  Upload   Total   Spent    Left  Speed\n",
            "100  219k  100  219k    0     0  1052k      0 --:--:-- --:--:-- --:--:-- 1052k\n",
            "  % Total    % Received % Xferd  Average Speed   Time    Time     Time  Current\n",
            "                                 Dload  Upload   Total   Spent    Left  Speed\n",
            "100  142k  100  142k    0     0   296k      0 --:--:-- --:--:-- --:--:--  296k\n",
            "  % Total    % Received % Xferd  Average Speed   Time    Time     Time  Current\n",
            "                                 Dload  Upload   Total   Spent    Left  Speed\n",
            "100 54662  100 54662    0     0  98846      0 --:--:-- --:--:-- --:--:-- 99025\n",
            "  % Total    % Received % Xferd  Average Speed   Time    Time     Time  Current\n",
            "                                 Dload  Upload   Total   Spent    Left  Speed\n",
            "100 40725  100 40725    0     0   167k      0 --:--:-- --:--:-- --:--:--  167k\n",
            "  % Total    % Received % Xferd  Average Speed   Time    Time     Time  Current\n",
            "                                 Dload  Upload   Total   Spent    Left  Speed\n",
            "100 1372k  100 1372k    0     0   736k      0  0:00:01  0:00:01 --:--:--  735k\n",
            "  % Total    % Received % Xferd  Average Speed   Time    Time     Time  Current\n",
            "                                 Dload  Upload   Total   Spent    Left  Speed\n",
            "100 1281k  100 1281k    0     0  1260k      0  0:00:01  0:00:01 --:--:-- 1260k\n",
            "  % Total    % Received % Xferd  Average Speed   Time    Time     Time  Current\n",
            "                                 Dload  Upload   Total   Spent    Left  Speed\n",
            "100  243k  100  243k    0     0   321k      0 --:--:-- --:--:-- --:--:--  320k\n",
            "  % Total    % Received % Xferd  Average Speed   Time    Time     Time  Current\n",
            "                                 Dload  Upload   Total   Spent    Left  Speed\n",
            "100  161k  100  161k    0     0   218k      0 --:--:-- --:--:-- --:--:--  218k\n",
            "  % Total    % Received % Xferd  Average Speed   Time    Time     Time  Current\n",
            "                                 Dload  Upload   Total   Spent    Left  Speed\n",
            "100 60966  100 60966    0     0   112k      0 --:--:-- --:--:-- --:--:--  112k\n",
            "  % Total    % Received % Xferd  Average Speed   Time    Time     Time  Current\n",
            "                                 Dload  Upload   Total   Spent    Left  Speed\n",
            "100 48811  100 48811    0     0  79756      0 --:--:-- --:--:-- --:--:-- 79626\n",
            "  % Total    % Received % Xferd  Average Speed   Time    Time     Time  Current\n",
            "                                 Dload  Upload   Total   Spent    Left  Speed\n",
            "100  736k  100  736k    0     0   802k      0 --:--:-- --:--:-- --:--:--  801k\n",
            "  % Total    % Received % Xferd  Average Speed   Time    Time     Time  Current\n",
            "                                 Dload  Upload   Total   Spent    Left  Speed\n",
            "100  634k  100  634k    0     0   719k      0 --:--:-- --:--:-- --:--:--  718k\n",
            "  % Total    % Received % Xferd  Average Speed   Time    Time     Time  Current\n",
            "                                 Dload  Upload   Total   Spent    Left  Speed\n",
            "100  223k  100  223k    0     0  1023k      0 --:--:-- --:--:-- --:--:-- 1023k\n",
            "  % Total    % Received % Xferd  Average Speed   Time    Time     Time  Current\n",
            "                                 Dload  Upload   Total   Spent    Left  Speed\n",
            "100  192k  100  192k    0     0   636k      0 --:--:-- --:--:-- --:--:--  636k\n",
            "  % Total    % Received % Xferd  Average Speed   Time    Time     Time  Current\n",
            "                                 Dload  Upload   Total   Spent    Left  Speed\n",
            "100 53861  100 53861    0     0   202k      0 --:--:-- --:--:-- --:--:--  201k\n",
            "  % Total    % Received % Xferd  Average Speed   Time    Time     Time  Current\n",
            "                                 Dload  Upload   Total   Spent    Left  Speed\n",
            "100 51879  100 51879    0     0  96608      0 --:--:-- --:--:-- --:--:-- 96608\n",
            "  % Total    % Received % Xferd  Average Speed   Time    Time     Time  Current\n",
            "                                 Dload  Upload   Total   Spent    Left  Speed\n",
            "100  658k  100  658k    0     0   767k      0 --:--:-- --:--:-- --:--:--  766k\n",
            "  % Total    % Received % Xferd  Average Speed   Time    Time     Time  Current\n",
            "                                 Dload  Upload   Total   Spent    Left  Speed\n",
            "100  658k  100  658k    0     0   770k      0 --:--:-- --:--:-- --:--:--  769k\n",
            "  % Total    % Received % Xferd  Average Speed   Time    Time     Time  Current\n",
            "                                 Dload  Upload   Total   Spent    Left  Speed\n",
            "100  127k  100  127k    0     0   156k      0 --:--:-- --:--:-- --:--:--  156k\n",
            "  % Total    % Received % Xferd  Average Speed   Time    Time     Time  Current\n",
            "                                 Dload  Upload   Total   Spent    Left  Speed\n",
            "100 94083  100 94083    0     0   140k      0 --:--:-- --:--:-- --:--:--  140k\n",
            "  % Total    % Received % Xferd  Average Speed   Time    Time     Time  Current\n",
            "                                 Dload  Upload   Total   Spent    Left  Speed\n",
            "100 32065  100 32065    0     0   169k      0 --:--:-- --:--:-- --:--:--  168k\n",
            "  % Total    % Received % Xferd  Average Speed   Time    Time     Time  Current\n",
            "                                 Dload  Upload   Total   Spent    Left  Speed\n",
            "100 26763  100 26763    0     0   140k      0 --:--:-- --:--:-- --:--:--  140k\n",
            "  % Total    % Received % Xferd  Average Speed   Time    Time     Time  Current\n",
            "                                 Dload  Upload   Total   Spent    Left  Speed\n",
            "100 1226k  100 1226k    0     0   679k      0  0:00:01  0:00:01 --:--:--  679k\n",
            "  % Total    % Received % Xferd  Average Speed   Time    Time     Time  Current\n",
            "                                 Dload  Upload   Total   Spent    Left  Speed\n",
            "100 1226k  100 1226k    0     0  2756k      0 --:--:-- --:--:-- --:--:-- 2756k\n",
            "  % Total    % Received % Xferd  Average Speed   Time    Time     Time  Current\n",
            "                                 Dload  Upload   Total   Spent    Left  Speed\n",
            "100  104k  100  104k    0     0   151k      0 --:--:-- --:--:-- --:--:--  151k\n",
            "  % Total    % Received % Xferd  Average Speed   Time    Time     Time  Current\n",
            "                                 Dload  Upload   Total   Spent    Left  Speed\n",
            "100 88064  100 88064    0     0   136k      0 --:--:-- --:--:-- --:--:--  136k\n",
            "  % Total    % Received % Xferd  Average Speed   Time    Time     Time  Current\n",
            "                                 Dload  Upload   Total   Spent    Left  Speed\n",
            "100 30209  100 30209    0     0  57540      0 --:--:-- --:--:-- --:--:-- 57540\n",
            "  % Total    % Received % Xferd  Average Speed   Time    Time     Time  Current\n",
            "                                 Dload  Upload   Total   Spent    Left  Speed\n",
            "100 26790  100 26790    0     0  52426      0 --:--:-- --:--:-- --:--:-- 52426\n",
            "  % Total    % Received % Xferd  Average Speed   Time    Time     Time  Current\n",
            "                                 Dload  Upload   Total   Spent    Left  Speed\n",
            "100 1041k  100 1041k    0     0  1105k      0 --:--:-- --:--:-- --:--:-- 1104k\n",
            "  % Total    % Received % Xferd  Average Speed   Time    Time     Time  Current\n",
            "                                 Dload  Upload   Total   Spent    Left  Speed\n",
            "100 1041k  100 1041k    0     0  1157k      0 --:--:-- --:--:-- --:--:-- 1155k\n",
            "  % Total    % Received % Xferd  Average Speed   Time    Time     Time  Current\n",
            "                                 Dload  Upload   Total   Spent    Left  Speed\n",
            "100  176k  100  176k    0     0   786k      0 --:--:-- --:--:-- --:--:--  782k\n",
            "  % Total    % Received % Xferd  Average Speed   Time    Time     Time  Current\n",
            "                                 Dload  Upload   Total   Spent    Left  Speed\n",
            "100  116k  100  116k    0     0   179k      0 --:--:-- --:--:-- --:--:--  179k\n",
            "  % Total    % Received % Xferd  Average Speed   Time    Time     Time  Current\n",
            "                                 Dload  Upload   Total   Spent    Left  Speed\n",
            "100 43376  100 43376    0     0   228k      0 --:--:-- --:--:-- --:--:--  228k\n",
            "  % Total    % Received % Xferd  Average Speed   Time    Time     Time  Current\n",
            "                                 Dload  Upload   Total   Spent    Left  Speed\n",
            "100 34919  100 34919    0     0   169k      0 --:--:-- --:--:-- --:--:--  168k\n",
            "  % Total    % Received % Xferd  Average Speed   Time    Time     Time  Current\n",
            "                                 Dload  Upload   Total   Spent    Left  Speed\n",
            "100 1336k  100 1336k    0     0  1495k      0 --:--:-- --:--:-- --:--:-- 1495k\n",
            "  % Total    % Received % Xferd  Average Speed   Time    Time     Time  Current\n",
            "                                 Dload  Upload   Total   Spent    Left  Speed\n",
            "100 1336k  100 1336k    0     0  1258k      0  0:00:01  0:00:01 --:--:-- 1258k\n",
            "  % Total    % Received % Xferd  Average Speed   Time    Time     Time  Current\n",
            "                                 Dload  Upload   Total   Spent    Left  Speed\n",
            "100  176k  100  176k    0     0   251k      0 --:--:-- --:--:-- --:--:--  251k\n",
            "  % Total    % Received % Xferd  Average Speed   Time    Time     Time  Current\n",
            "                                 Dload  Upload   Total   Spent    Left  Speed\n",
            "100  113k  100  113k    0     0   188k      0 --:--:-- --:--:-- --:--:--  188k\n",
            "  % Total    % Received % Xferd  Average Speed   Time    Time     Time  Current\n",
            "                                 Dload  Upload   Total   Spent    Left  Speed\n",
            "100 45411  100 45411    0     0  62896      0 --:--:-- --:--:-- --:--:-- 62809\n",
            "  % Total    % Received % Xferd  Average Speed   Time    Time     Time  Current\n",
            "                                 Dload  Upload   Total   Spent    Left  Speed\n",
            "100 34254  100 34254    0     0   181k      0 --:--:-- --:--:-- --:--:--  181k\n",
            "  % Total    % Received % Xferd  Average Speed   Time    Time     Time  Current\n",
            "                                 Dload  Upload   Total   Spent    Left  Speed\n",
            "100 1701k  100 1701k    0     0  3604k      0 --:--:-- --:--:-- --:--:-- 3604k\n",
            "  % Total    % Received % Xferd  Average Speed   Time    Time     Time  Current\n",
            "                                 Dload  Upload   Total   Spent    Left  Speed\n",
            "100 1702k  100 1702k    0     0  1707k      0 --:--:-- --:--:-- --:--:-- 1705k\n",
            "  % Total    % Received % Xferd  Average Speed   Time    Time     Time  Current\n",
            "                                 Dload  Upload   Total   Spent    Left  Speed\n",
            "100  245k  100  245k    0     0  1142k      0 --:--:-- --:--:-- --:--:-- 1137k\n",
            "  % Total    % Received % Xferd  Average Speed   Time    Time     Time  Current\n",
            "                                 Dload  Upload   Total   Spent    Left  Speed\n",
            "100  176k  100  176k    0     0   754k      0 --:--:-- --:--:-- --:--:--  754k\n",
            "  % Total    % Received % Xferd  Average Speed   Time    Time     Time  Current\n",
            "                                 Dload  Upload   Total   Spent    Left  Speed\n",
            "100 65860  100 65860    0     0   100k      0 --:--:-- --:--:-- --:--:--  101k\n",
            "  % Total    % Received % Xferd  Average Speed   Time    Time     Time  Current\n",
            "                                 Dload  Upload   Total   Spent    Left  Speed\n",
            "100 49612  100 49612    0     0  86281      0 --:--:-- --:--:-- --:--:-- 86281\n",
            "  % Total    % Received % Xferd  Average Speed   Time    Time     Time  Current\n",
            "                                 Dload  Upload   Total   Spent    Left  Speed\n",
            "100 1270k  100 1270k    0     0  1404k      0 --:--:-- --:--:-- --:--:-- 1403k\n",
            "  % Total    % Received % Xferd  Average Speed   Time    Time     Time  Current\n",
            "                                 Dload  Upload   Total   Spent    Left  Speed\n",
            "100 1119k  100 1119k    0     0  4354k      0 --:--:-- --:--:-- --:--:-- 4354k\n",
            "  % Total    % Received % Xferd  Average Speed   Time    Time     Time  Current\n",
            "                                 Dload  Upload   Total   Spent    Left  Speed\n",
            "100  242k  100  242k    0     0   285k      0 --:--:-- --:--:-- --:--:--  285k\n",
            "  % Total    % Received % Xferd  Average Speed   Time    Time     Time  Current\n",
            "                                 Dload  Upload   Total   Spent    Left  Speed\n",
            "100  167k  100  167k    0     0   214k      0 --:--:-- --:--:-- --:--:--  214k\n",
            "  % Total    % Received % Xferd  Average Speed   Time    Time     Time  Current\n",
            "                                 Dload  Upload   Total   Spent    Left  Speed\n",
            "100 60945  100 60945    0     0  93906      0 --:--:-- --:--:-- --:--:-- 93761\n",
            "  % Total    % Received % Xferd  Average Speed   Time    Time     Time  Current\n",
            "                                 Dload  Upload   Total   Spent    Left  Speed\n",
            "100 51739  100 51739    0     0   216k      0 --:--:-- --:--:-- --:--:--  216k\n",
            "  % Total    % Received % Xferd  Average Speed   Time    Time     Time  Current\n",
            "                                 Dload  Upload   Total   Spent    Left  Speed\n",
            "100 1485k  100 1485k    0     0  6943k      0 --:--:-- --:--:-- --:--:-- 6975k\n",
            "  % Total    % Received % Xferd  Average Speed   Time    Time     Time  Current\n",
            "                                 Dload  Upload   Total   Spent    Left  Speed\n",
            "100 1485k  100 1485k    0     0  1546k      0 --:--:-- --:--:-- --:--:-- 1544k\n",
            "  % Total    % Received % Xferd  Average Speed   Time    Time     Time  Current\n",
            "                                 Dload  Upload   Total   Spent    Left  Speed\n",
            "100 76910  100 76910    0     0   354k      0 --:--:-- --:--:-- --:--:--  354k\n",
            "  % Total    % Received % Xferd  Average Speed   Time    Time     Time  Current\n",
            "                                 Dload  Upload   Total   Spent    Left  Speed\n",
            "100 76910  100 76910    0     0   121k      0 --:--:-- --:--:-- --:--:--  121k\n",
            "  % Total    % Received % Xferd  Average Speed   Time    Time     Time  Current\n",
            "                                 Dload  Upload   Total   Spent    Left  Speed\n",
            "100 24504  100 24504    0     0  47580      0 --:--:-- --:--:-- --:--:-- 47580\n",
            "  % Total    % Received % Xferd  Average Speed   Time    Time     Time  Current\n",
            "                                 Dload  Upload   Total   Spent    Left  Speed\n",
            "100 24504  100 24504    0     0   172k      0 --:--:-- --:--:-- --:--:--  170k\n",
            "  % Total    % Received % Xferd  Average Speed   Time    Time     Time  Current\n",
            "                                 Dload  Upload   Total   Spent    Left  Speed\n",
            "100 1847k  100 1847k    0     0   725k      0  0:00:02  0:00:02 --:--:--  725k\n",
            "  % Total    % Received % Xferd  Average Speed   Time    Time     Time  Current\n",
            "                                 Dload  Upload   Total   Spent    Left  Speed\n",
            "100 1847k  100 1847k    0     0   635k      0  0:00:02  0:00:02 --:--:--  635k\n",
            "  % Total    % Received % Xferd  Average Speed   Time    Time     Time  Current\n",
            "                                 Dload  Upload   Total   Spent    Left  Speed\n",
            "100  191k  100  191k    0     0   246k      0 --:--:-- --:--:-- --:--:--  246k\n",
            "  % Total    % Received % Xferd  Average Speed   Time    Time     Time  Current\n",
            "                                 Dload  Upload   Total   Spent    Left  Speed\n",
            "100  137k  100  137k    0     0   194k      0 --:--:-- --:--:-- --:--:--  194k\n",
            "  % Total    % Received % Xferd  Average Speed   Time    Time     Time  Current\n",
            "                                 Dload  Upload   Total   Spent    Left  Speed\n",
            "100 51088  100 51088    0     0  86006      0 --:--:-- --:--:-- --:--:-- 86006\n",
            "  % Total    % Received % Xferd  Average Speed   Time    Time     Time  Current\n",
            "                                 Dload  Upload   Total   Spent    Left  Speed\n",
            "100 41349  100 41349    0     0   193k      0 --:--:-- --:--:-- --:--:--  193k\n",
            "  % Total    % Received % Xferd  Average Speed   Time    Time     Time  Current\n",
            "                                 Dload  Upload   Total   Spent    Left  Speed\n",
            "100  522k  100  522k    0     0  1385k      0 --:--:-- --:--:-- --:--:-- 1381k\n",
            "  % Total    % Received % Xferd  Average Speed   Time    Time     Time  Current\n",
            "                                 Dload  Upload   Total   Spent    Left  Speed\n",
            "100  522k  100  522k    0     0  2599k      0 --:--:-- --:--:-- --:--:-- 2599k\n",
            "  % Total    % Received % Xferd  Average Speed   Time    Time     Time  Current\n",
            "                                 Dload  Upload   Total   Spent    Left  Speed\n",
            "100  128k  100  128k    0     0   171k      0 --:--:-- --:--:-- --:--:--  171k\n",
            "  % Total    % Received % Xferd  Average Speed   Time    Time     Time  Current\n",
            "                                 Dload  Upload   Total   Spent    Left  Speed\n",
            "100 99544  100 99544    0     0   403k      0 --:--:-- --:--:-- --:--:--  403k\n",
            "  % Total    % Received % Xferd  Average Speed   Time    Time     Time  Current\n",
            "                                 Dload  Upload   Total   Spent    Left  Speed\n",
            "100 33571  100 33571    0     0  60271      0 --:--:-- --:--:-- --:--:-- 60163\n",
            "  % Total    % Received % Xferd  Average Speed   Time    Time     Time  Current\n",
            "                                 Dload  Upload   Total   Spent    Left  Speed\n",
            "100 29688  100 29688    0     0  53978      0 --:--:-- --:--:-- --:--:-- 53978\n",
            "  % Total    % Received % Xferd  Average Speed   Time    Time     Time  Current\n",
            "                                 Dload  Upload   Total   Spent    Left  Speed\n",
            "100  883k  100  883k    0     0  1059k      0 --:--:-- --:--:-- --:--:-- 1058k\n",
            "  % Total    % Received % Xferd  Average Speed   Time    Time     Time  Current\n",
            "                                 Dload  Upload   Total   Spent    Left  Speed\n",
            "100  799k  100  799k    0     0   797k      0  0:00:01  0:00:01 --:--:--  797k\n",
            "  % Total    % Received % Xferd  Average Speed   Time    Time     Time  Current\n",
            "                                 Dload  Upload   Total   Spent    Left  Speed\n",
            "100  160k  100  160k    0     0   751k      0 --:--:-- --:--:-- --:--:--  751k\n",
            "  % Total    % Received % Xferd  Average Speed   Time    Time     Time  Current\n",
            "                                 Dload  Upload   Total   Spent    Left  Speed\n",
            "100  151k  100  151k    0     0   505k      0 --:--:-- --:--:-- --:--:--  503k\n",
            "  % Total    % Received % Xferd  Average Speed   Time    Time     Time  Current\n",
            "                                 Dload  Upload   Total   Spent    Left  Speed\n",
            "100 41105  100 41105    0     0   158k      0 --:--:-- --:--:-- --:--:--  158k\n",
            "  % Total    % Received % Xferd  Average Speed   Time    Time     Time  Current\n",
            "                                 Dload  Upload   Total   Spent    Left  Speed\n",
            "100 41644  100 41644    0     0  76131      0 --:--:-- --:--:-- --:--:-- 76131\n",
            "  % Total    % Received % Xferd  Average Speed   Time    Time     Time  Current\n",
            "                                 Dload  Upload   Total   Spent    Left  Speed\n",
            "100  697k  100  697k    0     0   476k      0  0:00:01  0:00:01 --:--:--  476k\n",
            "  % Total    % Received % Xferd  Average Speed   Time    Time     Time  Current\n",
            "                                 Dload  Upload   Total   Spent    Left  Speed\n",
            "100  697k  100  697k    0     0   764k      0 --:--:-- --:--:-- --:--:--  763k\n",
            "  % Total    % Received % Xferd  Average Speed   Time    Time     Time  Current\n",
            "                                 Dload  Upload   Total   Spent    Left  Speed\n",
            "100  189k  100  189k    0     0   269k      0 --:--:-- --:--:-- --:--:--  269k\n",
            "  % Total    % Received % Xferd  Average Speed   Time    Time     Time  Current\n",
            "                                 Dload  Upload   Total   Spent    Left  Speed\n",
            "100  111k  100  111k    0     0   390k      0 --:--:-- --:--:-- --:--:--  388k\n",
            "  % Total    % Received % Xferd  Average Speed   Time    Time     Time  Current\n",
            "                                 Dload  Upload   Total   Spent    Left  Speed\n",
            "100 44246  100 44246    0     0  79436      0 --:--:-- --:--:-- --:--:-- 79436\n",
            "  % Total    % Received % Xferd  Average Speed   Time    Time     Time  Current\n",
            "                                 Dload  Upload   Total   Spent    Left  Speed\n",
            "100 34204  100 34204    0     0  66415      0 --:--:-- --:--:-- --:--:-- 66286\n",
            "  % Total    % Received % Xferd  Average Speed   Time    Time     Time  Current\n",
            "                                 Dload  Upload   Total   Spent    Left  Speed\n",
            "100 1814k  100 1814k    0     0  2066k      0 --:--:-- --:--:-- --:--:-- 2063k\n",
            "  % Total    % Received % Xferd  Average Speed   Time    Time     Time  Current\n",
            "                                 Dload  Upload   Total   Spent    Left  Speed\n",
            "100 1814k  100 1814k    0     0  1974k      0 --:--:-- --:--:-- --:--:-- 1972k\n",
            "  % Total    % Received % Xferd  Average Speed   Time    Time     Time  Current\n",
            "                                 Dload  Upload   Total   Spent    Left  Speed\n",
            "100  174k  100  174k    0     0   523k      0 --:--:-- --:--:-- --:--:--  523k\n",
            "  % Total    % Received % Xferd  Average Speed   Time    Time     Time  Current\n",
            "                                 Dload  Upload   Total   Spent    Left  Speed\n",
            "100  130k  100  130k    0     0   638k      0 --:--:-- --:--:-- --:--:--  638k\n",
            "  % Total    % Received % Xferd  Average Speed   Time    Time     Time  Current\n",
            "                                 Dload  Upload   Total   Spent    Left  Speed\n",
            "100 50509  100 50509    0     0   222k      0 --:--:-- --:--:-- --:--:--  222k\n",
            "  % Total    % Received % Xferd  Average Speed   Time    Time     Time  Current\n",
            "                                 Dload  Upload   Total   Spent    Left  Speed\n",
            "100 39812  100 39812    0     0  70215      0 --:--:-- --:--:-- --:--:-- 70091\n",
            "  % Total    % Received % Xferd  Average Speed   Time    Time     Time  Current\n",
            "                                 Dload  Upload   Total   Spent    Left  Speed\n",
            "100  904k  100  904k    0     0  1043k      0 --:--:-- --:--:-- --:--:-- 1042k\n",
            "  % Total    % Received % Xferd  Average Speed   Time    Time     Time  Current\n",
            "                                 Dload  Upload   Total   Spent    Left  Speed\n",
            "100  883k  100  883k    0     0   976k      0 --:--:-- --:--:-- --:--:--  975k\n",
            "  % Total    % Received % Xferd  Average Speed   Time    Time     Time  Current\n",
            "                                 Dload  Upload   Total   Spent    Left  Speed\n",
            "100  173k  100  173k    0     0   251k      0 --:--:-- --:--:-- --:--:--  250k\n",
            "  % Total    % Received % Xferd  Average Speed   Time    Time     Time  Current\n",
            "                                 Dload  Upload   Total   Spent    Left  Speed\n",
            "100  134k  100  134k    0     0   180k      0 --:--:-- --:--:-- --:--:--  180k\n",
            "  % Total    % Received % Xferd  Average Speed   Time    Time     Time  Current\n",
            "                                 Dload  Upload   Total   Spent    Left  Speed\n",
            "100 45751  100 45751    0     0  79844      0 --:--:-- --:--:-- --:--:-- 79705\n",
            "  % Total    % Received % Xferd  Average Speed   Time    Time     Time  Current\n",
            "                                 Dload  Upload   Total   Spent    Left  Speed\n",
            "100 41496  100 41496    0     0   180k      0 --:--:-- --:--:-- --:--:--  180k\n",
            "  % Total    % Received % Xferd  Average Speed   Time    Time     Time  Current\n",
            "                                 Dload  Upload   Total   Spent    Left  Speed\n",
            "100  909k  100  909k    0     0  1041k      0 --:--:-- --:--:-- --:--:-- 1040k\n",
            "  % Total    % Received % Xferd  Average Speed   Time    Time     Time  Current\n",
            "                                 Dload  Upload   Total   Spent    Left  Speed\n",
            "100  808k  100  808k    0     0   927k      0 --:--:-- --:--:-- --:--:--  926k\n",
            "  % Total    % Received % Xferd  Average Speed   Time    Time     Time  Current\n",
            "                                 Dload  Upload   Total   Spent    Left  Speed\n",
            "100  214k  100  214k    0     0   302k      0 --:--:-- --:--:-- --:--:--  301k\n",
            "  % Total    % Received % Xferd  Average Speed   Time    Time     Time  Current\n",
            "                                 Dload  Upload   Total   Spent    Left  Speed\n",
            "100  194k  100  194k    0     0   423k      0 --:--:-- --:--:-- --:--:--  423k\n",
            "  % Total    % Received % Xferd  Average Speed   Time    Time     Time  Current\n",
            "                                 Dload  Upload   Total   Spent    Left  Speed\n",
            "100 52464  100 52464    0     0  85725      0 --:--:-- --:--:-- --:--:-- 85585\n",
            "  % Total    % Received % Xferd  Average Speed   Time    Time     Time  Current\n",
            "                                 Dload  Upload   Total   Spent    Left  Speed\n",
            "100 51806  100 51806    0     0   273k      0 --:--:-- --:--:-- --:--:--  273k\n",
            "  % Total    % Received % Xferd  Average Speed   Time    Time     Time  Current\n",
            "                                 Dload  Upload   Total   Spent    Left  Speed\n",
            "100  887k  100  887k    0     0  1027k      0 --:--:-- --:--:-- --:--:-- 1026k\n",
            "  % Total    % Received % Xferd  Average Speed   Time    Time     Time  Current\n",
            "                                 Dload  Upload   Total   Spent    Left  Speed\n",
            "100  887k  100  887k    0     0   996k      0 --:--:-- --:--:-- --:--:--  995k\n",
            "  % Total    % Received % Xferd  Average Speed   Time    Time     Time  Current\n",
            "                                 Dload  Upload   Total   Spent    Left  Speed\n",
            "100  148k  100  148k    0     0   203k      0 --:--:-- --:--:-- --:--:--  203k\n",
            "  % Total    % Received % Xferd  Average Speed   Time    Time     Time  Current\n",
            "                                 Dload  Upload   Total   Spent    Left  Speed\n",
            "100 99454  100 99454    0     0   330k      0 --:--:-- --:--:-- --:--:--  330k\n",
            "  % Total    % Received % Xferd  Average Speed   Time    Time     Time  Current\n",
            "                                 Dload  Upload   Total   Spent    Left  Speed\n",
            "100 36571  100 36571    0     0   150k      0 --:--:-- --:--:-- --:--:--  151k\n",
            "  % Total    % Received % Xferd  Average Speed   Time    Time     Time  Current\n",
            "                                 Dload  Upload   Total   Spent    Left  Speed\n",
            "100 29903  100 29903    0     0   156k      0 --:--:-- --:--:-- --:--:--  156k\n",
            "  % Total    % Received % Xferd  Average Speed   Time    Time     Time  Current\n",
            "                                 Dload  Upload   Total   Spent    Left  Speed\n",
            "100  704k  100  704k    0     0   792k      0 --:--:-- --:--:-- --:--:--  791k\n",
            "  % Total    % Received % Xferd  Average Speed   Time    Time     Time  Current\n",
            "                                 Dload  Upload   Total   Spent    Left  Speed\n",
            "100  704k  100  704k    0     0   769k      0 --:--:-- --:--:-- --:--:--  768k\n",
            "  % Total    % Received % Xferd  Average Speed   Time    Time     Time  Current\n",
            "                                 Dload  Upload   Total   Spent    Left  Speed\n",
            "100  155k  100  155k    0     0   565k      0 --:--:-- --:--:-- --:--:--  565k\n",
            "  % Total    % Received % Xferd  Average Speed   Time    Time     Time  Current\n",
            "                                 Dload  Upload   Total   Spent    Left  Speed\n",
            "100  119k  100  119k    0     0   183k      0 --:--:-- --:--:-- --:--:--  182k\n",
            "  % Total    % Received % Xferd  Average Speed   Time    Time     Time  Current\n",
            "                                 Dload  Upload   Total   Spent    Left  Speed\n",
            "100 38412  100 38412    0     0  71664      0 --:--:-- --:--:-- --:--:-- 71664\n",
            "  % Total    % Received % Xferd  Average Speed   Time    Time     Time  Current\n",
            "                                 Dload  Upload   Total   Spent    Left  Speed\n",
            "100 35140  100 35140    0     0  64833      0 --:--:-- --:--:-- --:--:-- 64714\n",
            "  % Total    % Received % Xferd  Average Speed   Time    Time     Time  Current\n",
            "                                 Dload  Upload   Total   Spent    Left  Speed\n",
            "100 1480k  100 1480k    0     0  3051k      0 --:--:-- --:--:-- --:--:-- 3045k\n",
            "  % Total    % Received % Xferd  Average Speed   Time    Time     Time  Current\n",
            "                                 Dload  Upload   Total   Spent    Left  Speed\n",
            "100 1480k  100 1480k    0     0  2863k      0 --:--:-- --:--:-- --:--:-- 2863k\n",
            "  % Total    % Received % Xferd  Average Speed   Time    Time     Time  Current\n",
            "                                 Dload  Upload   Total   Spent    Left  Speed\n",
            "100  141k  100  141k    0     0   192k      0 --:--:-- --:--:-- --:--:--  191k\n",
            "  % Total    % Received % Xferd  Average Speed   Time    Time     Time  Current\n",
            "                                 Dload  Upload   Total   Spent    Left  Speed\n",
            "100  146k  100  146k    0     0   190k      0 --:--:-- --:--:-- --:--:--  190k\n",
            "  % Total    % Received % Xferd  Average Speed   Time    Time     Time  Current\n",
            "                                 Dload  Upload   Total   Spent    Left  Speed\n",
            "100 36282  100 36282    0     0  69907      0 --:--:-- --:--:-- --:--:-- 69907\n",
            "  % Total    % Received % Xferd  Average Speed   Time    Time     Time  Current\n",
            "                                 Dload  Upload   Total   Spent    Left  Speed\n",
            "100 38817  100 38817    0     0  74936      0 --:--:-- --:--:-- --:--:-- 74791\n",
            "  % Total    % Received % Xferd  Average Speed   Time    Time     Time  Current\n",
            "                                 Dload  Upload   Total   Spent    Left  Speed\n",
            "100 1673k  100 1673k    0     0  1537k      0  0:00:01  0:00:01 --:--:-- 1537k\n",
            "  % Total    % Received % Xferd  Average Speed   Time    Time     Time  Current\n",
            "                                 Dload  Upload   Total   Spent    Left  Speed\n",
            "100 1673k  100 1673k    0     0  1809k      0 --:--:-- --:--:-- --:--:-- 1807k\n",
            "  % Total    % Received % Xferd  Average Speed   Time    Time     Time  Current\n",
            "                                 Dload  Upload   Total   Spent    Left  Speed\n",
            "100  152k  100  152k    0     0   196k      0 --:--:-- --:--:-- --:--:--  196k\n",
            "  % Total    % Received % Xferd  Average Speed   Time    Time     Time  Current\n",
            "                                 Dload  Upload   Total   Spent    Left  Speed\n",
            "100  114k  100  114k    0     0   181k      0 --:--:-- --:--:-- --:--:--  180k\n",
            "  % Total    % Received % Xferd  Average Speed   Time    Time     Time  Current\n",
            "                                 Dload  Upload   Total   Spent    Left  Speed\n",
            "100 43622  100 43622    0     0  76664      0 --:--:-- --:--:-- --:--:-- 76529\n",
            "  % Total    % Received % Xferd  Average Speed   Time    Time     Time  Current\n",
            "                                 Dload  Upload   Total   Spent    Left  Speed\n",
            "100 35144  100 35144    0     0  71430      0 --:--:-- --:--:-- --:--:-- 71430\n",
            "  % Total    % Received % Xferd  Average Speed   Time    Time     Time  Current\n",
            "                                 Dload  Upload   Total   Spent    Left  Speed\n",
            "100  595k  100  595k    0     0  2470k      0 --:--:-- --:--:-- --:--:-- 2470k\n",
            "  % Total    % Received % Xferd  Average Speed   Time    Time     Time  Current\n",
            "                                 Dload  Upload   Total   Spent    Left  Speed\n",
            "100  488k  100  488k    0     0   645k      0 --:--:-- --:--:-- --:--:--  644k\n",
            "  % Total    % Received % Xferd  Average Speed   Time    Time     Time  Current\n",
            "                                 Dload  Upload   Total   Spent    Left  Speed\n",
            "100  124k  100  124k    0     0   367k      0 --:--:-- --:--:-- --:--:--  366k\n",
            "  % Total    % Received % Xferd  Average Speed   Time    Time     Time  Current\n",
            "                                 Dload  Upload   Total   Spent    Left  Speed\n",
            "100  112k  100  112k    0     0   168k      0 --:--:-- --:--:-- --:--:--  169k\n",
            "  % Total    % Received % Xferd  Average Speed   Time    Time     Time  Current\n",
            "                                 Dload  Upload   Total   Spent    Left  Speed\n",
            "100 33591  100 33591    0     0   205k      0 --:--:-- --:--:-- --:--:--  205k\n",
            "  % Total    % Received % Xferd  Average Speed   Time    Time     Time  Current\n",
            "                                 Dload  Upload   Total   Spent    Left  Speed\n",
            "100 34646  100 34646    0     0  68878      0 --:--:-- --:--:-- --:--:-- 68742\n",
            "  % Total    % Received % Xferd  Average Speed   Time    Time     Time  Current\n",
            "                                 Dload  Upload   Total   Spent    Left  Speed\n",
            "100  366k  100  366k    0     0   460k      0 --:--:-- --:--:-- --:--:--  459k\n",
            "  % Total    % Received % Xferd  Average Speed   Time    Time     Time  Current\n",
            "                                 Dload  Upload   Total   Spent    Left  Speed\n",
            "100  349k  100  349k    0     0   411k      0 --:--:-- --:--:-- --:--:--  411k\n",
            "  % Total    % Received % Xferd  Average Speed   Time    Time     Time  Current\n",
            "                                 Dload  Upload   Total   Spent    Left  Speed\n",
            "100  128k  100  128k    0     0   182k      0 --:--:-- --:--:-- --:--:--  182k\n",
            "  % Total    % Received % Xferd  Average Speed   Time    Time     Time  Current\n",
            "                                 Dload  Upload   Total   Spent    Left  Speed\n",
            "100  135k  100  135k    0     0   181k      0 --:--:-- --:--:-- --:--:--  180k\n",
            "  % Total    % Received % Xferd  Average Speed   Time    Time     Time  Current\n",
            "                                 Dload  Upload   Total   Spent    Left  Speed\n",
            "100 33030  100 33030    0     0   180k      0 --:--:-- --:--:-- --:--:--  180k\n",
            "  % Total    % Received % Xferd  Average Speed   Time    Time     Time  Current\n",
            "                                 Dload  Upload   Total   Spent    Left  Speed\n",
            "100 38464  100 38464    0     0   174k      0 --:--:-- --:--:-- --:--:--  173k\n",
            "  % Total    % Received % Xferd  Average Speed   Time    Time     Time  Current\n",
            "                                 Dload  Upload   Total   Spent    Left  Speed\n",
            "100  540k  100  540k    0     0   634k      0 --:--:-- --:--:-- --:--:--  634k\n",
            "  % Total    % Received % Xferd  Average Speed   Time    Time     Time  Current\n",
            "                                 Dload  Upload   Total   Spent    Left  Speed\n",
            "100  539k  100  539k    0     0  1949k      0 --:--:-- --:--:-- --:--:-- 1942k\n",
            "  % Total    % Received % Xferd  Average Speed   Time    Time     Time  Current\n",
            "                                 Dload  Upload   Total   Spent    Left  Speed\n",
            "100  115k  100  115k    0     0   527k      0 --:--:-- --:--:-- --:--:--  527k\n",
            "  % Total    % Received % Xferd  Average Speed   Time    Time     Time  Current\n",
            "                                 Dload  Upload   Total   Spent    Left  Speed\n",
            "100 96640  100 96640    0     0   496k      0 --:--:-- --:--:-- --:--:--  496k\n",
            "  % Total    % Received % Xferd  Average Speed   Time    Time     Time  Current\n",
            "                                 Dload  Upload   Total   Spent    Left  Speed\n",
            "100 30306  100 30306    0     0  54802      0 --:--:-- --:--:-- --:--:-- 54703\n",
            "  % Total    % Received % Xferd  Average Speed   Time    Time     Time  Current\n",
            "                                 Dload  Upload   Total   Spent    Left  Speed\n",
            "100 27705  100 27705    0     0  52273      0 --:--:-- --:--:-- --:--:-- 52273\n",
            "  % Total    % Received % Xferd  Average Speed   Time    Time     Time  Current\n",
            "                                 Dload  Upload   Total   Spent    Left  Speed\n",
            "100  774k  100  774k    0     0   856k      0 --:--:-- --:--:-- --:--:--  855k\n",
            "  % Total    % Received % Xferd  Average Speed   Time    Time     Time  Current\n",
            "                                 Dload  Upload   Total   Spent    Left  Speed\n",
            "100  774k  100  774k    0     0   922k      0 --:--:-- --:--:-- --:--:--  921k\n",
            "  % Total    % Received % Xferd  Average Speed   Time    Time     Time  Current\n",
            "                                 Dload  Upload   Total   Spent    Left  Speed\n",
            "100  170k  100  170k    0     0   226k      0 --:--:-- --:--:-- --:--:--  226k\n",
            "  % Total    % Received % Xferd  Average Speed   Time    Time     Time  Current\n",
            "                                 Dload  Upload   Total   Spent    Left  Speed\n",
            "100  109k  100  109k    0     0   169k      0 --:--:-- --:--:-- --:--:--  169k\n",
            "  % Total    % Received % Xferd  Average Speed   Time    Time     Time  Current\n",
            "                                 Dload  Upload   Total   Spent    Left  Speed\n",
            "100 41125  100 41125    0     0   211k      0 --:--:-- --:--:-- --:--:--  210k\n",
            "  % Total    % Received % Xferd  Average Speed   Time    Time     Time  Current\n",
            "                                 Dload  Upload   Total   Spent    Left  Speed\n",
            "100 32466  100 32466    0     0  60570      0 --:--:-- --:--:-- --:--:-- 60570\n",
            "  % Total    % Received % Xferd  Average Speed   Time    Time     Time  Current\n",
            "                                 Dload  Upload   Total   Spent    Left  Speed\n",
            "100 1117k  100 1117k    0     0  1130k      0 --:--:-- --:--:-- --:--:-- 1129k\n",
            "  % Total    % Received % Xferd  Average Speed   Time    Time     Time  Current\n",
            "                                 Dload  Upload   Total   Spent    Left  Speed\n",
            "100 1020k  100 1020k    0     0  1035k      0 --:--:-- --:--:-- --:--:-- 1034k\n",
            "  % Total    % Received % Xferd  Average Speed   Time    Time     Time  Current\n",
            "                                 Dload  Upload   Total   Spent    Left  Speed\n",
            "100  224k  100  224k    0     0   620k      0 --:--:-- --:--:-- --:--:--  618k\n",
            "  % Total    % Received % Xferd  Average Speed   Time    Time     Time  Current\n",
            "                                 Dload  Upload   Total   Spent    Left  Speed\n",
            "100  158k  100  158k    0     0   225k      0 --:--:-- --:--:-- --:--:--  225k\n",
            "  % Total    % Received % Xferd  Average Speed   Time    Time     Time  Current\n",
            "                                 Dload  Upload   Total   Spent    Left  Speed\n",
            "100 57667  100 57667    0     0   105k      0 --:--:-- --:--:-- --:--:--  105k\n",
            "  % Total    % Received % Xferd  Average Speed   Time    Time     Time  Current\n",
            "                                 Dload  Upload   Total   Spent    Left  Speed\n",
            "100 46728  100 46728    0     0  94400      0 --:--:-- --:--:-- --:--:-- 94400\n",
            "  % Total    % Received % Xferd  Average Speed   Time    Time     Time  Current\n",
            "                                 Dload  Upload   Total   Spent    Left  Speed\n",
            "100 1099k  100 1099k    0     0  1259k      0 --:--:-- --:--:-- --:--:-- 1258k\n",
            "  % Total    % Received % Xferd  Average Speed   Time    Time     Time  Current\n",
            "                                 Dload  Upload   Total   Spent    Left  Speed\n",
            "100 1099k  100 1099k    0     0  1105k      0 --:--:-- --:--:-- --:--:-- 1103k\n",
            "  % Total    % Received % Xferd  Average Speed   Time    Time     Time  Current\n",
            "                                 Dload  Upload   Total   Spent    Left  Speed\n",
            "100  110k  100  110k    0     0   476k      0 --:--:-- --:--:-- --:--:--  478k\n",
            "  % Total    % Received % Xferd  Average Speed   Time    Time     Time  Current\n",
            "                                 Dload  Upload   Total   Spent    Left  Speed\n",
            "100  121k  100  121k    0     0   167k      0 --:--:-- --:--:-- --:--:--  166k\n",
            "  % Total    % Received % Xferd  Average Speed   Time    Time     Time  Current\n",
            "                                 Dload  Upload   Total   Spent    Left  Speed\n",
            "100 29978  100 29978    0     0   166k      0 --:--:-- --:--:-- --:--:--  166k\n",
            "  % Total    % Received % Xferd  Average Speed   Time    Time     Time  Current\n",
            "                                 Dload  Upload   Total   Spent    Left  Speed\n",
            "100 31094  100 31094    0     0   133k      0 --:--:-- --:--:-- --:--:--  133k\n",
            "  % Total    % Received % Xferd  Average Speed   Time    Time     Time  Current\n",
            "                                 Dload  Upload   Total   Spent    Left  Speed\n",
            "100 1523k  100 1523k    0     0  1575k      0 --:--:-- --:--:-- --:--:-- 1574k\n",
            "  % Total    % Received % Xferd  Average Speed   Time    Time     Time  Current\n",
            "                                 Dload  Upload   Total   Spent    Left  Speed\n",
            "100 1524k  100 1524k    0     0  1611k      0 --:--:-- --:--:-- --:--:-- 1609k\n",
            "  % Total    % Received % Xferd  Average Speed   Time    Time     Time  Current\n",
            "                                 Dload  Upload   Total   Spent    Left  Speed\n",
            "100  150k  100  150k    0     0   651k      0 --:--:-- --:--:-- --:--:--  651k\n",
            "  % Total    % Received % Xferd  Average Speed   Time    Time     Time  Current\n",
            "                                 Dload  Upload   Total   Spent    Left  Speed\n",
            "100  108k  100  108k    0     0   161k      0 --:--:-- --:--:-- --:--:--  161k\n",
            "  % Total    % Received % Xferd  Average Speed   Time    Time     Time  Current\n",
            "                                 Dload  Upload   Total   Spent    Left  Speed\n",
            "100 42379  100 42379    0     0  80111      0 --:--:-- --:--:-- --:--:-- 79960\n",
            "  % Total    % Received % Xferd  Average Speed   Time    Time     Time  Current\n",
            "                                 Dload  Upload   Total   Spent    Left  Speed\n",
            "100 33153  100 33153    0     0   197k      0 --:--:-- --:--:-- --:--:--  197k\n",
            "  % Total    % Received % Xferd  Average Speed   Time    Time     Time  Current\n",
            "                                 Dload  Upload   Total   Spent    Left  Speed\n",
            "100 1179k  100 1179k    0     0  3918k      0 --:--:-- --:--:-- --:--:-- 3918k\n",
            "  % Total    % Received % Xferd  Average Speed   Time    Time     Time  Current\n",
            "                                 Dload  Upload   Total   Spent    Left  Speed\n",
            "100 1179k  100 1179k    0     0  1255k      0 --:--:-- --:--:-- --:--:-- 1254k\n",
            "  % Total    % Received % Xferd  Average Speed   Time    Time     Time  Current\n",
            "                                 Dload  Upload   Total   Spent    Left  Speed\n",
            "100  144k  100  144k    0     0   217k      0 --:--:-- --:--:-- --:--:--  216k\n",
            "  % Total    % Received % Xferd  Average Speed   Time    Time     Time  Current\n",
            "                                 Dload  Upload   Total   Spent    Left  Speed\n",
            "100   99k  100   99k    0     0   422k      0 --:--:-- --:--:-- --:--:--  422k\n",
            "  % Total    % Received % Xferd  Average Speed   Time    Time     Time  Current\n",
            "                                 Dload  Upload   Total   Spent    Left  Speed\n",
            "100 37328  100 37328    0     0  68617      0 --:--:-- --:--:-- --:--:-- 68491\n",
            "  % Total    % Received % Xferd  Average Speed   Time    Time     Time  Current\n",
            "                                 Dload  Upload   Total   Spent    Left  Speed\n",
            "100 28790  100 28790    0     0  53513      0 --:--:-- --:--:-- --:--:-- 53513\n",
            "  % Total    % Received % Xferd  Average Speed   Time    Time     Time  Current\n",
            "                                 Dload  Upload   Total   Spent    Left  Speed\n",
            "100 1187k  100 1187k    0     0  2800k      0 --:--:-- --:--:-- --:--:-- 2794k\n",
            "  % Total    % Received % Xferd  Average Speed   Time    Time     Time  Current\n",
            "                                 Dload  Upload   Total   Spent    Left  Speed\n",
            "100 1187k  100 1187k    0     0  2128k      0 --:--:-- --:--:-- --:--:-- 2128k\n",
            "  % Total    % Received % Xferd  Average Speed   Time    Time     Time  Current\n",
            "                                 Dload  Upload   Total   Spent    Left  Speed\n",
            "100  198k  100  198k    0     0   285k      0 --:--:-- --:--:-- --:--:--  285k\n",
            "  % Total    % Received % Xferd  Average Speed   Time    Time     Time  Current\n",
            "                                 Dload  Upload   Total   Spent    Left  Speed\n",
            "100  115k  100  115k    0     0   171k      0 --:--:-- --:--:-- --:--:--  171k\n",
            "  % Total    % Received % Xferd  Average Speed   Time    Time     Time  Current\n",
            "                                 Dload  Upload   Total   Spent    Left  Speed\n",
            "100 47086  100 47086    0     0   256k      0 --:--:-- --:--:-- --:--:--  256k\n",
            "  % Total    % Received % Xferd  Average Speed   Time    Time     Time  Current\n",
            "                                 Dload  Upload   Total   Spent    Left  Speed\n",
            "100 35693  100 35693    0     0  63737      0 --:--:-- --:--:-- --:--:-- 63623\n",
            "  % Total    % Received % Xferd  Average Speed   Time    Time     Time  Current\n",
            "                                 Dload  Upload   Total   Spent    Left  Speed\n",
            "100 1769k  100 1769k    0     0  3780k      0 --:--:-- --:--:-- --:--:-- 3780k\n",
            "  % Total    % Received % Xferd  Average Speed   Time    Time     Time  Current\n",
            "                                 Dload  Upload   Total   Spent    Left  Speed\n",
            "100 1769k  100 1769k    0     0  1749k      0  0:00:01  0:00:01 --:--:-- 1749k\n",
            "  % Total    % Received % Xferd  Average Speed   Time    Time     Time  Current\n",
            "                                 Dload  Upload   Total   Spent    Left  Speed\n",
            "100  177k  100  177k    0     0   239k      0 --:--:-- --:--:-- --:--:--  239k\n",
            "  % Total    % Received % Xferd  Average Speed   Time    Time     Time  Current\n",
            "                                 Dload  Upload   Total   Spent    Left  Speed\n",
            "100  118k  100  118k    0     0   171k      0 --:--:-- --:--:-- --:--:--  170k\n",
            "  % Total    % Received % Xferd  Average Speed   Time    Time     Time  Current\n",
            "                                 Dload  Upload   Total   Spent    Left  Speed\n",
            "100 48381  100 48381    0     0  91979      0 --:--:-- --:--:-- --:--:-- 91979\n",
            "  % Total    % Received % Xferd  Average Speed   Time    Time     Time  Current\n",
            "                                 Dload  Upload   Total   Spent    Left  Speed\n",
            "100 36129  100 36129    0     0  67279      0 --:--:-- --:--:-- --:--:-- 67154\n",
            "  % Total    % Received % Xferd  Average Speed   Time    Time     Time  Current\n",
            "                                 Dload  Upload   Total   Spent    Left  Speed\n",
            "100 1288k  100 1288k    0     0  1370k      0 --:--:-- --:--:-- --:--:-- 1369k\n",
            "  % Total    % Received % Xferd  Average Speed   Time    Time     Time  Current\n",
            "                                 Dload  Upload   Total   Spent    Left  Speed\n",
            "100 1288k  100 1288k    0     0  2431k      0 --:--:-- --:--:-- --:--:-- 2431k\n",
            "  % Total    % Received % Xferd  Average Speed   Time    Time     Time  Current\n",
            "                                 Dload  Upload   Total   Spent    Left  Speed\n",
            "100  175k  100  175k    0     0   240k      0 --:--:-- --:--:-- --:--:--  240k\n",
            "  % Total    % Received % Xferd  Average Speed   Time    Time     Time  Current\n",
            "                                 Dload  Upload   Total   Spent    Left  Speed\n",
            "100 97622  100 97622    0     0   328k      0 --:--:-- --:--:-- --:--:--  328k\n",
            "  % Total    % Received % Xferd  Average Speed   Time    Time     Time  Current\n",
            "                                 Dload  Upload   Total   Spent    Left  Speed\n",
            "100 43740  100 43740    0     0  81604      0 --:--:-- --:--:-- --:--:-- 81452\n",
            "  % Total    % Received % Xferd  Average Speed   Time    Time     Time  Current\n",
            "                                 Dload  Upload   Total   Spent    Left  Speed\n",
            "100 28813  100 28813    0     0  53258      0 --:--:-- --:--:-- --:--:-- 53357\n",
            "  % Total    % Received % Xferd  Average Speed   Time    Time     Time  Current\n",
            "                                 Dload  Upload   Total   Spent    Left  Speed\n",
            "100 1202k  100 1202k    0     0  2385k      0 --:--:-- --:--:-- --:--:-- 2380k\n",
            "  % Total    % Received % Xferd  Average Speed   Time    Time     Time  Current\n",
            "                                 Dload  Upload   Total   Spent    Left  Speed\n",
            "100 1141k  100 1141k    0     0  2554k      0 --:--:-- --:--:-- --:--:-- 2554k\n",
            "  % Total    % Received % Xferd  Average Speed   Time    Time     Time  Current\n",
            "                                 Dload  Upload   Total   Spent    Left  Speed\n",
            "100  249k  100  249k    0     0   332k      0 --:--:-- --:--:-- --:--:--  332k\n",
            "  % Total    % Received % Xferd  Average Speed   Time    Time     Time  Current\n",
            "                                 Dload  Upload   Total   Spent    Left  Speed\n",
            "100  171k  100  171k    0     0   444k      0 --:--:-- --:--:-- --:--:--  444k\n",
            "  % Total    % Received % Xferd  Average Speed   Time    Time     Time  Current\n",
            "                                 Dload  Upload   Total   Spent    Left  Speed\n",
            "100 59650  100 59650    0     0   278k      0 --:--:-- --:--:-- --:--:--  277k\n",
            "  % Total    % Received % Xferd  Average Speed   Time    Time     Time  Current\n",
            "                                 Dload  Upload   Total   Spent    Left  Speed\n",
            "100 49695  100 49695    0     0   169k      0 --:--:-- --:--:-- --:--:--  169k\n",
            "  % Total    % Received % Xferd  Average Speed   Time    Time     Time  Current\n",
            "                                 Dload  Upload   Total   Spent    Left  Speed\n",
            "100 1075k  100 1075k    0     0  1246k      0 --:--:-- --:--:-- --:--:-- 1244k\n",
            "  % Total    % Received % Xferd  Average Speed   Time    Time     Time  Current\n",
            "                                 Dload  Upload   Total   Spent    Left  Speed\n",
            "100 1075k  100 1075k    0     0  3537k      0 --:--:-- --:--:-- --:--:-- 3537k\n",
            "  % Total    % Received % Xferd  Average Speed   Time    Time     Time  Current\n",
            "                                 Dload  Upload   Total   Spent    Left  Speed\n",
            "100  208k  100  208k    0     0   285k      0 --:--:-- --:--:-- --:--:--  284k\n",
            "  % Total    % Received % Xferd  Average Speed   Time    Time     Time  Current\n",
            "                                 Dload  Upload   Total   Spent    Left  Speed\n",
            "100  114k  100  114k    0     0   184k      0 --:--:-- --:--:-- --:--:--  184k\n",
            "  % Total    % Received % Xferd  Average Speed   Time    Time     Time  Current\n",
            "                                 Dload  Upload   Total   Spent    Left  Speed\n",
            "100 47142  100 47142    0     0   177k      0 --:--:-- --:--:-- --:--:--  177k\n",
            "  % Total    % Received % Xferd  Average Speed   Time    Time     Time  Current\n",
            "                                 Dload  Upload   Total   Spent    Left  Speed\n",
            "100 35535  100 35535    0     0  62451      0 --:--:-- --:--:-- --:--:-- 62451\n",
            "  % Total    % Received % Xferd  Average Speed   Time    Time     Time  Current\n",
            "                                 Dload  Upload   Total   Spent    Left  Speed\n",
            "100  998k  100  998k    0     0  1184k      0 --:--:-- --:--:-- --:--:-- 1183k\n",
            "  % Total    % Received % Xferd  Average Speed   Time    Time     Time  Current\n",
            "                                 Dload  Upload   Total   Spent    Left  Speed\n",
            "100  998k  100  998k    0     0  1177k      0 --:--:-- --:--:-- --:--:-- 1176k\n",
            "  % Total    % Received % Xferd  Average Speed   Time    Time     Time  Current\n",
            "                                 Dload  Upload   Total   Spent    Left  Speed\n",
            "100  168k  100  168k    0     0   252k      0 --:--:-- --:--:-- --:--:--  251k\n",
            "  % Total    % Received % Xferd  Average Speed   Time    Time     Time  Current\n",
            "                                 Dload  Upload   Total   Spent    Left  Speed\n",
            "100  106k  100  106k    0     0   420k      0 --:--:-- --:--:-- --:--:--  420k\n",
            "  % Total    % Received % Xferd  Average Speed   Time    Time     Time  Current\n",
            "                                 Dload  Upload   Total   Spent    Left  Speed\n",
            "100 41474  100 41474    0     0  79148      0 --:--:-- --:--:-- --:--:-- 78998\n",
            "  % Total    % Received % Xferd  Average Speed   Time    Time     Time  Current\n",
            "                                 Dload  Upload   Total   Spent    Left  Speed\n",
            "100 32667  100 32667    0     0  59829      0 --:--:-- --:--:-- --:--:-- 59829\n",
            "  % Total    % Received % Xferd  Average Speed   Time    Time     Time  Current\n",
            "                                 Dload  Upload   Total   Spent    Left  Speed\n",
            "100  807k  100  807k    0     0  2978k      0 --:--:-- --:--:-- --:--:-- 2978k\n",
            "  % Total    % Received % Xferd  Average Speed   Time    Time     Time  Current\n",
            "                                 Dload  Upload   Total   Spent    Left  Speed\n",
            "100  807k  100  807k    0     0  1620k      0 --:--:-- --:--:-- --:--:-- 1617k\n",
            "  % Total    % Received % Xferd  Average Speed   Time    Time     Time  Current\n",
            "                                 Dload  Upload   Total   Spent    Left  Speed\n",
            "100  176k  100  176k    0     0   792k      0 --:--:-- --:--:-- --:--:--  792k\n",
            "  % Total    % Received % Xferd  Average Speed   Time    Time     Time  Current\n",
            "                                 Dload  Upload   Total   Spent    Left  Speed\n",
            "100  104k  100  104k    0     0   479k      0 --:--:-- --:--:-- --:--:--  479k\n",
            "  % Total    % Received % Xferd  Average Speed   Time    Time     Time  Current\n",
            "                                 Dload  Upload   Total   Spent    Left  Speed\n",
            "100 41786  100 41786    0     0  79744      0 --:--:-- --:--:-- --:--:-- 79592\n",
            "  % Total    % Received % Xferd  Average Speed   Time    Time     Time  Current\n",
            "                                 Dload  Upload   Total   Spent    Left  Speed\n",
            "100 31420  100 31420    0     0  60076      0 --:--:-- --:--:-- --:--:-- 60076\n",
            "  % Total    % Received % Xferd  Average Speed   Time    Time     Time  Current\n",
            "                                 Dload  Upload   Total   Spent    Left  Speed\n",
            "100 1320k  100 1320k    0     0  1467k      0 --:--:-- --:--:-- --:--:-- 1466k\n",
            "  % Total    % Received % Xferd  Average Speed   Time    Time     Time  Current\n",
            "                                 Dload  Upload   Total   Spent    Left  Speed\n",
            "100 1320k  100 1320k    0     0  2238k      0 --:--:-- --:--:-- --:--:-- 2234k\n",
            "  % Total    % Received % Xferd  Average Speed   Time    Time     Time  Current\n",
            "                                 Dload  Upload   Total   Spent    Left  Speed\n",
            "100  180k  100  180k    0     0   719k      0 --:--:-- --:--:-- --:--:--  719k\n",
            "  % Total    % Received % Xferd  Average Speed   Time    Time     Time  Current\n",
            "                                 Dload  Upload   Total   Spent    Left  Speed\n",
            "100  105k  100  105k    0     0   162k      0 --:--:-- --:--:-- --:--:--  162k\n",
            "  % Total    % Received % Xferd  Average Speed   Time    Time     Time  Current\n",
            "                                 Dload  Upload   Total   Spent    Left  Speed\n",
            "100 45276  100 45276    0     0  86404      0 --:--:-- --:--:-- --:--:-- 86404\n",
            "  % Total    % Received % Xferd  Average Speed   Time    Time     Time  Current\n",
            "                                 Dload  Upload   Total   Spent    Left  Speed\n",
            "100 31445  100 31445    0     0  61416      0 --:--:-- --:--:-- --:--:-- 61296\n",
            "  % Total    % Received % Xferd  Average Speed   Time    Time     Time  Current\n",
            "                                 Dload  Upload   Total   Spent    Left  Speed\n",
            "100  713k  100  713k    0     0   807k      0 --:--:-- --:--:-- --:--:--  806k\n",
            "  % Total    % Received % Xferd  Average Speed   Time    Time     Time  Current\n",
            "                                 Dload  Upload   Total   Spent    Left  Speed\n",
            "100  637k  100  637k    0     0  3019k      0 --:--:-- --:--:-- --:--:-- 3034k\n",
            "  % Total    % Received % Xferd  Average Speed   Time    Time     Time  Current\n",
            "                                 Dload  Upload   Total   Spent    Left  Speed\n",
            "100  243k  100  243k    0     0  1095k      0 --:--:-- --:--:-- --:--:-- 1095k\n",
            "  % Total    % Received % Xferd  Average Speed   Time    Time     Time  Current\n",
            "                                 Dload  Upload   Total   Spent    Left  Speed\n",
            "100  197k  100  197k    0     0   270k      0 --:--:-- --:--:-- --:--:--  270k\n",
            "  % Total    % Received % Xferd  Average Speed   Time    Time     Time  Current\n",
            "                                 Dload  Upload   Total   Spent    Left  Speed\n",
            "100 54202  100 54202    0     0  92970      0 --:--:-- --:--:-- --:--:-- 92811\n",
            "  % Total    % Received % Xferd  Average Speed   Time    Time     Time  Current\n",
            "                                 Dload  Upload   Total   Spent    Left  Speed\n",
            "100 54280  100 54280    0     0   309k      0 --:--:-- --:--:-- --:--:--  311k\n",
            "  % Total    % Received % Xferd  Average Speed   Time    Time     Time  Current\n",
            "                                 Dload  Upload   Total   Spent    Left  Speed\n",
            "100  441k  100  441k    0     0   423k      0  0:00:01  0:00:01 --:--:--  423k\n",
            "  % Total    % Received % Xferd  Average Speed   Time    Time     Time  Current\n",
            "                                 Dload  Upload   Total   Spent    Left  Speed\n",
            "100  446k  100  446k    0     0   538k      0 --:--:-- --:--:-- --:--:--  537k\n",
            "  % Total    % Received % Xferd  Average Speed   Time    Time     Time  Current\n",
            "                                 Dload  Upload   Total   Spent    Left  Speed\n",
            "100  148k  100  148k    0     0   617k      0 --:--:-- --:--:-- --:--:--  617k\n",
            "  % Total    % Received % Xferd  Average Speed   Time    Time     Time  Current\n",
            "                                 Dload  Upload   Total   Spent    Left  Speed\n",
            "100  180k  100  180k    0     0   842k      0 --:--:-- --:--:-- --:--:--  845k\n",
            "  % Total    % Received % Xferd  Average Speed   Time    Time     Time  Current\n",
            "                                 Dload  Upload   Total   Spent    Left  Speed\n",
            "100 33892  100 33892    0     0  69450      0 --:--:-- --:--:-- --:--:-- 69308\n",
            "  % Total    % Received % Xferd  Average Speed   Time    Time     Time  Current\n",
            "                                 Dload  Upload   Total   Spent    Left  Speed\n",
            "100 33806  100 33806    0     0  61689      0 --:--:-- --:--:-- --:--:-- 61689\n",
            "  % Total    % Received % Xferd  Average Speed   Time    Time     Time  Current\n",
            "                                 Dload  Upload   Total   Spent    Left  Speed\n",
            "100  529k  100  529k    0     0  1906k      0 --:--:-- --:--:-- --:--:-- 1899k\n",
            "  % Total    % Received % Xferd  Average Speed   Time    Time     Time  Current\n",
            "                                 Dload  Upload   Total   Spent    Left  Speed\n",
            "100  529k  100  529k    0     0   648k      0 --:--:-- --:--:-- --:--:--  648k\n",
            "  % Total    % Received % Xferd  Average Speed   Time    Time     Time  Current\n",
            "                                 Dload  Upload   Total   Spent    Left  Speed\n",
            "100  114k  100  114k    0     0   356k      0 --:--:-- --:--:-- --:--:--  355k\n",
            "  % Total    % Received % Xferd  Average Speed   Time    Time     Time  Current\n",
            "                                 Dload  Upload   Total   Spent    Left  Speed\n",
            "100   99k  100   99k    0     0   166k      0 --:--:-- --:--:-- --:--:--  166k\n",
            "  % Total    % Received % Xferd  Average Speed   Time    Time     Time  Current\n",
            "                                 Dload  Upload   Total   Spent    Left  Speed\n",
            "100 29122  100 29122    0     0   165k      0 --:--:-- --:--:-- --:--:--  164k\n",
            "  % Total    % Received % Xferd  Average Speed   Time    Time     Time  Current\n",
            "                                 Dload  Upload   Total   Spent    Left  Speed\n",
            "100 26475  100 26475    0     0   133k      0 --:--:-- --:--:-- --:--:--  133k\n",
            "  % Total    % Received % Xferd  Average Speed   Time    Time     Time  Current\n",
            "                                 Dload  Upload   Total   Spent    Left  Speed\n",
            "100 1054k  100 1054k    0     0  1239k      0 --:--:-- --:--:-- --:--:-- 1238k\n",
            "  % Total    % Received % Xferd  Average Speed   Time    Time     Time  Current\n",
            "                                 Dload  Upload   Total   Spent    Left  Speed\n",
            "100 1060k  100 1060k    0     0  1197k      0 --:--:-- --:--:-- --:--:-- 1197k\n",
            "  % Total    % Received % Xferd  Average Speed   Time    Time     Time  Current\n",
            "                                 Dload  Upload   Total   Spent    Left  Speed\n",
            "100  150k  100  150k    0     0   220k      0 --:--:-- --:--:-- --:--:--  220k\n",
            "  % Total    % Received % Xferd  Average Speed   Time    Time     Time  Current\n",
            "                                 Dload  Upload   Total   Spent    Left  Speed\n",
            "100  129k  100  129k    0     0   165k      0 --:--:-- --:--:-- --:--:--  165k\n",
            "  % Total    % Received % Xferd  Average Speed   Time    Time     Time  Current\n",
            "                                 Dload  Upload   Total   Spent    Left  Speed\n",
            "100 36857  100 36857    0     0  70607      0 --:--:-- --:--:-- --:--:-- 70607\n",
            "  % Total    % Received % Xferd  Average Speed   Time    Time     Time  Current\n",
            "                                 Dload  Upload   Total   Spent    Left  Speed\n",
            "100 36136  100 36136    0     0   226k      0 --:--:-- --:--:-- --:--:--  226k\n",
            "  % Total    % Received % Xferd  Average Speed   Time    Time     Time  Current\n",
            "                                 Dload  Upload   Total   Spent    Left  Speed\n",
            "100 1021k  100 1021k    0     0  2961k      0 --:--:-- --:--:-- --:--:-- 2961k\n",
            "  % Total    % Received % Xferd  Average Speed   Time    Time     Time  Current\n",
            "                                 Dload  Upload   Total   Spent    Left  Speed\n",
            "100  921k  100  921k    0     0  1014k      0 --:--:-- --:--:-- --:--:-- 1013k\n",
            "  % Total    % Received % Xferd  Average Speed   Time    Time     Time  Current\n",
            "                                 Dload  Upload   Total   Spent    Left  Speed\n",
            "100  227k  100  227k    0     0   926k      0 --:--:-- --:--:-- --:--:--  926k\n",
            "  % Total    % Received % Xferd  Average Speed   Time    Time     Time  Current\n",
            "                                 Dload  Upload   Total   Spent    Left  Speed\n",
            "100  163k  100  163k    0     0   424k      0 --:--:-- --:--:-- --:--:--  423k\n",
            "  % Total    % Received % Xferd  Average Speed   Time    Time     Time  Current\n",
            "                                 Dload  Upload   Total   Spent    Left  Speed\n",
            "100 51769  100 51769    0     0  94815      0 --:--:-- --:--:-- --:--:-- 94815\n",
            "  % Total    % Received % Xferd  Average Speed   Time    Time     Time  Current\n",
            "                                 Dload  Upload   Total   Spent    Left  Speed\n",
            "100 45345  100 45345    0     0  75323      0 --:--:-- --:--:-- --:--:-- 75199\n",
            "  % Total    % Received % Xferd  Average Speed   Time    Time     Time  Current\n",
            "                                 Dload  Upload   Total   Spent    Left  Speed\n",
            "100 1152k  100 1152k    0     0  1046k      0  0:00:01  0:00:01 --:--:-- 1046k\n",
            "  % Total    % Received % Xferd  Average Speed   Time    Time     Time  Current\n",
            "                                 Dload  Upload   Total   Spent    Left  Speed\n",
            "100 1145k  100 1145k    0     0  2182k      0 --:--:-- --:--:-- --:--:-- 2182k\n",
            "  % Total    % Received % Xferd  Average Speed   Time    Time     Time  Current\n",
            "                                 Dload  Upload   Total   Spent    Left  Speed\n",
            "100 84360  100 84360    0     0   122k      0 --:--:-- --:--:-- --:--:--  122k\n",
            "  % Total    % Received % Xferd  Average Speed   Time    Time     Time  Current\n",
            "                                 Dload  Upload   Total   Spent    Left  Speed\n",
            "100 97342  100 97342    0     0   430k      0 --:--:-- --:--:-- --:--:--  430k\n",
            "  % Total    % Received % Xferd  Average Speed   Time    Time     Time  Current\n",
            "                                 Dload  Upload   Total   Spent    Left  Speed\n",
            "100 24328  100 24328    0     0   138k      0 --:--:-- --:--:-- --:--:--  138k\n",
            "  % Total    % Received % Xferd  Average Speed   Time    Time     Time  Current\n",
            "                                 Dload  Upload   Total   Spent    Left  Speed\n",
            "100 23503  100 23503    0     0  43363      0 --:--:-- --:--:-- --:--:-- 43363\n",
            "  % Total    % Received % Xferd  Average Speed   Time    Time     Time  Current\n",
            "                                 Dload  Upload   Total   Spent    Left  Speed\n",
            "100  565k  100  565k    0     0  2927k      0 --:--:-- --:--:-- --:--:-- 2927k\n",
            "  % Total    % Received % Xferd  Average Speed   Time    Time     Time  Current\n",
            "                                 Dload  Upload   Total   Spent    Left  Speed\n",
            "100  323k  100  323k    0     0   636k      0 --:--:-- --:--:-- --:--:--  634k\n",
            "  % Total    % Received % Xferd  Average Speed   Time    Time     Time  Current\n",
            "                                 Dload  Upload   Total   Spent    Left  Speed\n",
            "100  122k  100  122k    0     0   178k      0 --:--:-- --:--:-- --:--:--  178k\n",
            "  % Total    % Received % Xferd  Average Speed   Time    Time     Time  Current\n",
            "                                 Dload  Upload   Total   Spent    Left  Speed\n",
            "100  126k  100  126k    0     0   502k      0 --:--:-- --:--:-- --:--:--  502k\n",
            "  % Total    % Received % Xferd  Average Speed   Time    Time     Time  Current\n",
            "                                 Dload  Upload   Total   Spent    Left  Speed\n",
            "100 33588  100 33588    0     0  62200      0 --:--:-- --:--:-- --:--:-- 62200\n",
            "  % Total    % Received % Xferd  Average Speed   Time    Time     Time  Current\n",
            "                                 Dload  Upload   Total   Spent    Left  Speed\n",
            "100 38552  100 38552    0     0   226k      0 --:--:-- --:--:-- --:--:--  226k\n",
            "  % Total    % Received % Xferd  Average Speed   Time    Time     Time  Current\n",
            "                                 Dload  Upload   Total   Spent    Left  Speed\n",
            "100 1147k  100 1147k    0     0  3956k      0 --:--:-- --:--:-- --:--:-- 3956k\n",
            "  % Total    % Received % Xferd  Average Speed   Time    Time     Time  Current\n",
            "                                 Dload  Upload   Total   Spent    Left  Speed\n",
            "100  105k  100  105k    0     0   455k      0 --:--:-- --:--:-- --:--:--  455k\n",
            "  % Total    % Received % Xferd  Average Speed   Time    Time     Time  Current\n",
            "                                 Dload  Upload   Total   Spent    Left  Speed\n",
            "100 31351  100 31351    0     0  52426      0 --:--:-- --:--:-- --:--:-- 52338\n",
            "  % Total    % Received % Xferd  Average Speed   Time    Time     Time  Current\n",
            "                                 Dload  Upload   Total   Spent    Left  Speed\n",
            "100  979k  100  979k    0     0  4411k      0 --:--:-- --:--:-- --:--:-- 4411k\n",
            "  % Total    % Received % Xferd  Average Speed   Time    Time     Time  Current\n",
            "                                 Dload  Upload   Total   Spent    Left  Speed\n",
            "100 86916  100 86916    0     0   365k      0 --:--:-- --:--:-- --:--:--  367k\n",
            "  % Total    % Received % Xferd  Average Speed   Time    Time     Time  Current\n",
            "                                 Dload  Upload   Total   Spent    Left  Speed\n",
            "100 26047  100 26047    0     0  48235      0 --:--:-- --:--:-- --:--:-- 48146\n",
            "  % Total    % Received % Xferd  Average Speed   Time    Time     Time  Current\n",
            "                                 Dload  Upload   Total   Spent    Left  Speed\n",
            "100  957k  100  957k    0     0   981k      0 --:--:-- --:--:-- --:--:--  981k\n",
            "  % Total    % Received % Xferd  Average Speed   Time    Time     Time  Current\n",
            "                                 Dload  Upload   Total   Spent    Left  Speed\n",
            "100 85411  100 85411    0     0   328k      0 --:--:-- --:--:-- --:--:--  328k\n",
            "  % Total    % Received % Xferd  Average Speed   Time    Time     Time  Current\n",
            "                                 Dload  Upload   Total   Spent    Left  Speed\n",
            "100 25373  100 25373    0     0   122k      0 --:--:-- --:--:-- --:--:--  122k\n",
            "  % Total    % Received % Xferd  Average Speed   Time    Time     Time  Current\n",
            "                                 Dload  Upload   Total   Spent    Left  Speed\n",
            "100  869k  100  869k    0     0  3368k      0 --:--:-- --:--:-- --:--:-- 3368k\n",
            "  % Total    % Received % Xferd  Average Speed   Time    Time     Time  Current\n",
            "                                 Dload  Upload   Total   Spent    Left  Speed\n",
            "100 83533  100 83533    0     0   117k      0 --:--:-- --:--:-- --:--:--  117k\n",
            "  % Total    % Received % Xferd  Average Speed   Time    Time     Time  Current\n",
            "                                 Dload  Upload   Total   Spent    Left  Speed\n",
            "100 24996  100 24996    0     0  45282      0 --:--:-- --:--:-- --:--:-- 45200\n",
            "  % Total    % Received % Xferd  Average Speed   Time    Time     Time  Current\n",
            "                                 Dload  Upload   Total   Spent    Left  Speed\n",
            "100 1147k  100 1147k    0     0  2532k      0 --:--:-- --:--:-- --:--:-- 2532k\n",
            "  % Total    % Received % Xferd  Average Speed   Time    Time     Time  Current\n",
            "                                 Dload  Upload   Total   Spent    Left  Speed\n",
            "100  138k  100  138k    0     0   403k      0 --:--:-- --:--:-- --:--:--  402k\n",
            "  % Total    % Received % Xferd  Average Speed   Time    Time     Time  Current\n",
            "                                 Dload  Upload   Total   Spent    Left  Speed\n",
            "100 40575  100 40575    0     0   209k      0 --:--:-- --:--:-- --:--:--  209k\n",
            "  % Total    % Received % Xferd  Average Speed   Time    Time     Time  Current\n",
            "                                 Dload  Upload   Total   Spent    Left  Speed\n",
            "100 1445k  100 1445k    0     0  1467k      0 --:--:-- --:--:-- --:--:-- 1466k\n",
            "  % Total    % Received % Xferd  Average Speed   Time    Time     Time  Current\n",
            "                                 Dload  Upload   Total   Spent    Left  Speed\n",
            "100 86979  100 86979    0     0   128k      0 --:--:-- --:--:-- --:--:--  128k\n",
            "  % Total    % Received % Xferd  Average Speed   Time    Time     Time  Current\n",
            "                                 Dload  Upload   Total   Spent    Left  Speed\n",
            "100 26531  100 26531    0     0  49964      0 --:--:-- --:--:-- --:--:-- 49870\n",
            "  % Total    % Received % Xferd  Average Speed   Time    Time     Time  Current\n",
            "                                 Dload  Upload   Total   Spent    Left  Speed\n",
            "100 1615k  100 1615k    0     0  2644k      0 --:--:-- --:--:-- --:--:-- 2640k\n",
            "  % Total    % Received % Xferd  Average Speed   Time    Time     Time  Current\n",
            "                                 Dload  Upload   Total   Spent    Left  Speed\n",
            "100 87009  100 87009    0     0   334k      0 --:--:-- --:--:-- --:--:--  334k\n",
            "  % Total    % Received % Xferd  Average Speed   Time    Time     Time  Current\n",
            "                                 Dload  Upload   Total   Spent    Left  Speed\n",
            "100 26797  100 26797    0     0  50848      0 --:--:-- --:--:-- --:--:-- 50848\n",
            "  % Total    % Received % Xferd  Average Speed   Time    Time     Time  Current\n",
            "                                 Dload  Upload   Total   Spent    Left  Speed\n",
            "100 1825k  100 1825k    0     0  4139k      0 --:--:-- --:--:-- --:--:-- 4130k\n",
            "  % Total    % Received % Xferd  Average Speed   Time    Time     Time  Current\n",
            "                                 Dload  Upload   Total   Spent    Left  Speed\n",
            "100 86369  100 86369    0     0   234k      0 --:--:-- --:--:-- --:--:--  234k\n",
            "  % Total    % Received % Xferd  Average Speed   Time    Time     Time  Current\n",
            "                                 Dload  Upload   Total   Spent    Left  Speed\n",
            "100 27136  100 27136    0     0  49518      0 --:--:-- --:--:-- --:--:-- 49518\n",
            "  % Total    % Received % Xferd  Average Speed   Time    Time     Time  Current\n",
            "                                 Dload  Upload   Total   Spent    Left  Speed\n",
            "100  979k  100  979k    0     0  1037k      0 --:--:-- --:--:-- --:--:-- 1036k\n",
            "  % Total    % Received % Xferd  Average Speed   Time    Time     Time  Current\n",
            "                                 Dload  Upload   Total   Spent    Left  Speed\n",
            "100 86411  100 86411    0     0   129k      0 --:--:-- --:--:-- --:--:--  129k\n",
            "  % Total    % Received % Xferd  Average Speed   Time    Time     Time  Current\n",
            "                                 Dload  Upload   Total   Spent    Left  Speed\n",
            "100 26045  100 26045    0     0  49515      0 --:--:-- --:--:-- --:--:-- 49421\n",
            "  % Total    % Received % Xferd  Average Speed   Time    Time     Time  Current\n",
            "                                 Dload  Upload   Total   Spent    Left  Speed\n",
            "100 1445k  100 1445k    0     0  1507k      0 --:--:-- --:--:-- --:--:-- 1506k\n",
            "  % Total    % Received % Xferd  Average Speed   Time    Time     Time  Current\n",
            "                                 Dload  Upload   Total   Spent    Left  Speed\n",
            "100    16  100    16    0     0    500      0 --:--:-- --:--:-- --:--:--   500\n",
            "  % Total    % Received % Xferd  Average Speed   Time    Time     Time  Current\n",
            "                                 Dload  Upload   Total   Spent    Left  Speed\n",
            "100    16  100    16    0     0    533      0 --:--:-- --:--:-- --:--:--   551\n",
            "  % Total    % Received % Xferd  Average Speed   Time    Time     Time  Current\n",
            "                                 Dload  Upload   Total   Spent    Left  Speed\n",
            "100    16  100    16    0     0    592      0 --:--:-- --:--:-- --:--:--   592\n",
            "  % Total    % Received % Xferd  Average Speed   Time    Time     Time  Current\n",
            "                                 Dload  Upload   Total   Spent    Left  Speed\n",
            "100    16  100    16    0     0    444      0 --:--:-- --:--:-- --:--:--   444\n",
            "  % Total    % Received % Xferd  Average Speed   Time    Time     Time  Current\n",
            "                                 Dload  Upload   Total   Spent    Left  Speed\n",
            "100    16  100    16    0     0    615      0 --:--:-- --:--:-- --:--:--   615\n",
            "  % Total    % Received % Xferd  Average Speed   Time    Time     Time  Current\n",
            "                                 Dload  Upload   Total   Spent    Left  Speed\n",
            "100    16  100    16    0     0    457      0 --:--:-- --:--:-- --:--:--   457\n",
            "  % Total    % Received % Xferd  Average Speed   Time    Time     Time  Current\n",
            "                                 Dload  Upload   Total   Spent    Left  Speed\n",
            "100    16  100    16    0     0    551      0 --:--:-- --:--:-- --:--:--   551\n",
            "  % Total    % Received % Xferd  Average Speed   Time    Time     Time  Current\n",
            "                                 Dload  Upload   Total   Spent    Left  Speed\n",
            "100    16  100    16    0     0    516      0 --:--:-- --:--:-- --:--:--   516\n",
            "  % Total    % Received % Xferd  Average Speed   Time    Time     Time  Current\n",
            "                                 Dload  Upload   Total   Spent    Left  Speed\n",
            "100    16  100    16    0     0    457      0 --:--:-- --:--:-- --:--:--   457\n",
            "  % Total    % Received % Xferd  Average Speed   Time    Time     Time  Current\n",
            "                                 Dload  Upload   Total   Spent    Left  Speed\n",
            "100    16  100    16    0     0    551      0 --:--:-- --:--:-- --:--:--   551\n",
            "  % Total    % Received % Xferd  Average Speed   Time    Time     Time  Current\n",
            "                                 Dload  Upload   Total   Spent    Left  Speed\n",
            "100    16  100    16    0     0    516      0 --:--:-- --:--:-- --:--:--   516\n",
            "  % Total    % Received % Xferd  Average Speed   Time    Time     Time  Current\n",
            "                                 Dload  Upload   Total   Spent    Left  Speed\n",
            "100    16  100    16    0     0    347      0 --:--:-- --:--:-- --:--:--   355\n",
            "  % Total    % Received % Xferd  Average Speed   Time    Time     Time  Current\n",
            "                                 Dload  Upload   Total   Spent    Left  Speed\n",
            "100    16  100    16    0     0    695      0 --:--:-- --:--:-- --:--:--   695\n",
            "  % Total    % Received % Xferd  Average Speed   Time    Time     Time  Current\n",
            "                                 Dload  Upload   Total   Spent    Left  Speed\n",
            "100    16  100    16    0     0    410      0 --:--:-- --:--:-- --:--:--   400\n",
            "  % Total    % Received % Xferd  Average Speed   Time    Time     Time  Current\n",
            "                                 Dload  Upload   Total   Spent    Left  Speed\n",
            "100    16  100    16    0     0    457      0 --:--:-- --:--:-- --:--:--   457\n",
            "  % Total    % Received % Xferd  Average Speed   Time    Time     Time  Current\n",
            "                                 Dload  Upload   Total   Spent    Left  Speed\n",
            "100    16  100    16    0     0    592      0 --:--:-- --:--:-- --:--:--   592\n",
            "  % Total    % Received % Xferd  Average Speed   Time    Time     Time  Current\n",
            "                                 Dload  Upload   Total   Spent    Left  Speed\n",
            "100    16  100    16    0     0    571      0 --:--:-- --:--:-- --:--:--   571\n",
            "  % Total    % Received % Xferd  Average Speed   Time    Time     Time  Current\n",
            "                                 Dload  Upload   Total   Spent    Left  Speed\n",
            "100    16  100    16    0     0    484      0 --:--:-- --:--:-- --:--:--   484\n",
            "  % Total    % Received % Xferd  Average Speed   Time    Time     Time  Current\n",
            "                                 Dload  Upload   Total   Spent    Left  Speed\n",
            "100    16  100    16    0     0    271      0 --:--:-- --:--:-- --:--:--   275\n",
            "  % Total    % Received % Xferd  Average Speed   Time    Time     Time  Current\n",
            "                                 Dload  Upload   Total   Spent    Left  Speed\n",
            "100    16  100    16    0     0    640      0 --:--:-- --:--:-- --:--:--   640\n",
            "  % Total    % Received % Xferd  Average Speed   Time    Time     Time  Current\n",
            "                                 Dload  Upload   Total   Spent    Left  Speed\n",
            "100    16  100    16    0     0    551      0 --:--:-- --:--:-- --:--:--   571\n",
            "  % Total    % Received % Xferd  Average Speed   Time    Time     Time  Current\n",
            "                                 Dload  Upload   Total   Spent    Left  Speed\n",
            "100    16  100    16    0     0    615      0 --:--:-- --:--:-- --:--:--   615\n",
            "  % Total    % Received % Xferd  Average Speed   Time    Time     Time  Current\n",
            "                                 Dload  Upload   Total   Spent    Left  Speed\n",
            "100    16  100    16    0     0    355      0 --:--:-- --:--:-- --:--:--   355\n",
            "  % Total    % Received % Xferd  Average Speed   Time    Time     Time  Current\n",
            "                                 Dload  Upload   Total   Spent    Left  Speed\n",
            "100    16  100    16    0     0    484      0 --:--:-- --:--:-- --:--:--   484\n",
            "  % Total    % Received % Xferd  Average Speed   Time    Time     Time  Current\n",
            "                                 Dload  Upload   Total   Spent    Left  Speed\n",
            "100    16  100    16    0     0    571      0 --:--:-- --:--:-- --:--:--   592\n",
            "  % Total    % Received % Xferd  Average Speed   Time    Time     Time  Current\n",
            "                                 Dload  Upload   Total   Spent    Left  Speed\n",
            "100    16  100    16    0     0    400      0 --:--:-- --:--:-- --:--:--   400\n",
            "  % Total    % Received % Xferd  Average Speed   Time    Time     Time  Current\n",
            "                                 Dload  Upload   Total   Spent    Left  Speed\n",
            "100    16  100    16    0     0    410      0 --:--:-- --:--:-- --:--:--   410\n",
            "  % Total    % Received % Xferd  Average Speed   Time    Time     Time  Current\n",
            "                                 Dload  Upload   Total   Spent    Left  Speed\n",
            "100    16  100    16    0     0    363      0 --:--:-- --:--:-- --:--:--   363\n",
            "  % Total    % Received % Xferd  Average Speed   Time    Time     Time  Current\n",
            "                                 Dload  Upload   Total   Spent    Left  Speed\n",
            "100    16  100    16    0     0    444      0 --:--:-- --:--:-- --:--:--   444\n",
            "  % Total    % Received % Xferd  Average Speed   Time    Time     Time  Current\n",
            "                                 Dload  Upload   Total   Spent    Left  Speed\n",
            "100    16  100    16    0     0    615      0 --:--:-- --:--:-- --:--:--   615\n",
            "  % Total    % Received % Xferd  Average Speed   Time    Time     Time  Current\n",
            "                                 Dload  Upload   Total   Spent    Left  Speed\n",
            "100    16  100    16    0     0    333      0 --:--:-- --:--:-- --:--:--   333\n",
            "  % Total    % Received % Xferd  Average Speed   Time    Time     Time  Current\n",
            "                                 Dload  Upload   Total   Spent    Left  Speed\n",
            "100    16  100    16    0     0    320      0 --:--:-- --:--:-- --:--:--   320\n",
            "OPUS_en_it_europarl_train_5K.txt\n",
            "  % Total    % Received % Xferd  Average Speed   Time    Time     Time  Current\n",
            "                                 Dload  Upload   Total   Spent    Left  Speed\n",
            "100    16  100    16    0     0    516      0 --:--:-- --:--:-- --:--:--   516\n",
            "OPUS_en_it_europarl_test.txt\n",
            "  % Total    % Received % Xferd  Average Speed   Time    Time     Time  Current\n",
            "                                 Dload  Upload   Total   Spent    Left  Speed\n",
            "100    16  100    16    0     0    400      0 --:--:-- --:--:-- --:--:--   400\n",
            "de\n",
            "DE_GUR350.txt\n",
            "  % Total    % Received % Xferd  Average Speed   Time    Time     Time  Current\n",
            "                                 Dload  Upload   Total   Spent    Left  Speed\n",
            "100    16  100    16    0     0    380      0 --:--:-- --:--:-- --:--:--   380\n",
            "DE_GUR65.txt\n",
            "  % Total    % Received % Xferd  Average Speed   Time    Time     Time  Current\n",
            "                                 Dload  Upload   Total   Spent    Left  Speed\n",
            "100    16  100    16    0     0    444      0 --:--:-- --:--:-- --:--:--   444\n",
            "DE_SIMLEX-999.txt\n",
            "  % Total    % Received % Xferd  Average Speed   Time    Time     Time  Current\n",
            "                                 Dload  Upload   Total   Spent    Left  Speed\n",
            "100    16  100    16    0     0    457      0 --:--:-- --:--:-- --:--:--   457\n",
            "DE_WS-353.txt\n",
            "  % Total    % Received % Xferd  Average Speed   Time    Time     Time  Current\n",
            "                                 Dload  Upload   Total   Spent    Left  Speed\n",
            "100    16  100    16    0     0    160      0 --:--:-- --:--:-- --:--:--   160\n",
            "DE_ZG222.txt\n",
            "  % Total    % Received % Xferd  Average Speed   Time    Time     Time  Current\n",
            "                                 Dload  Upload   Total   Spent    Left  Speed\n",
            "100    16  100    16    0     0    421      0 --:--:-- --:--:-- --:--:--   421\n",
            "es\n",
            "ES_MC-30.txt\n",
            "  % Total    % Received % Xferd  Average Speed   Time    Time     Time  Current\n",
            "                                 Dload  Upload   Total   Spent    Left  Speed\n",
            "100    16  100    16    0     0    400      0 --:--:-- --:--:-- --:--:--   400\n",
            "ES_RG-65.txt\n",
            "  % Total    % Received % Xferd  Average Speed   Time    Time     Time  Current\n",
            "                                 Dload  Upload   Total   Spent    Left  Speed\n",
            "100    16  100    16    0     0    551      0 --:--:-- --:--:-- --:--:--   551\n",
            "ES_WS-353.txt\n",
            "  % Total    % Received % Xferd  Average Speed   Time    Time     Time  Current\n",
            "                                 Dload  Upload   Total   Spent    Left  Speed\n",
            "100    16  100    16    0     0    484      0 --:--:-- --:--:-- --:--:--   484\n",
            "en\n",
            "mkdir: cannot create directory ‘monolingual/en’: File exists\n",
            "EN_MC-30.txt\n",
            "  % Total    % Received % Xferd  Average Speed   Time    Time     Time  Current\n",
            "                                 Dload  Upload   Total   Spent    Left  Speed\n",
            "100    16  100    16    0     0    484      0 --:--:-- --:--:-- --:--:--   484\n",
            "EN_MTurk-287.txt\n",
            "  % Total    % Received % Xferd  Average Speed   Time    Time     Time  Current\n",
            "                                 Dload  Upload   Total   Spent    Left  Speed\n",
            "100    16  100    16    0     0    500      0 --:--:-- --:--:-- --:--:--   500\n",
            "EN_RG-65.txt\n",
            "  % Total    % Received % Xferd  Average Speed   Time    Time     Time  Current\n",
            "                                 Dload  Upload   Total   Spent    Left  Speed\n",
            "100    16  100    16    0     0    296      0 --:--:-- --:--:-- --:--:--   296\n",
            "EN_VERB-143.txt\n",
            "  % Total    % Received % Xferd  Average Speed   Time    Time     Time  Current\n",
            "                                 Dload  Upload   Total   Spent    Left  Speed\n",
            "100    16  100    16    0     0    551      0 --:--:-- --:--:-- --:--:--   551\n",
            "EN_WS-353-REL.txt\n",
            "  % Total    % Received % Xferd  Average Speed   Time    Time     Time  Current\n",
            "                                 Dload  Upload   Total   Spent    Left  Speed\n",
            "100    16  100    16    0     0    228      0 --:--:-- --:--:-- --:--:--   228\n",
            "EN_YP-130.txt\n",
            "  % Total    % Received % Xferd  Average Speed   Time    Time     Time  Current\n",
            "                                 Dload  Upload   Total   Spent    Left  Speed\n",
            "100    16  100    16    0     0    432      0 --:--:-- --:--:-- --:--:--   444\n",
            "EN_MEN-TR-3k.txt\n",
            "  % Total    % Received % Xferd  Average Speed   Time    Time     Time  Current\n",
            "                                 Dload  Upload   Total   Spent    Left  Speed\n",
            "100    16  100    16    0     0    470      0 --:--:-- --:--:-- --:--:--   470\n",
            "EN_MTurk-771.txt\n",
            "  % Total    % Received % Xferd  Average Speed   Time    Time     Time  Current\n",
            "                                 Dload  Upload   Total   Spent    Left  Speed\n",
            "100    16  100    16    0     0    457      0 --:--:-- --:--:-- --:--:--   470\n",
            "EN_RW-STANFORD.txt\n",
            "  % Total    % Received % Xferd  Average Speed   Time    Time     Time  Current\n",
            "                                 Dload  Upload   Total   Spent    Left  Speed\n",
            "100    16  100    16    0     0    380      0 --:--:-- --:--:-- --:--:--   380\n",
            "EN_SIMLEX-999.txt\n",
            "  % Total    % Received % Xferd  Average Speed   Time    Time     Time  Current\n",
            "                                 Dload  Upload   Total   Spent    Left  Speed\n",
            "100    16  100    16    0     0    615      0 --:--:-- --:--:-- --:--:--   615\n",
            "EN_WS-353-ALL.txt\n",
            "  % Total    % Received % Xferd  Average Speed   Time    Time     Time  Current\n",
            "                                 Dload  Upload   Total   Spent    Left  Speed\n",
            "100    16  100    16    0     0    533      0 --:--:-- --:--:-- --:--:--   533\n",
            "EN_WS-353-SIM.txt\n",
            "  % Total    % Received % Xferd  Average Speed   Time    Time     Time  Current\n",
            "                                 Dload  Upload   Total   Spent    Left  Speed\n",
            "100    16  100    16    0     0    516      0 --:--:-- --:--:-- --:--:--   516\n",
            "it\n",
            "IT_SIMLEX-999.txt\n",
            "  % Total    % Received % Xferd  Average Speed   Time    Time     Time  Current\n",
            "                                 Dload  Upload   Total   Spent    Left  Speed\n",
            "100    16  100    16    0     0    253      0 --:--:-- --:--:-- --:--:--   250\n",
            "IT_WS-353.txt\n",
            "  % Total    % Received % Xferd  Average Speed   Time    Time     Time  Current\n",
            "                                 Dload  Upload   Total   Spent    Left  Speed\n",
            "100    16  100    16    0     0    444      0 --:--:-- --:--:-- --:--:--   444\n",
            "fr\n",
            "FR_RG-65.txt\n",
            "  % Total    % Received % Xferd  Average Speed   Time    Time     Time  Current\n",
            "                                 Dload  Upload   Total   Spent    Left  Speed\n",
            "100    16  100    16    0     0    421      0 --:--:-- --:--:-- --:--:--   421\n",
            "  % Total    % Received % Xferd  Average Speed   Time    Time     Time  Current\n",
            "                                 Dload  Upload   Total   Spent    Left  Speed\n",
            "100   169  100   169    0     0    382      0 --:--:-- --:--:-- --:--:--   382\n",
            "100 2071k  100 2071k    0     0   758k      0  0:00:02  0:00:02 --:--:-- 1115k\n",
            "Archive:  semeval2017-task2.zip\n",
            "   creating: SemEval17-Task2/\n",
            "  inflating: SemEval17-Task2/README.txt  \n",
            "  inflating: SemEval17-Task2/task2-scorer.jar  \n",
            "   creating: SemEval17-Task2/test/\n",
            "   creating: SemEval17-Task2/test/subtask1-monolingual/\n",
            "   creating: SemEval17-Task2/test/subtask1-monolingual/data/\n",
            "  inflating: SemEval17-Task2/test/subtask1-monolingual/data/de.test.data.txt  \n",
            "  inflating: SemEval17-Task2/test/subtask1-monolingual/data/en.test.data.txt  \n",
            "  inflating: SemEval17-Task2/test/subtask1-monolingual/data/es.test.data.txt  \n",
            "  inflating: SemEval17-Task2/test/subtask1-monolingual/data/fa.test.data.txt  \n",
            "  inflating: SemEval17-Task2/test/subtask1-monolingual/data/it.test.data.txt  \n",
            "   creating: SemEval17-Task2/test/subtask1-monolingual/keys/\n",
            "  inflating: SemEval17-Task2/test/subtask1-monolingual/keys/de.test.gold.txt  \n",
            "  inflating: SemEval17-Task2/test/subtask1-monolingual/keys/en.test.gold.txt  \n",
            "  inflating: SemEval17-Task2/test/subtask1-monolingual/keys/es.test.gold.txt  \n",
            "  inflating: SemEval17-Task2/test/subtask1-monolingual/keys/fa.test.gold.txt  \n",
            "  inflating: SemEval17-Task2/test/subtask1-monolingual/keys/it.test.gold.txt  \n",
            "   creating: SemEval17-Task2/test/subtask2-crosslingual/\n",
            "   creating: SemEval17-Task2/test/subtask2-crosslingual/data/\n",
            "  inflating: SemEval17-Task2/test/subtask2-crosslingual/data/de-es.test.data.txt  \n",
            "  inflating: SemEval17-Task2/test/subtask2-crosslingual/data/de-fa.test.data.txt  \n",
            "  inflating: SemEval17-Task2/test/subtask2-crosslingual/data/de-it.test.data.txt  \n",
            "  inflating: SemEval17-Task2/test/subtask2-crosslingual/data/en-de.test.data.txt  \n",
            "  inflating: SemEval17-Task2/test/subtask2-crosslingual/data/en-es.test.data.txt  \n",
            "  inflating: SemEval17-Task2/test/subtask2-crosslingual/data/en-fa.test.data.txt  \n",
            "  inflating: SemEval17-Task2/test/subtask2-crosslingual/data/en-it.test.data.txt  \n",
            "  inflating: SemEval17-Task2/test/subtask2-crosslingual/data/es-fa.test.data.txt  \n",
            "  inflating: SemEval17-Task2/test/subtask2-crosslingual/data/es-it.test.data.txt  \n",
            "  inflating: SemEval17-Task2/test/subtask2-crosslingual/data/it-fa.test.data.txt  \n",
            "   creating: SemEval17-Task2/test/subtask2-crosslingual/keys/\n",
            "  inflating: SemEval17-Task2/test/subtask2-crosslingual/keys/de-es.test.gold.txt  \n",
            "  inflating: SemEval17-Task2/test/subtask2-crosslingual/keys/de-fa.test.gold.txt  \n",
            "  inflating: SemEval17-Task2/test/subtask2-crosslingual/keys/de-it.test.gold.txt  \n",
            "  inflating: SemEval17-Task2/test/subtask2-crosslingual/keys/en-de.test.gold.txt  \n",
            "  inflating: SemEval17-Task2/test/subtask2-crosslingual/keys/en-es.test.gold.txt  \n",
            "  inflating: SemEval17-Task2/test/subtask2-crosslingual/keys/en-fa.test.gold.txt  \n",
            "  inflating: SemEval17-Task2/test/subtask2-crosslingual/keys/en-it.test.gold.txt  \n",
            "  inflating: SemEval17-Task2/test/subtask2-crosslingual/keys/es-fa.test.gold.txt  \n",
            "  inflating: SemEval17-Task2/test/subtask2-crosslingual/keys/es-it.test.gold.txt  \n",
            "  inflating: SemEval17-Task2/test/subtask2-crosslingual/keys/it-fa.test.gold.txt  \n",
            "   creating: SemEval17-Task2/trial/\n",
            "   creating: SemEval17-Task2/trial/subtask1-monolingual/\n",
            "   creating: SemEval17-Task2/trial/subtask1-monolingual/data/\n",
            "  inflating: SemEval17-Task2/trial/subtask1-monolingual/data/de.trial.data.txt  \n",
            "  inflating: SemEval17-Task2/trial/subtask1-monolingual/data/en.trial.data.txt  \n",
            "  inflating: SemEval17-Task2/trial/subtask1-monolingual/data/es.trial.data.txt  \n",
            "  inflating: SemEval17-Task2/trial/subtask1-monolingual/data/fa.trial.data.txt  \n",
            "  inflating: SemEval17-Task2/trial/subtask1-monolingual/data/it.trial.data.txt  \n",
            "   creating: SemEval17-Task2/trial/subtask1-monolingual/keys/\n",
            "  inflating: SemEval17-Task2/trial/subtask1-monolingual/keys/de.trial.gold.txt  \n",
            "  inflating: SemEval17-Task2/trial/subtask1-monolingual/keys/en.trial.gold.txt  \n",
            "  inflating: SemEval17-Task2/trial/subtask1-monolingual/keys/es.trial.gold.txt  \n",
            "  inflating: SemEval17-Task2/trial/subtask1-monolingual/keys/fa.trial.gold.txt  \n",
            "  inflating: SemEval17-Task2/trial/subtask1-monolingual/keys/it.trial.gold.txt  \n",
            "   creating: SemEval17-Task2/trial/subtask1-monolingual/output/\n",
            "  inflating: SemEval17-Task2/trial/subtask1-monolingual/output/de.trial.sample.output.txt  \n",
            "  inflating: SemEval17-Task2/trial/subtask1-monolingual/output/en.trial.sample.output.txt  \n",
            "  inflating: SemEval17-Task2/trial/subtask1-monolingual/output/es.trial.sample.output.txt  \n",
            "  inflating: SemEval17-Task2/trial/subtask1-monolingual/output/fa.trial.sample.output.txt  \n",
            "  inflating: SemEval17-Task2/trial/subtask1-monolingual/output/it.trial.sample.output.txt  \n",
            "   creating: SemEval17-Task2/trial/subtask2-crosslingual/\n",
            "   creating: SemEval17-Task2/trial/subtask2-crosslingual/data/\n",
            "  inflating: SemEval17-Task2/trial/subtask2-crosslingual/data/de-es.trial.data.txt  \n",
            "  inflating: SemEval17-Task2/trial/subtask2-crosslingual/data/de-fa.trial.data.txt  \n",
            "  inflating: SemEval17-Task2/trial/subtask2-crosslingual/data/de-it.trial.data.txt  \n",
            "  inflating: SemEval17-Task2/trial/subtask2-crosslingual/data/en-de.trial.data.txt  \n",
            "  inflating: SemEval17-Task2/trial/subtask2-crosslingual/data/en-es.trial.data.txt  \n",
            "  inflating: SemEval17-Task2/trial/subtask2-crosslingual/data/en-fa.trial.data.txt  \n",
            "  inflating: SemEval17-Task2/trial/subtask2-crosslingual/data/en-it.trial.data.txt  \n",
            "  inflating: SemEval17-Task2/trial/subtask2-crosslingual/data/es-fa.trial.data.txt  \n",
            "  inflating: SemEval17-Task2/trial/subtask2-crosslingual/data/es-it.trial.data.txt  \n",
            "  inflating: SemEval17-Task2/trial/subtask2-crosslingual/data/it-fa.trial.data.txt  \n",
            "   creating: SemEval17-Task2/trial/subtask2-crosslingual/keys/\n",
            "  inflating: SemEval17-Task2/trial/subtask2-crosslingual/keys/de-es.trial.gold.txt  \n",
            "  inflating: SemEval17-Task2/trial/subtask2-crosslingual/keys/de-fa.trial.gold.txt  \n",
            "  inflating: SemEval17-Task2/trial/subtask2-crosslingual/keys/de-it.trial.gold.txt  \n",
            "  inflating: SemEval17-Task2/trial/subtask2-crosslingual/keys/en-de.trial.gold.txt  \n",
            "  inflating: SemEval17-Task2/trial/subtask2-crosslingual/keys/en-es.trial.gold.txt  \n",
            "  inflating: SemEval17-Task2/trial/subtask2-crosslingual/keys/en-fa.trial.gold.txt  \n",
            "  inflating: SemEval17-Task2/trial/subtask2-crosslingual/keys/en-it.trial.gold.txt  \n",
            "  inflating: SemEval17-Task2/trial/subtask2-crosslingual/keys/es-fa.trial.gold.txt  \n",
            "  inflating: SemEval17-Task2/trial/subtask2-crosslingual/keys/es-it.trial.gold.txt  \n",
            "  inflating: SemEval17-Task2/trial/subtask2-crosslingual/keys/it-fa.trial.gold.txt  \n",
            "   creating: SemEval17-Task2/trial/subtask2-crosslingual/output/\n",
            "  inflating: SemEval17-Task2/trial/subtask2-crosslingual/output/de-es.trial.sample.output.txt  \n",
            "  inflating: SemEval17-Task2/trial/subtask2-crosslingual/output/de-fa.trial.sample.output.txt  \n",
            "  inflating: SemEval17-Task2/trial/subtask2-crosslingual/output/de-it.trial.sample.output.txt  \n",
            "  inflating: SemEval17-Task2/trial/subtask2-crosslingual/output/en-de.trial.sample.output.txt  \n",
            "  inflating: SemEval17-Task2/trial/subtask2-crosslingual/output/en-es.trial.sample.output.txt  \n",
            "  inflating: SemEval17-Task2/trial/subtask2-crosslingual/output/en-fa.trial.sample.output.txt  \n",
            "  inflating: SemEval17-Task2/trial/subtask2-crosslingual/output/en-it.trial.sample.output.txt  \n",
            "  inflating: SemEval17-Task2/trial/subtask2-crosslingual/output/es-fa.trial.sample.output.txt  \n",
            "  inflating: SemEval17-Task2/trial/subtask2-crosslingual/output/es-it.trial.sample.output.txt  \n",
            "  inflating: SemEval17-Task2/trial/subtask2-crosslingual/output/it-fa.trial.sample.output.txt  \n",
            "de-es\n",
            "de-fa\n",
            "de-it\n",
            "en-de\n",
            "en-es\n",
            "en-fa\n",
            "en-it\n",
            "es-fa\n",
            "es-it\n",
            "it-fa\n"
          ]
        }
      ],
      "source": [
        "!bash get_evaluation.sh"
      ]
    },
    {
      "cell_type": "code",
      "execution_count": 6,
      "metadata": {
        "colab": {
          "base_uri": "https://localhost:8080/"
        },
        "id": "9mIcKpdDek9h",
        "outputId": "6da276a1-fa20-4e67-8b61-8e16b8aa0712"
      },
      "outputs": [
        {
          "output_type": "stream",
          "name": "stdout",
          "text": [
            "/content/MUSE\n"
          ]
        }
      ],
      "source": [
        "%cd .."
      ]
    },
    {
      "cell_type": "code",
      "source": [
        "from google.colab import drive\n",
        "drive.mount('/content/drive')"
      ],
      "metadata": {
        "colab": {
          "base_uri": "https://localhost:8080/"
        },
        "id": "RRzjkEn86fdA",
        "outputId": "b242869c-9aad-4d27-cfde-037a3a469d98"
      },
      "execution_count": 7,
      "outputs": [
        {
          "output_type": "stream",
          "name": "stdout",
          "text": [
            "Mounted at /content/drive\n"
          ]
        }
      ]
    },
    {
      "cell_type": "code",
      "execution_count": null,
      "metadata": {
        "id": "RpT--Jbwbeqf"
      },
      "outputs": [],
      "source": [
        "# !python supervised.py --src_lang fr --tgt_lang en --src_emb data/wiki.fr.vec --tgt_emb data/wiki.en.vec --n_refinement 5 --dico_train \"identical_char\"\n",
        "# Entrainement déjà fait (pas très long mais permet de gagner du temps : https://we.tl/t-YjTZodgN7u)"
      ]
    },
    {
      "cell_type": "code",
      "execution_count": 8,
      "metadata": {
        "id": "7vxm6Z6X1sQH"
      },
      "outputs": [],
      "source": [
        "#path_to_best_mapping = '/content/drive/MyDrive/best_mapping.pth'\n",
        "path_to_best_mapping = '/content/drive/MyDrive/ColabNotebooks/NLP3/lab02/best_mapping.pth'"
      ]
    },
    {
      "cell_type": "markdown",
      "source": [],
      "metadata": {
        "id": "sQ0HpAbY6tEJ"
      }
    },
    {
      "cell_type": "markdown",
      "metadata": {
        "id": "ui2JSnaqZSuo"
      },
      "source": [
        "### 2.5 Visualize the output on a few words of your choice. Comment on the performance of the alignment based on the output. (2 points)"
      ]
    },
    {
      "cell_type": "code",
      "execution_count": 9,
      "metadata": {
        "id": "h8RB-J6sx11u"
      },
      "outputs": [],
      "source": [
        "import torch"
      ]
    },
    {
      "cell_type": "code",
      "execution_count": 10,
      "metadata": {
        "colab": {
          "base_uri": "https://localhost:8080/"
        },
        "id": "JAbp_bUVzFaC",
        "outputId": "8e917bba-3b6a-4d76-eca5-66a9c77ba7a9"
      },
      "outputs": [
        {
          "output_type": "execute_result",
          "data": {
            "text/plain": [
              "array([[-0.10615373, -0.06533183,  0.0364729 , ..., -0.03633231,\n",
              "         0.01911198, -0.04049802],\n",
              "       [-0.00426724, -0.0480128 ,  0.15324669, ..., -0.00072463,\n",
              "        -0.06351313,  0.04524541],\n",
              "       [-0.04115835, -0.0369157 ,  0.03164461, ...,  0.01667204,\n",
              "        -0.06334008, -0.0421579 ],\n",
              "       ...,\n",
              "       [ 0.09911308, -0.01475407,  0.05105206, ...,  0.02839697,\n",
              "         0.08645973, -0.0449401 ],\n",
              "       [ 0.01704676,  0.02572099,  0.02233682, ...,  0.0065214 ,\n",
              "        -0.08996747,  0.02231632],\n",
              "       [-0.00323281, -0.02875913, -0.02685219, ..., -0.05850187,\n",
              "        -0.06768257, -0.05339041]], dtype=float32)"
            ]
          },
          "metadata": {},
          "execution_count": 10
        }
      ],
      "source": [
        "model = torch.load(path_to_best_mapping)\n",
        "model"
      ]
    },
    {
      "cell_type": "code",
      "execution_count": 11,
      "metadata": {
        "id": "k2pyarI62NmI"
      },
      "outputs": [],
      "source": [
        "import io\n",
        "import numpy as np\n",
        "\n",
        "def load_vec(emb_path, nmax=50000, model=None):\n",
        "    vectors = []\n",
        "    word2id = {}\n",
        "    with io.open(emb_path, 'r', encoding='utf-8', newline='\\n', errors='ignore') as f:\n",
        "        next(f)\n",
        "        for i, line in enumerate(f):\n",
        "            word, vect = line.rstrip().split(' ', 1)\n",
        "            vect = np.fromstring(vect, sep=' ')\n",
        "            assert word not in word2id, 'word found twice'\n",
        "            vectors.append(model @ vect if model is not None else vect)\n",
        "            word2id[word] = len(word2id)\n",
        "            if len(word2id) == nmax:\n",
        "                break\n",
        "    id2word = {v: k for k, v in word2id.items()}\n",
        "    embeddings = np.vstack(vectors)\n",
        "    return embeddings, id2word, word2id"
      ]
    },
    {
      "cell_type": "code",
      "execution_count": 12,
      "metadata": {
        "id": "SZZjqtV22eoC"
      },
      "outputs": [],
      "source": [
        "src_path = '/content/MUSE/data/wiki.fr.vec'\n",
        "tgt_path = '/content/MUSE/data/wiki.en.vec'\n",
        "nmax = 500_000  # maximum number of word embeddings to load\n",
        "\n",
        "src_embeddings, src_id2word, src_word2id = load_vec(src_path, nmax)\n",
        "tgt_embeddings, tgt_id2word, tgt_word2id = load_vec(tgt_path, nmax)\n",
        "src_mused_embeddings, src_mused_id2word, src_mused_word2id = load_vec(src_path, nmax, model)\n"
      ]
    },
    {
      "cell_type": "code",
      "execution_count": 13,
      "metadata": {
        "id": "aquKroux2lYK"
      },
      "outputs": [],
      "source": [
        "def get_nn(word, src_emb, src_id2word, tgt_emb, tgt_id2word, K=5):\n",
        "    print(\"Nearest neighbors of \\\"%s\\\":\" % word)\n",
        "    word2id = {v: k for k, v in src_id2word.items()}\n",
        "    word_emb = src_emb[word2id[word]]\n",
        "    scores = (tgt_emb / np.linalg.norm(tgt_emb, 2, 1)[:, None]).dot(word_emb / np.linalg.norm(word_emb))\n",
        "    k_best = scores.argsort()[-K:][::-1]\n",
        "    for i, idx in enumerate(k_best):\n",
        "        print('%.4f - %s' % (scores[idx], tgt_id2word[idx]))"
      ]
    },
    {
      "cell_type": "code",
      "execution_count": 14,
      "metadata": {
        "colab": {
          "base_uri": "https://localhost:8080/"
        },
        "id": "2iz1rn2I2qhy",
        "outputId": "1f45fab9-9d59-43ad-db48-e8a7c76a486c"
      },
      "outputs": [
        {
          "output_type": "stream",
          "name": "stdout",
          "text": [
            "Nearest neighbors of \"chat\":\n",
            "1.0000 - chat\n",
            "0.7121 - chats\n",
            "0.6630 - chien\n",
            "0.6282 - félin\n",
            "0.6236 - chatte\n"
          ]
        }
      ],
      "source": [
        "# printing nearest neighbors in the source space\n",
        "src_word = 'chat'\n",
        "get_nn(src_word, src_embeddings, src_id2word, src_embeddings, src_id2word, K=5)"
      ]
    },
    {
      "cell_type": "code",
      "execution_count": 15,
      "metadata": {
        "colab": {
          "base_uri": "https://localhost:8080/"
        },
        "id": "Fugy8uDu35dj",
        "outputId": "9eec245c-b72f-457a-c13e-da6397912881"
      },
      "outputs": [
        {
          "output_type": "stream",
          "name": "stdout",
          "text": [
            "Nearest neighbors of \"chat\":\n",
            "0.2109 - hagan\n",
            "0.2100 - kilij\n",
            "0.2081 - nugal\n",
            "0.2079 - connivance\n",
            "0.2076 - schele\n"
          ]
        }
      ],
      "source": [
        "# printing nearest neighbors in the target space\n",
        "src_word = 'chat'\n",
        "get_nn(src_word, src_embeddings, src_id2word, tgt_embeddings, tgt_id2word, K=5)"
      ]
    },
    {
      "cell_type": "code",
      "execution_count": 16,
      "metadata": {
        "colab": {
          "base_uri": "https://localhost:8080/"
        },
        "id": "t5wl6bsr2uAL",
        "outputId": "a28b8c32-95a6-4029-db18-f32b7f3db8c0"
      },
      "outputs": [
        {
          "output_type": "stream",
          "name": "stdout",
          "text": [
            "Nearest neighbors of \"chat\":\n",
            "0.5997 - dog\n",
            "0.5930 - rabbit\n",
            "0.5928 - cat\n",
            "0.5599 - poodle\n",
            "0.5506 - kittens\n"
          ]
        }
      ],
      "source": [
        "# printing nearest neighbors in the target space\n",
        "src_word = 'chat'\n",
        "get_nn(src_word, src_mused_embeddings, src_id2word, tgt_embeddings, tgt_id2word, K=5)"
      ]
    },
    {
      "cell_type": "code",
      "execution_count": 17,
      "metadata": {
        "id": "x_7CZxQZ4prf"
      },
      "outputs": [],
      "source": [
        "def closest_k(word, K=5):\n",
        "  get_nn(word, src_mused_embeddings, src_id2word, tgt_embeddings, tgt_id2word, K=K)"
      ]
    },
    {
      "cell_type": "code",
      "execution_count": 18,
      "metadata": {
        "colab": {
          "base_uri": "https://localhost:8080/"
        },
        "id": "JIi_gbGt4wFR",
        "outputId": "3c13e1f1-62cf-4e84-d724-a4fc227b0dfe"
      },
      "outputs": [
        {
          "output_type": "stream",
          "name": "stdout",
          "text": [
            "Nearest neighbors of \"école\":\n",
            "0.7419 - school\n",
            "0.6330 - teacher\n",
            "0.6008 - schools\n",
            "0.6005 - teachers\n",
            "0.5764 - teacherage\n",
            "Nearest neighbors of \"amour\":\n",
            "0.7452 - love\n",
            "0.6369 - unrequited\n",
            "0.6360 - longing\n",
            "0.6081 - lover\n",
            "0.6065 - affection\n",
            "Nearest neighbors of \"histoire\":\n",
            "0.7197 - history\n",
            "0.5651 - histories\n",
            "0.5551 - prehistory\n",
            "0.5480 - history—and\n",
            "0.5442 - historial\n",
            "Nearest neighbors of \"chaussures\":\n",
            "0.7720 - shoes\n",
            "0.7170 - clothing\n",
            "0.7157 - footwear\n",
            "0.7063 - boots\n",
            "0.6942 - underwear\n",
            "Nearest neighbors of \"fourmi\":\n",
            "0.5569 - cockroach\n",
            "0.5472 - insect\n",
            "0.5410 - ant\n",
            "0.5097 - cockroaches\n",
            "0.5071 - housefly\n",
            "Nearest neighbors of \"fourchette\":\n",
            "0.4701 - estimate\n",
            "0.4663 - chucking\n",
            "0.4635 - measuringworth\n",
            "0.4630 - profit/loss\n",
            "0.4588 - recalculation\n"
          ]
        }
      ],
      "source": [
        "words = ['école', 'amour', 'histoire', 'chaussures',  'fourmi', 'fourchette']\n",
        "\n",
        "for word in words:\n",
        "  closest_k(word)"
      ]
    },
    {
      "cell_type": "code",
      "execution_count": 19,
      "metadata": {
        "id": "SBIHqcj0GOqn"
      },
      "outputs": [],
      "source": [
        "from sklearn.decomposition import PCA"
      ]
    },
    {
      "cell_type": "code",
      "execution_count": 20,
      "metadata": {
        "colab": {
          "base_uri": "https://localhost:8080/"
        },
        "id": "dY7mWh0eGQUJ",
        "outputId": "6a95814b-cd8b-45a7-f895-0459fc7fa37e"
      },
      "outputs": [
        {
          "output_type": "stream",
          "name": "stdout",
          "text": [
            "Variance explained: 0.12\n"
          ]
        }
      ],
      "source": [
        "pca = PCA(n_components=2, whiten=True)  \n",
        "pca.fit(np.vstack([src_embeddings, tgt_embeddings]))\n",
        "print('Variance explained: %.2f' % pca.explained_variance_ratio_.sum())"
      ]
    },
    {
      "cell_type": "code",
      "execution_count": 21,
      "metadata": {
        "colab": {
          "base_uri": "https://localhost:8080/"
        },
        "id": "38RoFUsZ9H_2",
        "outputId": "f983ca4c-a77d-4d49-96a1-71d683a40600"
      },
      "outputs": [
        {
          "output_type": "stream",
          "name": "stdout",
          "text": [
            "Variance mused explained: 0.07\n"
          ]
        }
      ],
      "source": [
        "pca_mused = PCA(n_components=2, whiten=True)  \n",
        "pca_mused.fit(np.vstack([src_mused_embeddings, tgt_embeddings]))\n",
        "print('Variance mused explained: %.2f' % pca_mused.explained_variance_ratio_.sum())"
      ]
    },
    {
      "cell_type": "code",
      "execution_count": 22,
      "metadata": {
        "id": "S1llvnUZ58zt"
      },
      "outputs": [],
      "source": [
        "import matplotlib.pyplot as plt\n",
        "\n",
        "def plot_similar_word(src_words, src_word2id, src_emb, tgt_words, tgt_word2id, tgt_emb, pca, filename=\"file.png\"):\n",
        "\n",
        "    Y = []\n",
        "    word_labels = []\n",
        "    for sw in src_words:\n",
        "        Y.append(src_emb[src_word2id[sw]])\n",
        "        word_labels.append(sw)\n",
        "    for tw in tgt_words:\n",
        "        Y.append(tgt_emb[tgt_word2id[tw]])\n",
        "        word_labels.append(tw)\n",
        "\n",
        "    # find tsne coords for 2 dimensions\n",
        "    Y = pca.transform(Y)\n",
        "    x_coords = Y[:, 0]\n",
        "    y_coords = Y[:, 1]\n",
        "\n",
        "    # display scatter plot\n",
        "    plt.figure(figsize=(10, 8), dpi=80)\n",
        "    plt.scatter(x_coords, y_coords, marker='x')\n",
        "\n",
        "    for k, (label, x, y) in enumerate(zip(word_labels, x_coords, y_coords)):\n",
        "        color = 'blue' if k < len(src_words) else 'red'  # src words in blue / tgt words in red\n",
        "        plt.annotate(label, xy=(x, y), xytext=(0, 0), textcoords='offset points', fontsize=19,\n",
        "                     color=color, weight='bold')\n",
        "\n",
        "    plt.xlim(x_coords.min() - 0.2, x_coords.max() + 0.2)\n",
        "    plt.ylim(y_coords.min() - 0.2, y_coords.max() + 0.2)\n",
        "    plt.title('Visualization of the multilingual word embedding space')\n",
        "\n",
        "    plt.savefig(filename)\n",
        "\n",
        "    plt.show()"
      ]
    },
    {
      "cell_type": "code",
      "execution_count": 23,
      "metadata": {
        "colab": {
          "base_uri": "https://localhost:8080/",
          "height": 1000
        },
        "id": "Jjml66O2-OMu",
        "outputId": "c3b7f927-4271-4b1a-d96d-1f39ac5d3446"
      },
      "outputs": [
        {
          "output_type": "display_data",
          "data": {
            "text/plain": [
              "<Figure size 800x640 with 1 Axes>"
            ],
            "image/png": "[encoded data removed]"
          },
          "metadata": {
            "needs_background": "light"
          }
        },
        {
          "output_type": "display_data",
          "data": {
            "text/plain": [
              "<Figure size 800x640 with 1 Axes>"
            ],
            "image/png": "[encoded data removed]"
          },
          "metadata": {
            "needs_background": "light"
          }
        }
      ],
      "source": [
        "# get 5 random input words\n",
        "src_words = ['école', 'amour', 'histoire', 'chaussures',  'fourmi', 'fourchette']\n",
        "tgt_words = ['school', 'love', 'history', 'shoes', 'ant', 'fork']\n",
        "\n",
        "# assert words in dictionaries\n",
        "for sw in src_words:\n",
        "    assert sw in src_word2id, '\"%s\" not in source dictionary' % sw\n",
        "for tw in tgt_words:\n",
        "    assert tw in tgt_word2id, '\"%s\" not in target dictionary' % sw\n",
        "\n",
        "plot_similar_word(src_words, src_word2id, src_embeddings, tgt_words, tgt_word2id, tgt_embeddings, pca, \"src.png\")\n",
        "plot_similar_word(src_words, src_word2id, src_mused_embeddings, tgt_words, tgt_word2id, tgt_embeddings, pca_mused, \"src_mused.png\")\n",
        "\n"
      ]
    },
    {
      "cell_type": "markdown",
      "source": [
        "### 2.7. Apply your approach and comment on the performance of the translation."
      ],
      "metadata": {
        "id": "pOLzdfOFsIXX"
      }
    },
    {
      "cell_type": "code",
      "source": [
        "!wget https://dl.fbaipublicfiles.com/arrival/dictionaries/en-fr.5000-6500.txt"
      ],
      "metadata": {
        "id": "VxXSIayisOND",
        "colab": {
          "base_uri": "https://localhost:8080/"
        },
        "outputId": "e6847e63-e085-4fce-8641-4c36df324f78"
      },
      "execution_count": 24,
      "outputs": [
        {
          "output_type": "stream",
          "name": "stdout",
          "text": [
            "--2023-01-11 20:12:26--  https://dl.fbaipublicfiles.com/arrival/dictionaries/en-fr.5000-6500.txt\n",
            "Resolving dl.fbaipublicfiles.com (dl.fbaipublicfiles.com)... 172.67.9.4, 104.22.75.142, 104.22.74.142, ...\n",
            "Connecting to dl.fbaipublicfiles.com (dl.fbaipublicfiles.com)|172.67.9.4|:443... connected.\n",
            "HTTP request sent, awaiting response... 200 OK\n",
            "Length: 50509 (49K) [text/plain]\n",
            "Saving to: ‘en-fr.5000-6500.txt’\n",
            "\n",
            "en-fr.5000-6500.txt 100%[===================>]  49.33K   236KB/s    in 0.2s    \n",
            "\n",
            "2023-01-11 20:12:27 (236 KB/s) - ‘en-fr.5000-6500.txt’ saved [50509/50509]\n",
            "\n"
          ]
        }
      ]
    },
    {
      "cell_type": "code",
      "source": [
        "!ls"
      ],
      "metadata": {
        "colab": {
          "base_uri": "https://localhost:8080/"
        },
        "id": "D9E76kkD-Kzz",
        "outputId": "73ac3a87-eb4f-43a2-aa1d-fd9bca2a66c5"
      },
      "execution_count": 25,
      "outputs": [
        {
          "output_type": "stream",
          "name": "stdout",
          "text": [
            "data\t\t     evaluate.py      README.md      src.png\n",
            "demo.ipynb\t     LICENSE\t      src\t     supervised.py\n",
            "en-fr.5000-6500.txt  outline_all.png  src_mused.png  unsupervised.py\n"
          ]
        }
      ]
    },
    {
      "cell_type": "code",
      "source": [
        "def get_nn_2(word, src_emb, src_id2word, tgt_emb, tgt_id2word, K=5):\n",
        "    #print(\"Nearest neighbors of \\\"%s\\\":\" % word)\n",
        "    word2id = {v: k for k, v in src_id2word.items()}\n",
        "    word_emb = src_emb[word2id[word]]\n",
        "    scores = (tgt_emb / np.linalg.norm(tgt_emb, 2, 1)[:, None]).dot(word_emb / np.linalg.norm(word_emb))\n",
        "    k_best = scores.argsort()[-K:][::-1]\n",
        "\n",
        "    final = []\n",
        "    for i, idx in enumerate(k_best):\n",
        "        final.append(tgt_id2word[idx])\n",
        "        #print('%.4f - %s' % (scores[idx], tgt_id2word[idx]))\n",
        "\n",
        "    return final\n",
        "\n",
        "def closest_k2(word, K=5):\n",
        "  return get_nn_2(word, src_mused_embeddings, src_id2word, tgt_embeddings, tgt_id2word, K=K)"
      ],
      "metadata": {
        "id": "e60mKhoM-II_"
      },
      "execution_count": 26,
      "outputs": []
    },
    {
      "cell_type": "code",
      "source": [
        "import pandas as pd\n",
        "\n",
        "df = pd.read_table('en-fr.5000-6500.txt', sep='\\s+')"
      ],
      "metadata": {
        "id": "3WzebuJcBlH3"
      },
      "execution_count": 28,
      "outputs": []
    },
    {
      "cell_type": "code",
      "source": [
        "df.head()"
      ],
      "metadata": {
        "colab": {
          "base_uri": "https://localhost:8080/",
          "height": 204
        },
        "id": "zSGCysVgDtqP",
        "outputId": "48a699d9-675c-4eb2-913e-21eb5114ca40"
      },
      "execution_count": 29,
      "outputs": [
        {
          "output_type": "execute_result",
          "data": {
            "text/plain": [
              "    torpedo    torpille\n",
              "0   torpedo   torpilles\n",
              "1  giovanni    giovanni\n",
              "2      chat    discuter\n",
              "3      chat  discussion\n",
              "4      chat    causerie"
            ],
            "text/html": [
              "\n",
              "  <div id=\"df-900cbde0-8690-460c-a451-7b7b9866f383\">\n",
              "    <div class=\"colab-df-container\">\n",
              "      <div>\n",
              "<style scoped>\n",
              "    .dataframe tbody tr th:only-of-type {\n",
              "        vertical-align: middle;\n",
              "    }\n",
              "\n",
              "    .dataframe tbody tr th {\n",
              "        vertical-align: top;\n",
              "    }\n",
              "\n",
              "    .dataframe thead th {\n",
              "        text-align: right;\n",
              "    }\n",
              "</style>\n",
              "<table border=\"1\" class=\"dataframe\">\n",
              "  <thead>\n",
              "    <tr style=\"text-align: right;\">\n",
              "      <th></th>\n",
              "      <th>torpedo</th>\n",
              "      <th>torpille</th>\n",
              "    </tr>\n",
              "  </thead>\n",
              "  <tbody>\n",
              "    <tr>\n",
              "      <th>0</th>\n",
              "      <td>torpedo</td>\n",
              "      <td>torpilles</td>\n",
              "    </tr>\n",
              "    <tr>\n",
              "      <th>1</th>\n",
              "      <td>giovanni</td>\n",
              "      <td>giovanni</td>\n",
              "    </tr>\n",
              "    <tr>\n",
              "      <th>2</th>\n",
              "      <td>chat</td>\n",
              "      <td>discuter</td>\n",
              "    </tr>\n",
              "    <tr>\n",
              "      <th>3</th>\n",
              "      <td>chat</td>\n",
              "      <td>discussion</td>\n",
              "    </tr>\n",
              "    <tr>\n",
              "      <th>4</th>\n",
              "      <td>chat</td>\n",
              "      <td>causerie</td>\n",
              "    </tr>\n",
              "  </tbody>\n",
              "</table>\n",
              "</div>\n",
              "      <button class=\"colab-df-convert\" onclick=\"convertToInteractive('df-900cbde0-8690-460c-a451-7b7b9866f383')\"\n",
              "              title=\"Convert this dataframe to an interactive table.\"\n",
              "              style=\"display:none;\">\n",
              "        \n",
              "  <svg xmlns=\"http://www.w3.org/2000/svg\" height=\"24px\"viewBox=\"0 0 24 24\"\n",
              "       width=\"24px\">\n",
              "    <path d=\"M0 0h24v24H0V0z\" fill=\"none\"/>\n",
              "    <path d=\"M18.56 5.44l.94 2.06.94-2.06 2.06-.94-2.06-.94-.94-2.06-.94 2.06-2.06.94zm-11 1L8.5 8.5l.94-2.06 2.06-.94-2.06-.94L8.5 2.5l-.94 2.06-2.06.94zm10 10l.94 2.06.94-2.06 2.06-.94-2.06-.94-.94-2.06-.94 2.06-2.06.94z\"/><path d=\"M17.41 7.96l-1.37-1.37c-.4-.4-.92-.59-1.43-.59-.52 0-1.04.2-1.43.59L10.3 9.45l-7.72 7.72c-.78.78-.78 2.05 0 2.83L4 21.41c.39.39.9.59 1.41.59.51 0 1.02-.2 1.41-.59l7.78-7.78 2.81-2.81c.8-.78.8-2.07 0-2.86zM5.41 20L4 18.59l7.72-7.72 1.47 1.35L5.41 20z\"/>\n",
              "  </svg>\n",
              "      </button>\n",
              "      \n",
              "  <style>\n",
              "    .colab-df-container {\n",
              "      display:flex;\n",
              "      flex-wrap:wrap;\n",
              "      gap: 12px;\n",
              "    }\n",
              "\n",
              "    .colab-df-convert {\n",
              "      background-color: #E8F0FE;\n",
              "      border: none;\n",
              "      border-radius: 50%;\n",
              "      cursor: pointer;\n",
              "      display: none;\n",
              "      fill: #1967D2;\n",
              "      height: 32px;\n",
              "      padding: 0 0 0 0;\n",
              "      width: 32px;\n",
              "    }\n",
              "\n",
              "    .colab-df-convert:hover {\n",
              "      background-color: #E2EBFA;\n",
              "      box-shadow: 0px 1px 2px rgba(60, 64, 67, 0.3), 0px 1px 3px 1px rgba(60, 64, 67, 0.15);\n",
              "      fill: #174EA6;\n",
              "    }\n",
              "\n",
              "    [theme=dark] .colab-df-convert {\n",
              "      background-color: #3B4455;\n",
              "      fill: #D2E3FC;\n",
              "    }\n",
              "\n",
              "    [theme=dark] .colab-df-convert:hover {\n",
              "      background-color: #434B5C;\n",
              "      box-shadow: 0px 1px 3px 1px rgba(0, 0, 0, 0.15);\n",
              "      filter: drop-shadow(0px 1px 2px rgba(0, 0, 0, 0.3));\n",
              "      fill: #FFFFFF;\n",
              "    }\n",
              "  </style>\n",
              "\n",
              "      <script>\n",
              "        const buttonEl =\n",
              "          document.querySelector('#df-900cbde0-8690-460c-a451-7b7b9866f383 button.colab-df-convert');\n",
              "        buttonEl.style.display =\n",
              "          google.colab.kernel.accessAllowed ? 'block' : 'none';\n",
              "\n",
              "        async function convertToInteractive(key) {\n",
              "          const element = document.querySelector('#df-900cbde0-8690-460c-a451-7b7b9866f383');\n",
              "          const dataTable =\n",
              "            await google.colab.kernel.invokeFunction('convertToInteractive',\n",
              "                                                     [key], {});\n",
              "          if (!dataTable) return;\n",
              "\n",
              "          const docLinkHtml = 'Like what you see? Visit the ' +\n",
              "            '<a target=\"_blank\" href=https://colab.research.google.com/notebooks/data_table.ipynb>data table notebook</a>'\n",
              "            + ' to learn more about interactive tables.';\n",
              "          element.innerHTML = '';\n",
              "          dataTable['output_type'] = 'display_data';\n",
              "          await google.colab.output.renderOutput(dataTable, element);\n",
              "          const docLink = document.createElement('div');\n",
              "          docLink.innerHTML = docLinkHtml;\n",
              "          element.appendChild(docLink);\n",
              "        }\n",
              "      </script>\n",
              "    </div>\n",
              "  </div>\n",
              "  "
            ]
          },
          "metadata": {},
          "execution_count": 29
        }
      ]
    },
    {
      "cell_type": "code",
      "source": [
        "\n",
        "def is_translation(english, french, k=5):\n",
        "    translated_results = closest_k2(french, K=k)\n",
        "    \n",
        "    return english in translated_results"
      ],
      "metadata": {
        "id": "vof4pE26DGAy"
      },
      "execution_count": 37,
      "outputs": []
    },
    {
      "cell_type": "code",
      "source": [
        "def get_accuracy(k=5, nmax=100):\n",
        "  translations = df[:nmax].apply(lambda x: is_translation(x['torpedo'], x['torpille'], k=k), axis=1)\n",
        "  dic = (translations.value_counts().to_dict())\n",
        "  \n",
        "  if not dic[True]:\n",
        "    return 0\n",
        "\n",
        "  if not dic[False]:\n",
        "    if dic[True]:\n",
        "      return 1\n",
        "    return 0\n",
        "  return  dic[True] / (dic[True] + dic[False])"
      ],
      "metadata": {
        "id": "ye3nc4S4Gpnm"
      },
      "execution_count": 63,
      "outputs": []
    },
    {
      "cell_type": "code",
      "source": [
        "%%time\n",
        "get_accuracy(k=5, nmax=1000)"
      ],
      "metadata": {
        "colab": {
          "base_uri": "https://localhost:8080/"
        },
        "id": "WVX59X_-HBKZ",
        "outputId": "489fce34-c38a-41a6-8898-c2ee35d8a5bc"
      },
      "execution_count": 66,
      "outputs": [
        {
          "output_type": "stream",
          "name": "stdout",
          "text": [
            "CPU times: user 17min 19s, sys: 3min 31s, total: 20min 51s\n",
            "Wall time: 17min 30s\n"
          ]
        },
        {
          "output_type": "execute_result",
          "data": {
            "text/plain": [
              "0.692"
            ]
          },
          "metadata": {},
          "execution_count": 66
        }
      ]
    },
    {
      "cell_type": "code",
      "source": [
        "%%time\n",
        "get_accuracy(k=1, nmax=1000)"
      ],
      "metadata": {
        "colab": {
          "base_uri": "https://localhost:8080/"
        },
        "id": "-SAxANsMHP4i",
        "outputId": "852f1930-6037-496d-a5f0-a53e4edd48a1"
      },
      "execution_count": 67,
      "outputs": [
        {
          "output_type": "stream",
          "name": "stdout",
          "text": [
            "CPU times: user 17min 26s, sys: 3min 33s, total: 21min\n",
            "Wall time: 17min 37s\n"
          ]
        },
        {
          "output_type": "execute_result",
          "data": {
            "text/plain": [
              "0.498"
            ]
          },
          "metadata": {},
          "execution_count": 67
        }
      ]
    },
    {
      "cell_type": "code",
      "source": [],
      "metadata": {
        "id": "QbhQl7ESgDiV"
      },
      "execution_count": null,
      "outputs": []
    }
  ],
  "metadata": {
    "accelerator": "GPU",
    "colab": {
      "provenance": [],
      "collapsed_sections": [
        "OdJi0t01bK4w",
        "KLTloWrXUPjX",
        "vIBh8insUSc-"
      ],
      "include_colab_link": true
    },
    "gpuClass": "standard",
    "kernelspec": {
      "display_name": "Python 3",
      "language": "python",
      "name": "python3"
    },
    "language_info": {
      "name": "python",
      "version": "3.10.6 (main, Nov 14 2022, 16:10:14) [GCC 11.3.0]"
    },
    "vscode": {
      "interpreter": {
        "hash": "e7370f93d1d0cde622a1f8e1c04877d8463912d04d973331ad4851f04de6915a"
      }
    }
  },
  "nbformat": 4,
  "nbformat_minor": 0
}